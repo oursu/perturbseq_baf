{
 "cells": [
  {
   "cell_type": "code",
   "execution_count": 1,
   "id": "e2cc9a9f",
   "metadata": {},
   "outputs": [
    {
     "name": "stderr",
     "output_type": "stream",
     "text": [
      "WARNING: If you miss a compact list, please try `print_header`!\n"
     ]
    },
    {
     "name": "stdout",
     "output_type": "stream",
     "text": [
      "The `sinfo` package has changed name and is now called `session_info` to become more discoverable and self-explanatory. The `sinfo` PyPI package will be kept around to avoid breaking old installs and you can downgrade to 0.3.2 if you want to use it without seeing this message. For the latest features and bug fixes, please install `session_info` instead. The usage and defaults also changed slightly, so please review the latest README at https://gitlab.com/joelostblom/session_info.\n",
      "-----\n",
      "anndata     0.7.6\n",
      "scanpy      1.7.2\n",
      "sinfo       0.3.4\n",
      "-----\n",
      "PIL                 8.2.0\n",
      "anyio               NA\n",
      "appnope             0.1.2\n",
      "attr                20.3.0\n",
      "babel               2.9.0\n",
      "backcall            0.2.0\n",
      "bottleneck          1.3.2\n",
      "brotli              NA\n",
      "cairo               1.20.1\n",
      "certifi             2020.12.05\n",
      "cffi                1.14.5\n",
      "chardet             4.0.0\n",
      "cloudpickle         1.6.0\n",
      "colorama            0.4.4\n",
      "cycler              0.10.0\n",
      "cython_runtime      NA\n",
      "cytoolz             0.11.0\n",
      "dask                2021.04.0\n",
      "dateutil            2.8.1\n",
      "decorator           5.0.6\n",
      "dunamai             1.5.5\n",
      "fsspec              0.9.0\n",
      "get_version         3.2\n",
      "h5py                2.10.0\n",
      "idna                2.10\n",
      "igraph              0.7.1\n",
      "ipykernel           5.3.4\n",
      "ipython_genutils    0.2.0\n",
      "ipywidgets          7.6.3\n",
      "jedi                0.17.2\n",
      "jinja2              2.11.3\n",
      "joblib              1.0.1\n",
      "json5               NA\n",
      "jsonschema          3.2.0\n",
      "jupyter_server      1.4.1\n",
      "jupyterlab_server   2.4.0\n",
      "kiwisolver          1.3.1\n",
      "legacy_api_wrap     1.2\n",
      "leidenalg           0.7.0\n",
      "llvmlite            0.36.0\n",
      "markupsafe          1.1.1\n",
      "matplotlib          3.3.4\n",
      "mkl                 2.3.0\n",
      "mpl_toolkits        NA\n",
      "natsort             7.1.1\n",
      "nbclassic           NA\n",
      "nbformat            5.1.3\n",
      "numba               0.53.1\n",
      "numexpr             2.7.3\n",
      "numpy               1.20.1\n",
      "packaging           20.9\n",
      "pandas              1.2.4\n",
      "parso               0.7.0\n",
      "perturbseq          NA\n",
      "pexpect             4.8.0\n",
      "pickleshare         0.7.5\n",
      "pkg_resources       NA\n",
      "prometheus_client   NA\n",
      "prompt_toolkit      3.0.17\n",
      "psutil              5.8.0\n",
      "ptyprocess          0.7.0\n",
      "pvectorc            NA\n",
      "pygments            2.8.1\n",
      "pyparsing           2.4.7\n",
      "pyrsistent          NA\n",
      "pytz                2021.1\n",
      "requests            2.25.1\n",
      "scipy               1.6.2\n",
      "seaborn             0.11.1\n",
      "send2trash          NA\n",
      "six                 1.15.0\n",
      "sklearn             0.24.1\n",
      "sniffio             1.2.0\n",
      "socks               1.7.1\n",
      "sphinxcontrib       NA\n",
      "statsmodels         0.12.2\n",
      "storemagic          NA\n",
      "tables              3.6.1\n",
      "tblib               1.7.0\n",
      "tlz                 0.11.0\n",
      "toolz               0.11.1\n",
      "tornado             6.1\n",
      "traitlets           5.0.5\n",
      "typing_extensions   NA\n",
      "urllib3             1.26.4\n",
      "wcwidth             0.2.5\n",
      "yaml                5.4.1\n",
      "zmq                 20.0.0\n",
      "zope                NA\n",
      "-----\n",
      "IPython             7.22.0\n",
      "jupyter_client      6.1.12\n",
      "jupyter_core        4.7.1\n",
      "jupyterlab          3.0.14\n",
      "notebook            6.3.0\n",
      "-----\n",
      "Python 3.8.8 (default, Apr 13 2021, 12:59:45) [Clang 10.0.0 ]\n",
      "macOS-10.15.7-x86_64-i386-64bit\n",
      "8 logical CPU cores, i386\n",
      "-----\n",
      "Session information updated at 2022-05-06 22:29\n",
      "\n"
     ]
    }
   ],
   "source": [
    "import numpy as np\n",
    "import pandas as pd\n",
    "import scanpy as sc\n",
    "import sys\n",
    "#sys.path.append(\"/ahg/regevdata/projects/Cell2CellCommunication/code/MIMOSCA\")\n",
    "import perturbseq as perturb\n",
    "\n",
    "%matplotlib inline\n",
    "import matplotlib.pyplot as plt\n",
    "\n",
    "\n",
    "sc.settings.verbosity = 3  # verbosity: errors (0), warnings (1), info (2), hints (3)\n",
    "sc.settings.set_figure_params(dpi=200, color_map='viridis')\n",
    "sc.logging.print_versions()\n",
    "import matplotlib\n",
    "matplotlib.rcParams['pdf.fonttype'] = 42\n",
    "matplotlib.rcParams['ps.fonttype'] = 42"
   ]
  },
  {
   "cell_type": "code",
   "execution_count": 2,
   "id": "798bb369",
   "metadata": {},
   "outputs": [],
   "source": [
    "DATA=\"/Users/ursuo/Documents/research/baf/data/2022-03-27/single_guide\"\n",
    "FIGS=\"/Users/ursuo/Documents/research/baf/data/2022-03-27/Figures/\"\n",
    "pref=DATA+'/Baf.single_gene'"
   ]
  },
  {
   "cell_type": "code",
   "execution_count": 3,
   "id": "6754acc7",
   "metadata": {},
   "outputs": [
    {
     "name": "stderr",
     "output_type": "stream",
     "text": [
      "WARNING: Your filename has more than two extensions: ['.single_gene', '.guide_qc', '.h5ad'].\n",
      "Only considering the two last: ['.guide_qc', '.h5ad'].\n",
      "WARNING: Your filename has more than two extensions: ['.single_gene', '.guide_qc', '.h5ad'].\n",
      "Only considering the two last: ['.guide_qc', '.h5ad'].\n"
     ]
    },
    {
     "data": {
      "text/plain": [
       "AnnData object with n_obs × n_vars = 52152 × 21868\n",
       "    obs: 'batch', 'n_genes', 'percent_mito', 'n_counts', 'batch_num11', 'batch_num3', 'batch_num0', 'batch_num12', 'batch_num4', 'batch_num9', 'batch_num6', 'batch_num5', 'batch_num14', 'batch_num8', 'batch_num13', 'batch_num2', 'batch_num10', 'batch_num1', 'batch_num7', 'louvain', 'SMARCC2_3', 'BCL7C_4', 'BRD7_4', 'ACTL6B_2', 'PBRM1_4', 'SMARCA2_1', 'SMARCE1_1', 'PBRM1_3', 'SMARCE1_2', 'GLTSCR1L_3', 'PHF10_3', 'BRD7_3', 'GLTSCR1L_2', 'ARID2_4', 'ARID1A_3', 'SS18_2', 'DPF1_3', 'SMARCA4_1', 'DPF3_2', 'ACTL6A_3', 'DPF3_3', 'SMARCA4_7', 'PBRM1_1', 'BCL7A_2', 'ARID1A_7', 'BCL7C_3', 'GLTSCR1_1', 'SMARCD3_1', 'GLTSCR1_4', 'DPF1_1', 'SMARCD1_2', 'SMARCD3_3', 'SMARCE1_3', 'ARID1B_1', 'BCL7C_1', 'NTC6_IG1216445', 'SMARCC2_1', 'SMARCA4_5', 'ARID1B_2', 'ARID2_2', 'BCL7A_3', 'DPF2_3', 'SMARCE1_4', 'PHF10_1', 'BRD9_1', 'SMARCD2_1', 'SMARCC1_1', 'SMARCD2_2', 'SMARCC1_5', 'NTC1_IG345439', 'DPF1_4', 'ACTL6B_4', 'PHF10_4', 'SMARCA2_2', 'ACTL6A_2', 'SS18L_4', 'DPF1_2', 'BRD7_1', 'SMARCC2_2', 'DPF2_1', 'SMARCB1_1', 'BCL7B_4', 'SMARCB1_8', 'SMARCB1_7', 'SMARCA2_4', 'BCL7A_1', 'BCL7A_4', 'ARID2_1', 'SMARCD2_3', 'BRD7_2', 'ARID1B_4', 'SS18L_3', 'GLTSCR1L_1', 'BRD9_3', 'GLTSCR1_3', 'SMARCD2_4', 'ARID1A_2', 'SS18_3', 'BRD9_4', 'SMARCD1_4', 'NTC7_IG1144056', 'SMARCD1_1', 'PBRM1_2', 'NTC2_IG216151', 'ACTL6A_4', 'SS18L_1', 'SMARCC1_2', 'BCL7B_2', 'BCL7C_2', 'BCL7B_3', 'SMARCD3_4', 'ACTL6B_1', 'SS18_4', 'SMARCD1_3', 'SMARCC1_7', 'SMARCA2_3', 'ARID1A_5', 'SMARCC2_4', 'DPF3_4', 'DPF2_2', 'SS18_1', 'ACTL6B_3', 'SMARCB1_5', 'PHF10_2', 'DPF3_1', 'SMARCD3_2', 'NTC5_mNTC100A67005', 'ARID2_3', 'ACTL6A_1', 'BRD9_2', 'SS18L_2', 'ARID1B_3', 'SMARCA4_4', 'BCL7B_1', 'GLTSCR1L_4', 'DPF2_4', 'ARID2', 'SMARCC2', 'DPF1', 'BRD9', 'BCL7C', 'DPF2', 'SMARCD2', 'BCL7B', 'SS18L', 'BRD7', 'control', 'PHF10', 'SMARCB1', 'SMARCD3', 'GLTSCR1L', 'SMARCC1', 'ACTL6A', 'GLTSCR1', 'PBRM1', 'ARID1B', 'ACTL6B', 'SS18', 'SMARCA2', 'ARID1A', 'DPF3', 'SMARCD1', 'SMARCE1', 'BCL7A', 'SMARCA4', 'guide', 'guide.compact', 'gene', 'gene.compact', 'unassigned', 'perturbs_per_cell.guide', 'cell_state', 'guide_qc', 'profile', 'guide.compact.with_control'\n",
       "    var: 'n_cells', 'highly_variable', 'means', 'dispersions', 'dispersions_norm'\n",
       "    uns: 'Detection_probability', 'MOI', 'cell_state_colors', 'cells_per_condition.gene.incl_multi_inf', 'cells_per_condition.guide.incl_multi_inf', 'cells_per_individual_perturb.gene.incl_multi_inf', 'cells_per_individual_perturb.gene.singly_inf', 'cells_per_individual_perturb.guide.incl_multi_inf', 'cells_per_individual_perturb.guide.singly_inf', 'guide2gene', 'louvain', 'louvain_colors', 'neighbors', 'pca', 'sorted_genes', 'sorted_guides', 'target_gene_expr_in_control', 'umap'\n",
       "    obsm: 'X_pca', 'X_umap'\n",
       "    varm: 'PCs'\n",
       "    obsp: 'connectivities', 'distances'"
      ]
     },
     "execution_count": 3,
     "metadata": {},
     "output_type": "execute_result"
    }
   ],
   "source": [
    "adata=sc.read(pref+'.guide_qc.h5ad')\n",
    "adata"
   ]
  },
  {
   "cell_type": "code",
   "execution_count": 4,
   "id": "fb2dd93a",
   "metadata": {},
   "outputs": [
    {
     "name": "stdout",
     "output_type": "stream",
     "text": [
      "38677\n"
     ]
    },
    {
     "data": {
      "text/plain": [
       "AnnData object with n_obs × n_vars = 38677 × 21868\n",
       "    obs: 'batch', 'n_genes', 'percent_mito', 'n_counts', 'batch_num11', 'batch_num3', 'batch_num0', 'batch_num12', 'batch_num4', 'batch_num9', 'batch_num6', 'batch_num5', 'batch_num14', 'batch_num8', 'batch_num13', 'batch_num2', 'batch_num10', 'batch_num1', 'batch_num7', 'louvain', 'SMARCC2_3', 'BCL7C_4', 'BRD7_4', 'ACTL6B_2', 'PBRM1_4', 'SMARCA2_1', 'SMARCE1_1', 'PBRM1_3', 'SMARCE1_2', 'GLTSCR1L_3', 'PHF10_3', 'BRD7_3', 'GLTSCR1L_2', 'ARID2_4', 'ARID1A_3', 'SS18_2', 'DPF1_3', 'SMARCA4_1', 'DPF3_2', 'ACTL6A_3', 'DPF3_3', 'SMARCA4_7', 'PBRM1_1', 'BCL7A_2', 'ARID1A_7', 'BCL7C_3', 'GLTSCR1_1', 'SMARCD3_1', 'GLTSCR1_4', 'DPF1_1', 'SMARCD1_2', 'SMARCD3_3', 'SMARCE1_3', 'ARID1B_1', 'BCL7C_1', 'NTC6_IG1216445', 'SMARCC2_1', 'SMARCA4_5', 'ARID1B_2', 'ARID2_2', 'BCL7A_3', 'DPF2_3', 'SMARCE1_4', 'PHF10_1', 'BRD9_1', 'SMARCD2_1', 'SMARCC1_1', 'SMARCD2_2', 'SMARCC1_5', 'NTC1_IG345439', 'DPF1_4', 'ACTL6B_4', 'PHF10_4', 'SMARCA2_2', 'ACTL6A_2', 'SS18L_4', 'DPF1_2', 'BRD7_1', 'SMARCC2_2', 'DPF2_1', 'SMARCB1_1', 'BCL7B_4', 'SMARCB1_8', 'SMARCB1_7', 'SMARCA2_4', 'BCL7A_1', 'BCL7A_4', 'ARID2_1', 'SMARCD2_3', 'BRD7_2', 'ARID1B_4', 'SS18L_3', 'GLTSCR1L_1', 'BRD9_3', 'GLTSCR1_3', 'SMARCD2_4', 'ARID1A_2', 'SS18_3', 'BRD9_4', 'SMARCD1_4', 'NTC7_IG1144056', 'SMARCD1_1', 'PBRM1_2', 'NTC2_IG216151', 'ACTL6A_4', 'SS18L_1', 'SMARCC1_2', 'BCL7B_2', 'BCL7C_2', 'BCL7B_3', 'SMARCD3_4', 'ACTL6B_1', 'SS18_4', 'SMARCD1_3', 'SMARCC1_7', 'SMARCA2_3', 'ARID1A_5', 'SMARCC2_4', 'DPF3_4', 'DPF2_2', 'SS18_1', 'ACTL6B_3', 'SMARCB1_5', 'PHF10_2', 'DPF3_1', 'SMARCD3_2', 'NTC5_mNTC100A67005', 'ARID2_3', 'ACTL6A_1', 'BRD9_2', 'SS18L_2', 'ARID1B_3', 'SMARCA4_4', 'BCL7B_1', 'GLTSCR1L_4', 'DPF2_4', 'ARID2', 'SMARCC2', 'DPF1', 'BRD9', 'BCL7C', 'DPF2', 'SMARCD2', 'BCL7B', 'SS18L', 'BRD7', 'control', 'PHF10', 'SMARCB1', 'SMARCD3', 'GLTSCR1L', 'SMARCC1', 'ACTL6A', 'GLTSCR1', 'PBRM1', 'ARID1B', 'ACTL6B', 'SS18', 'SMARCA2', 'ARID1A', 'DPF3', 'SMARCD1', 'SMARCE1', 'BCL7A', 'SMARCA4', 'guide', 'guide.compact', 'gene', 'gene.compact', 'unassigned', 'perturbs_per_cell.guide', 'cell_state', 'guide_qc', 'profile', 'guide.compact.with_control'\n",
       "    var: 'n_cells', 'highly_variable', 'means', 'dispersions', 'dispersions_norm'\n",
       "    uns: 'Detection_probability', 'MOI', 'cell_state_colors', 'cells_per_condition.gene.incl_multi_inf', 'cells_per_condition.guide.incl_multi_inf', 'cells_per_individual_perturb.gene.incl_multi_inf', 'cells_per_individual_perturb.gene.singly_inf', 'cells_per_individual_perturb.guide.incl_multi_inf', 'cells_per_individual_perturb.guide.singly_inf', 'guide2gene', 'louvain', 'louvain_colors', 'neighbors', 'pca', 'sorted_genes', 'sorted_guides', 'target_gene_expr_in_control', 'umap'\n",
       "    obsm: 'X_pca', 'X_umap'\n",
       "    varm: 'PCs'\n",
       "    obsp: 'connectivities', 'distances'"
      ]
     },
     "execution_count": 4,
     "metadata": {},
     "output_type": "execute_result"
    }
   ],
   "source": [
    "#filter \n",
    "#- working guides\n",
    "#- cell state 1\n",
    "\n",
    "#FILTERING\n",
    "cell_state_cells=set(adata.obs_names[adata.obs['cell_state']=='state1'])\n",
    "guide_qc_cells=set(adata.obs_names[adata.obs['guide_qc']=='passed'])\n",
    "keep=list(cell_state_cells.intersection(guide_qc_cells))\n",
    "print(len(keep))\n",
    "\n",
    "adata=adata[keep,:]\n",
    "adata._init_as_actual(adata.copy())\n",
    "adata"
   ]
  },
  {
   "cell_type": "code",
   "execution_count": 5,
   "id": "04dffa44",
   "metadata": {},
   "outputs": [],
   "source": [
    "#DE analysis using scanpy\n",
    "\n",
    "def DE(adata_here,reference,groupby,fdr=0.01,use_raw=False,compute_lfc=False):\n",
    "\n",
    "    if use_raw:\n",
    "        genes=adata_here.raw.var_names\n",
    "    else:\n",
    "        genes=adata_here.var_names\n",
    "        \n",
    "    groupby_options=list(set(adata_here.obs[groupby]).difference(set([reference])))\n",
    "\n",
    "    sc.tl.rank_genes_groups(adata_here,groupby=groupby,n_genes=len(genes), \n",
    "                            reference=reference,\n",
    "                            use_raw=use_raw,rankby_abs=True,\n",
    "                            method='t-test_overestim_var',\n",
    "                            #corr_method='bonferroni',\n",
    "                           )\n",
    "\n",
    "    pval_mat=pd.DataFrame(index=groupby_options,columns=genes,dtype=float)\n",
    "    sign_mat=pd.DataFrame(index=groupby_options,columns=genes,dtype=float)\n",
    "    \n",
    "    #bulkify\n",
    "    bulk=perturb.tl.bulk(adata_here,grouping_variable=groupby,by_batch=False,\n",
    "                         return_matrix=True)\n",
    "    #subtract the control from the bulk to get the sign\n",
    "    sign_mat_full=bulk-bulk.loc[reference,:]\n",
    "    \n",
    "    if compute_lfc:\n",
    "        lfc_mat=pd.DataFrame(index=groupby_options,columns=genes,dtype=float)\n",
    "    \n",
    "    for groupby_option in groupby_options:\n",
    "        if groupby_option==reference:\n",
    "            continue\n",
    "        df_here=sc.get.rank_genes_groups_df(adata_here,group=groupby_option)\n",
    "        df_here.index=list(df_here['names'])\n",
    "        #pvalue\n",
    "        pval_mat.loc[groupby_option,:]=df_here.loc[genes,'pvals_adj']\n",
    "        if compute_lfc:\n",
    "            lfc_mat.loc[groupby_option,:]=df_here.loc[genes,'logfoldchanges']\n",
    "        sign_mat.loc[groupby_option,:]=np.sign(sign_mat_full.loc[groupby_option,genes])\n",
    "        \n",
    "    signed_pval_mat=pd.DataFrame(np.multiply(-np.log10(pval_mat),np.sign(sign_mat)),\n",
    "                                 index=groupby_options,columns=genes,dtype=float)\n",
    "    return(signed_pval_mat)\n"
   ]
  },
  {
   "cell_type": "code",
   "execution_count": 6,
   "id": "6efcb881",
   "metadata": {},
   "outputs": [
    {
     "data": {
      "text/plain": [
       "AnnData object with n_obs × n_vars = 38677 × 21868\n",
       "    obs: 'batch', 'n_genes', 'percent_mito', 'n_counts', 'batch_num11', 'batch_num3', 'batch_num0', 'batch_num12', 'batch_num4', 'batch_num9', 'batch_num6', 'batch_num5', 'batch_num14', 'batch_num8', 'batch_num13', 'batch_num2', 'batch_num10', 'batch_num1', 'batch_num7', 'louvain', 'SMARCC2_3', 'BCL7C_4', 'BRD7_4', 'ACTL6B_2', 'PBRM1_4', 'SMARCA2_1', 'SMARCE1_1', 'PBRM1_3', 'SMARCE1_2', 'GLTSCR1L_3', 'PHF10_3', 'BRD7_3', 'GLTSCR1L_2', 'ARID2_4', 'ARID1A_3', 'SS18_2', 'DPF1_3', 'SMARCA4_1', 'DPF3_2', 'ACTL6A_3', 'DPF3_3', 'SMARCA4_7', 'PBRM1_1', 'BCL7A_2', 'ARID1A_7', 'BCL7C_3', 'GLTSCR1_1', 'SMARCD3_1', 'GLTSCR1_4', 'DPF1_1', 'SMARCD1_2', 'SMARCD3_3', 'SMARCE1_3', 'ARID1B_1', 'BCL7C_1', 'NTC6_IG1216445', 'SMARCC2_1', 'SMARCA4_5', 'ARID1B_2', 'ARID2_2', 'BCL7A_3', 'DPF2_3', 'SMARCE1_4', 'PHF10_1', 'BRD9_1', 'SMARCD2_1', 'SMARCC1_1', 'SMARCD2_2', 'SMARCC1_5', 'NTC1_IG345439', 'DPF1_4', 'ACTL6B_4', 'PHF10_4', 'SMARCA2_2', 'ACTL6A_2', 'SS18L_4', 'DPF1_2', 'BRD7_1', 'SMARCC2_2', 'DPF2_1', 'SMARCB1_1', 'BCL7B_4', 'SMARCB1_8', 'SMARCB1_7', 'SMARCA2_4', 'BCL7A_1', 'BCL7A_4', 'ARID2_1', 'SMARCD2_3', 'BRD7_2', 'ARID1B_4', 'SS18L_3', 'GLTSCR1L_1', 'BRD9_3', 'GLTSCR1_3', 'SMARCD2_4', 'ARID1A_2', 'SS18_3', 'BRD9_4', 'SMARCD1_4', 'NTC7_IG1144056', 'SMARCD1_1', 'PBRM1_2', 'NTC2_IG216151', 'ACTL6A_4', 'SS18L_1', 'SMARCC1_2', 'BCL7B_2', 'BCL7C_2', 'BCL7B_3', 'SMARCD3_4', 'ACTL6B_1', 'SS18_4', 'SMARCD1_3', 'SMARCC1_7', 'SMARCA2_3', 'ARID1A_5', 'SMARCC2_4', 'DPF3_4', 'DPF2_2', 'SS18_1', 'ACTL6B_3', 'SMARCB1_5', 'PHF10_2', 'DPF3_1', 'SMARCD3_2', 'NTC5_mNTC100A67005', 'ARID2_3', 'ACTL6A_1', 'BRD9_2', 'SS18L_2', 'ARID1B_3', 'SMARCA4_4', 'BCL7B_1', 'GLTSCR1L_4', 'DPF2_4', 'ARID2', 'SMARCC2', 'DPF1', 'BRD9', 'BCL7C', 'DPF2', 'SMARCD2', 'BCL7B', 'SS18L', 'BRD7', 'control', 'PHF10', 'SMARCB1', 'SMARCD3', 'GLTSCR1L', 'SMARCC1', 'ACTL6A', 'GLTSCR1', 'PBRM1', 'ARID1B', 'ACTL6B', 'SS18', 'SMARCA2', 'ARID1A', 'DPF3', 'SMARCD1', 'SMARCE1', 'BCL7A', 'SMARCA4', 'guide', 'guide.compact', 'gene', 'gene.compact', 'unassigned', 'perturbs_per_cell.guide', 'cell_state', 'guide_qc', 'profile', 'guide.compact.with_control'\n",
       "    var: 'n_cells', 'highly_variable', 'means', 'dispersions', 'dispersions_norm'\n",
       "    uns: 'Detection_probability', 'MOI', 'cell_state_colors', 'cells_per_condition.gene.incl_multi_inf', 'cells_per_condition.guide.incl_multi_inf', 'cells_per_individual_perturb.gene.incl_multi_inf', 'cells_per_individual_perturb.gene.singly_inf', 'cells_per_individual_perturb.guide.incl_multi_inf', 'cells_per_individual_perturb.guide.singly_inf', 'guide2gene', 'louvain', 'louvain_colors', 'neighbors', 'pca', 'sorted_genes', 'sorted_guides', 'target_gene_expr_in_control', 'umap'\n",
       "    obsm: 'X_pca', 'X_umap'\n",
       "    varm: 'PCs'\n",
       "    obsp: 'connectivities', 'distances'"
      ]
     },
     "execution_count": 6,
     "metadata": {},
     "output_type": "execute_result"
    }
   ],
   "source": [
    "adata"
   ]
  },
  {
   "cell_type": "markdown",
   "id": "b5b528d1",
   "metadata": {},
   "source": [
    "Note\n",
    "==\n",
    "\n",
    "In my old analyses (notebook 2020-11-24_FastFigures), i had used raw expression during the DE test. That accounts for the qualitative differences. We will use the batch-corrected z-scored data, for the paper and correct this error.\n",
    "\n",
    "To be conservative and consistent with Alex, using the raw data.\n",
    "\n",
    "\n",
    "\n"
   ]
  },
  {
   "cell_type": "code",
   "execution_count": 47,
   "id": "e517090e",
   "metadata": {},
   "outputs": [
    {
     "name": "stderr",
     "output_type": "stream",
     "text": [
      "ranking genes\n",
      "/Users/ursuo/anaconda3/lib/python3.8/site-packages/scanpy/tools/_rank_genes_groups.py:419: RuntimeWarning: invalid value encountered in log2\n",
      "  self.stats[group_name, 'logfoldchanges'] = np.log2(\n",
      "    finished: added to `.uns['rank_genes_groups']`\n",
      "    'names', sorted np.recarray to be indexed by group ids\n",
      "    'scores', sorted np.recarray to be indexed by group ids\n",
      "    'logfoldchanges', sorted np.recarray to be indexed by group ids\n",
      "    'pvals', sorted np.recarray to be indexed by group ids\n",
      "    'pvals_adj', sorted np.recarray to be indexed by group ids (0:00:08)\n"
     ]
    }
   ],
   "source": [
    "FDR=0.01\n",
    "de_single=DE(adata,reference='control',groupby='gene.compact',\n",
    "             fdr=FDR,use_raw=False)"
   ]
  },
  {
   "cell_type": "code",
   "execution_count": 48,
   "id": "e167f4c1",
   "metadata": {},
   "outputs": [],
   "source": [
    "import copy\n",
    "signed_pval_mat=de_single"
   ]
  },
  {
   "cell_type": "markdown",
   "id": "a3b1c02b",
   "metadata": {},
   "source": [
    "Venns\n",
    "=="
   ]
  },
  {
   "cell_type": "code",
   "execution_count": 49,
   "id": "93a9e6d9",
   "metadata": {},
   "outputs": [],
   "source": [
    "#Import libraries\n",
    "from matplotlib_venn import venn2, venn2_circles, venn2_unweighted\n",
    "from matplotlib_venn import venn3, venn3_circles\n",
    "from matplotlib import pyplot as plt\n",
    "%matplotlib inline"
   ]
  },
  {
   "cell_type": "markdown",
   "id": "56ddb6f1",
   "metadata": {},
   "source": [
    "SMARCA4 comparisons\n",
    "==="
   ]
  },
  {
   "cell_type": "code",
   "execution_count": 50,
   "id": "fb42da8d",
   "metadata": {},
   "outputs": [
    {
     "name": "stderr",
     "output_type": "stream",
     "text": [
      "/Users/ursuo/anaconda3/lib/python3.8/site-packages/pandas/core/computation/expressions.py:204: UserWarning: evaluating in Python space because the '+' operator is not supported by numexpr for the bool dtype, use '|' instead\n",
      "  warnings.warn(\n",
      "/Users/ursuo/anaconda3/lib/python3.8/site-packages/pandas/core/computation/expressions.py:204: UserWarning: evaluating in Python space because the '+' operator is not supported by numexpr for the bool dtype, use '|' instead\n",
      "  warnings.warn(\n"
     ]
    },
    {
     "name": "stdout",
     "output_type": "stream",
     "text": [
      "21868\n",
      "[[  738   605]\n",
      " [ 1023 19502]]\n",
      "(23.25436610843169, 0.0)\n",
      "fraction of  ARID1A genes 0.4190800681431005\n",
      "1.2198347107438017 0.04678068410462777 26.07560650493202\n"
     ]
    },
    {
     "data": {
      "image/png": "[encoded data removed]",
      "text/plain": [
       "<Figure size 432x288 with 1 Axes>"
      ]
     },
     "metadata": {},
     "output_type": "display_data"
    }
   ],
   "source": [
    "#smarca4 + each complex\n",
    "\n",
    "fdr_log=2\n",
    "\n",
    "gene='ARID1A'\n",
    "#get the data for the venn\n",
    "baf_dict={'SMARCA4':['SMARCA4'],\n",
    "         gene:[gene]}\n",
    "baf_DEs={}\n",
    "#intersect all DE genes by complex \n",
    "for baf in baf_dict:\n",
    "    genes=baf_dict[baf]\n",
    "    pvals=signed_pval_mat.loc[genes,:]\n",
    "    mins=pvals.min(axis=0)\n",
    "    maxs=pvals.max(axis=0)\n",
    "    mins_sig=(np.abs(mins)>=fdr_log)   \n",
    "    maxs_sig=(np.abs(maxs)>=fdr_log)\n",
    "    same_sign=(np.sign(mins)==np.sign(maxs))\n",
    "    keep=(mins_sig+maxs_sig)>0\n",
    "    keep_genes=signed_pval_mat.columns[keep]\n",
    "    baf_DEs[baf]=keep_genes\n",
    "    \n",
    "subsets=[]\n",
    "s=set(baf_DEs['SMARCA4'])\n",
    "gene_de=set(baf_DEs[gene])\n",
    "\n",
    "s_genes=list(s)\n",
    "gene_de_genes=list(gene_de)\n",
    "overlap_genes=list(s.intersection(gene_de))\n",
    "\n",
    "subsets.append(len(s.difference(gene_de)))\n",
    "subsets.append(len(list(gene_de.difference(s))))\n",
    "subsets.append(len(overlap_genes))\n",
    "\n",
    "venn2(subsets = subsets,\n",
    "      set_labels = ('SMARCA4',gene), alpha = 0.5,\n",
    "     set_colors=['gray','blue']);\n",
    "\n",
    "\n",
    "#compute hypergeometric stats\n",
    "def hypergeom_test(g1,g2,overlap,totals):\n",
    "    \n",
    "    from scipy.stats import fisher_exact\n",
    "    #make 2x2 table\n",
    "    contingency_table=np.array([[overlap,g1-overlap],[g2-overlap,totals-g1-g2+overlap]])\n",
    "    print(contingency_table)\n",
    "    oddsr, p = fisher_exact(contingency_table, alternative='two-sided')\n",
    "    return(oddsr,p)\n",
    "\n",
    "totals=signed_pval_mat.shape[1]\n",
    "print(totals)\n",
    "print(hypergeom_test(len(s_genes),len(gene_de_genes),len(overlap_genes),\n",
    "                    totals))\n",
    "print('fraction of ',gene,'genes',len(overlap_genes)/len(gene_de_genes))\n",
    "a=len(overlap_genes)/(len(s_genes)-len(overlap_genes))\n",
    "b=(len(gene_de_genes)-len(overlap_genes))/totals\n",
    "print(a,b,a/b)\n",
    "\n",
    "\n",
    "\n",
    "plt.savefig(FIGS+'/VennDEsSMARCA4_vs_'+gene+'.pdf',transparent=True,bbox_inches='tight') \n",
    "plt.savefig(FIGS+'/VennDEsSMARCA4_vs_'+gene+'.png',transparent=True,bbox_inches='tight') "
   ]
  },
  {
   "cell_type": "code",
   "execution_count": 51,
   "id": "356e6c32",
   "metadata": {},
   "outputs": [
    {
     "name": "stderr",
     "output_type": "stream",
     "text": [
      "/Users/ursuo/anaconda3/lib/python3.8/site-packages/pandas/core/computation/expressions.py:204: UserWarning: evaluating in Python space because the '+' operator is not supported by numexpr for the bool dtype, use '|' instead\n",
      "  warnings.warn(\n",
      "/Users/ursuo/anaconda3/lib/python3.8/site-packages/pandas/core/computation/expressions.py:204: UserWarning: evaluating in Python space because the '+' operator is not supported by numexpr for the bool dtype, use '|' instead\n",
      "  warnings.warn(\n"
     ]
    },
    {
     "name": "stdout",
     "output_type": "stream",
     "text": [
      "21868\n",
      "[[  568   775]\n",
      " [  425 20100]]\n",
      "(34.66201138519924, 0.0)\n",
      "fraction of  BRD9 genes 0.5720040281973817\n",
      "1.336470588235294 0.03543991220047558 37.71088880455408\n"
     ]
    },
    {
     "data": {
      "image/png": "[encoded data removed]",
      "text/plain": [
       "<Figure size 432x288 with 1 Axes>"
      ]
     },
     "metadata": {},
     "output_type": "display_data"
    }
   ],
   "source": [
    "gene='BRD9'\n",
    "#get the data for the venn\n",
    "baf_dict={'SMARCA4':['SMARCA4'],\n",
    "         gene:[gene]}\n",
    "baf_DEs={}\n",
    "#intersect all DE genes by complex \n",
    "for baf in baf_dict:\n",
    "    genes=baf_dict[baf]\n",
    "    pvals=signed_pval_mat.loc[genes,:]\n",
    "    mins=pvals.min(axis=0)\n",
    "    maxs=pvals.max(axis=0)\n",
    "    mins_sig=(np.abs(mins)>=fdr_log)   \n",
    "    maxs_sig=(np.abs(maxs)>=fdr_log)\n",
    "    same_sign=(np.sign(mins)==np.sign(maxs))\n",
    "    keep=(mins_sig+maxs_sig)>0\n",
    "    keep_genes=signed_pval_mat.columns[keep]\n",
    "    baf_DEs[baf]=keep_genes\n",
    "    \n",
    "subsets=[]\n",
    "s=set(baf_DEs['SMARCA4'])\n",
    "gene_de=set(baf_DEs[gene])\n",
    "\n",
    "s_genes=list(s)\n",
    "gene_de_genes=list(gene_de)\n",
    "overlap_genes=list(s.intersection(gene_de))\n",
    "\n",
    "subsets.append(len(s.difference(gene_de)))\n",
    "subsets.append(len(list(gene_de.difference(s))))\n",
    "subsets.append(len(overlap_genes))\n",
    "\n",
    "venn2(subsets = subsets,\n",
    "      set_labels = ('SMARCA4',gene), alpha = 0.5,\n",
    "     set_colors=['gray','darkgreen']);\n",
    "\n",
    "totals=signed_pval_mat.shape[1]\n",
    "print(totals)\n",
    "print(hypergeom_test(len(s_genes),len(gene_de_genes),len(overlap_genes),\n",
    "                    totals))\n",
    "print('fraction of ',gene,'genes',len(overlap_genes)/len(gene_de_genes))\n",
    "a=len(overlap_genes)/(len(gene_de_genes)-len(overlap_genes))\n",
    "b=(len(s_genes)-len(overlap_genes))/totals\n",
    "print(a,b,a/b)\n",
    "\n",
    "\n",
    "plt.savefig(FIGS+'/VennDEsSMARCA4_vs_'+gene+'.pdf',transparent=True,bbox_inches='tight') \n",
    "plt.savefig(FIGS+'/VennDEsSMARCA4_vs_'+gene+'.png',transparent=True,bbox_inches='tight') "
   ]
  },
  {
   "cell_type": "code",
   "execution_count": 52,
   "id": "9beadd9b",
   "metadata": {},
   "outputs": [
    {
     "name": "stderr",
     "output_type": "stream",
     "text": [
      "/Users/ursuo/anaconda3/lib/python3.8/site-packages/pandas/core/computation/expressions.py:204: UserWarning: evaluating in Python space because the '+' operator is not supported by numexpr for the bool dtype, use '|' instead\n",
      "  warnings.warn(\n",
      "/Users/ursuo/anaconda3/lib/python3.8/site-packages/pandas/core/computation/expressions.py:204: UserWarning: evaluating in Python space because the '+' operator is not supported by numexpr for the bool dtype, use '|' instead\n",
      "  warnings.warn(\n"
     ]
    },
    {
     "name": "stdout",
     "output_type": "stream",
     "text": [
      "21868\n",
      "[[   31  1312]\n",
      " [   15 20510]]\n",
      "(32.30741869918699, 4.096777253097963e-27)\n",
      "fraction of  ARID2 genes 0.6739130434782609\n",
      "2.066666666666667 0.05999634168648253 34.44654471544716\n"
     ]
    },
    {
     "data": {
      "image/png": "[encoded data removed]",
      "text/plain": [
       "<Figure size 432x288 with 1 Axes>"
      ]
     },
     "metadata": {},
     "output_type": "display_data"
    }
   ],
   "source": [
    "gene='ARID2'\n",
    "#get the data for the venn\n",
    "baf_dict={'SMARCA4':['SMARCA4'],\n",
    "         gene:[gene]}\n",
    "baf_DEs={}\n",
    "#intersect all DE genes by complex \n",
    "for baf in baf_dict:\n",
    "    genes=baf_dict[baf]\n",
    "    pvals=signed_pval_mat.loc[genes,:]\n",
    "    mins=pvals.min(axis=0)\n",
    "    maxs=pvals.max(axis=0)\n",
    "    mins_sig=(np.abs(mins)>=fdr_log)   \n",
    "    maxs_sig=(np.abs(maxs)>=fdr_log)\n",
    "    same_sign=(np.sign(mins)==np.sign(maxs))\n",
    "    keep=(mins_sig+maxs_sig)>0\n",
    "    keep_genes=signed_pval_mat.columns[keep]\n",
    "    baf_DEs[baf]=keep_genes\n",
    "    \n",
    "subsets=[]\n",
    "s=set(baf_DEs['SMARCA4'])\n",
    "gene_de=set(baf_DEs[gene])\n",
    "\n",
    "s_genes=list(s)\n",
    "gene_de_genes=list(gene_de)\n",
    "overlap_genes=list(s.intersection(gene_de))\n",
    "\n",
    "subsets.append(len(s.difference(gene_de)))\n",
    "subsets.append(len(list(gene_de.difference(s))))\n",
    "subsets.append(len(overlap_genes))\n",
    "\n",
    "venn2(subsets = subsets,\n",
    "      set_labels = ('SMARCA4',gene), alpha = 0.5,\n",
    "     set_colors=['gray','red']);\n",
    "\n",
    "totals=signed_pval_mat.shape[1]\n",
    "print(totals)\n",
    "print(hypergeom_test(len(s_genes),len(gene_de_genes),len(overlap_genes),\n",
    "                    totals))\n",
    "print('fraction of ',gene,'genes',len(overlap_genes)/len(gene_de_genes))\n",
    "a=len(overlap_genes)/(len(gene_de_genes)-len(overlap_genes))\n",
    "b=(len(s_genes)-len(overlap_genes))/totals\n",
    "print(a,b,a/b)\n",
    "\n",
    "plt.savefig(FIGS+'/VennDEsSMARCA4_vs_'+gene+'.pdf',transparent=True,bbox_inches='tight') \n",
    "plt.savefig(FIGS+'/VennDEsSMARCA4_vs_'+gene+'.png',transparent=True,bbox_inches='tight') "
   ]
  },
  {
   "cell_type": "code",
   "execution_count": 53,
   "id": "53e1ad8e",
   "metadata": {},
   "outputs": [
    {
     "name": "stderr",
     "output_type": "stream",
     "text": [
      "/Users/ursuo/anaconda3/lib/python3.8/site-packages/pandas/core/computation/expressions.py:204: UserWarning: evaluating in Python space because the '+' operator is not supported by numexpr for the bool dtype, use '|' instead\n",
      "  warnings.warn(\n",
      "/Users/ursuo/anaconda3/lib/python3.8/site-packages/pandas/core/computation/expressions.py:204: UserWarning: evaluating in Python space because the '+' operator is not supported by numexpr for the bool dtype, use '|' instead\n",
      "  warnings.warn(\n",
      "/Users/ursuo/anaconda3/lib/python3.8/site-packages/pandas/core/computation/expressions.py:204: UserWarning: evaluating in Python space because the '+' operator is not supported by numexpr for the bool dtype, use '|' instead\n",
      "  warnings.warn(\n"
     ]
    },
    {
     "name": "stdout",
     "output_type": "stream",
     "text": [
      "cBAF 1817\n",
      "Index(['AURKAIP1', 'MRPL20', 'ATAD3A', 'RP1-140A9.1', 'RER1', 'RP11-46F15.2',\n",
      "       'C1orf174', 'RPL22', 'ICMT', 'PARK7',\n",
      "       ...\n",
      "       'AL592528.1', 'COL6A1', 'MT-ND1', 'MT-ND2', 'MT-CO1', 'MT-ATP6',\n",
      "       'MT-CO3', 'MT-ND3', 'MT-ND4', 'MT-ND6'],\n",
      "      dtype='object', length=1817)\n",
      "ncBAF 995\n",
      "Index(['TNFRSF18', 'RP1-140A9.1', 'RP11-46F15.2', 'RP5-1092A11.5', 'C1orf174',\n",
      "       'ESPN', 'ENO1', 'RP11-84A14.5', 'SRM', 'RP1-69M21.2',\n",
      "       ...\n",
      "       'ERVH48-1', 'CSTB', 'AIRE', 'TSPEAR-AS2', 'AL592528.1', 'COL6A1',\n",
      "       'MT-ND2', 'MT-CO2', 'MT-ATP6', 'MT-CYB'],\n",
      "      dtype='object', length=995)\n",
      "PBAF 183\n",
      "Index(['TNFRSF18', 'VWA1', 'PLEKHG5', 'SRM', 'FHAD1', 'RP11-84D1.2', 'COL16A1',\n",
      "       'MARCKSL1', 'PABPC4', 'PDZK1IP1',\n",
      "       ...\n",
      "       'FTL', 'LILRB4', 'NLRP7', 'COMT', 'CTA-243E7.1', 'LGALS1', 'POLR2F',\n",
      "       'A4GALT', 'AP000402.3', 'PDE9A'],\n",
      "      dtype='object', length=183)\n"
     ]
    },
    {
     "data": {
      "image/png": "[encoded data removed]",
      "text/plain": [
       "<Figure size 432x288 with 1 Axes>"
      ]
     },
     "metadata": {},
     "output_type": "display_data"
    }
   ],
   "source": [
    "#get the data for the venn\n",
    "baf_dict={'cBAF':['ARID1A','ARID1B','DPF2','DPF1','DPF2','DPF3',\n",
    "                 ],\n",
    "         'ncBAF':['BRD9',\n",
    "                  'GLTSCR1','GLTSCR1L',\n",
    "                 ],\n",
    "         'PBAF':['ARID2',\n",
    "                 'PHF10','BRD7','PBRM1',\n",
    "                ]}\n",
    "baf_DEs={}\n",
    "#intersect all DE genes by complex \n",
    "for baf in baf_dict:\n",
    "    genes=baf_dict[baf]\n",
    "    pvals=signed_pval_mat.loc[genes,:]\n",
    "    mins=pvals.min(axis=0)\n",
    "    maxs=pvals.max(axis=0)\n",
    "    mins_sig=(np.abs(mins)>=fdr_log)   \n",
    "    maxs_sig=(np.abs(maxs)>=fdr_log)\n",
    "    same_sign=(np.sign(mins)==np.sign(maxs))\n",
    "    keep=(mins_sig+maxs_sig)>0\n",
    "    print(baf,keep.sum())\n",
    "    keep_genes=signed_pval_mat.columns[keep]\n",
    "    print(keep_genes)\n",
    "    baf_DEs[baf]=keep_genes\n",
    "    \n",
    "#now, venn\n",
    "cbaf=set(baf_DEs['cBAF'])\n",
    "ncbaf=set(baf_DEs['ncBAF'])\n",
    "pbaf=set(baf_DEs['PBAF'])\n",
    "\n",
    "subsets=[]\n",
    "subsets.append(len(list(cbaf.difference(ncbaf).difference(pbaf))))\n",
    "subsets.append(len(list(ncbaf.difference(cbaf).difference(pbaf))))\n",
    "subsets.append(len(list(cbaf.intersection(ncbaf).difference(pbaf))))\n",
    "\n",
    "subsets.append(len(list(pbaf.difference(ncbaf).difference(cbaf))))\n",
    "subsets.append(len(list(cbaf.intersection(pbaf).difference(ncbaf))))\n",
    "subsets.append(len(list(pbaf.intersection(ncbaf).difference(cbaf))))\n",
    "subsets.append(len(list(cbaf.intersection(ncbaf).intersection(pbaf))))\n",
    "\n",
    "overlaps={}\n",
    "overlaps['cBAF_only']=list(cbaf.difference(ncbaf).difference(pbaf))\n",
    "overlaps['ncBAF_only']=list(ncbaf.difference(cbaf).difference(pbaf))\n",
    "overlaps['cBAF_ncBAF']=list(cbaf.intersection(ncbaf).difference(pbaf))\n",
    "\n",
    "overlaps['PBAF_only']=list(pbaf.difference(ncbaf).difference(cbaf))\n",
    "overlaps['cBAF_PBAF']=list(cbaf.intersection(pbaf).difference(ncbaf))\n",
    "overlaps['ncBAF_PBAF']=list(pbaf.intersection(ncbaf).difference(cbaf))\n",
    "overlaps['all']=list(cbaf.intersection(ncbaf).intersection(pbaf))\n",
    "\n",
    "\n",
    "venn3(subsets = subsets,#(1566, 194, 295, 22, 34, 9, 28), \n",
    "      set_labels = ('cBAF', 'ncBAF', 'PBAF'), alpha = 0.5,\n",
    "     set_colors=['blue','green','red']);\n",
    "\n",
    "plt.savefig(FIGS+'/VennDEsComplex.pdf',transparent=True,bbox_inches='tight') \n",
    "plt.savefig(FIGS+'/VennDEsComplex.png',transparent=True,bbox_inches='tight') "
   ]
  },
  {
   "cell_type": "code",
   "execution_count": 73,
   "id": "14dd2b26",
   "metadata": {},
   "outputs": [
    {
     "name": "stdout",
     "output_type": "stream",
     "text": [
      "[[  369  1448]\n",
      " [  626 19425]]\n",
      "(7.907596464441424, 2.456577836687235e-151)\n",
      "369\n"
     ]
    }
   ],
   "source": [
    "print(hypergeom_test(len(list(cbaf)),len(list(ncbaf)),len(list(cbaf.intersection(ncbaf))),\n",
    "                    totals))\n",
    "print(len(list(cbaf.intersection(ncbaf))))"
   ]
  },
  {
   "cell_type": "code",
   "execution_count": 55,
   "id": "96e21f9a",
   "metadata": {
    "scrolled": false
   },
   "outputs": [
    {
     "name": "stdout",
     "output_type": "stream",
     "text": [
      "cBAF_only\n",
      "ncBAF_only\n",
      "cBAF_ncBAF\n",
      "PBAF_only\n",
      "cBAF_PBAF\n",
      "ncBAF_PBAF\n",
      "all\n",
      "('p_value2', 'Pro: all')\n",
      "name\n",
      "interleukin-8 production                           2.509622\n",
      "negative regulation of interleukin-8 production    2.509622\n",
      "regulation of interleukin-8 production             2.509622\n",
      "Name: (p_value2, Pro: all), dtype: float64\n",
      "======\n",
      "('p_value2', 'Pro: cBAF_PBAF')\n",
      "name\n",
      "cytoplasmic translation                            3.740076\n",
      "detoxification of copper ion                       3.740076\n",
      "stress response to copper ion                      3.740076\n",
      "detoxification of inorganic compound               3.652729\n",
      "stress response to metal ion                       3.525212\n",
      "response to cadmium ion                            3.212931\n",
      "cellular response to zinc ion                      3.212931\n",
      "cellular response to copper ion                    3.045305\n",
      "detoxification                                     2.982904\n",
      "cellular response to cadmium ion                   2.552820\n",
      "cellular zinc ion homeostasis                      2.497443\n",
      "response to copper ion                             2.478462\n",
      "zinc ion homeostasis                               2.478462\n",
      "cellular transition metal ion homeostasis          2.123778\n",
      "response to zinc ion                               2.076317\n",
      "homeostatic process                                2.059235\n",
      "glyceraldehyde-3-phosphate biosynthetic process    2.059162\n",
      "response to toxic substance                        1.901953\n",
      "transition metal ion homeostasis                   1.830767\n",
      "glyceraldehyde-3-phosphate metabolic process       1.352666\n",
      "Name: (p_value2, Pro: cBAF_PBAF), dtype: float64\n",
      "======\n",
      "('p_value2', 'Pro: cBAF_ncBAF')\n",
      "name\n",
      "ribosome biogenesis                                        5.902913\n",
      "positive regulation of biological process                  4.382071\n",
      "translation                                                2.904578\n",
      "response to stimulus                                       2.904578\n",
      "peptide biosynthetic process                               2.706571\n",
      "rRNA processing                                            2.691951\n",
      "rRNA metabolic process                                     2.691951\n",
      "cellular response to stimulus                              2.691951\n",
      "regulation of cellular process                             2.484104\n",
      "amide biosynthetic process                                 2.238837\n",
      "positive regulation of cellular process                    2.238837\n",
      "positive regulation of gene expression                     2.064128\n",
      "peptide metabolic process                                  2.048801\n",
      "developmental process                                      2.001393\n",
      "cell migration                                             1.905532\n",
      "cellular nitrogen compound biosynthetic process            1.847792\n",
      "actin cytoskeleton organization                            1.846449\n",
      "positive regulation of multicellular organismal process    1.781650\n",
      "cellular macromolecule biosynthetic process                1.705261\n",
      "organonitrogen compound biosynthetic process               1.705261\n",
      "response to stress                                         1.705261\n",
      "localization of cell                                       1.680806\n",
      "cell motility                                              1.680806\n",
      "actin filament-based process                               1.660005\n",
      "negative regulation of apoptotic process                   1.589302\n",
      "regulation of apoptotic process                            1.586585\n",
      "regulation of response to stimulus                         1.585759\n",
      "immune effector process                                    1.585759\n",
      "regulation of biological process                           1.577503\n",
      "cellular biosynthetic process                              1.566806\n",
      "locomotion                                                 1.553413\n",
      "negative regulation of programmed cell death               1.551602\n",
      "positive regulation of response to stimulus                1.518935\n",
      "multicellular organismal process                           1.518935\n",
      "cell morphogenesis                                         1.518935\n",
      "regulation of cell death                                   1.518935\n",
      "regulation of programmed cell death                        1.518935\n",
      "regulation of trophoblast cell migration                   1.508703\n",
      "ribosomal small subunit biogenesis                         1.477924\n",
      "positive regulation of metabolic process                   1.471839\n",
      "response to organic substance                              1.469958\n",
      "biosynthetic process                                       1.469958\n",
      "movement of cell or subcellular component                  1.469958\n",
      "positive regulation of macromolecule metabolic process     1.469958\n",
      "cellular response to chemical stimulus                     1.469958\n",
      "negative regulation of cell death                          1.469958\n",
      "trophoblast cell migration                                 1.469958\n",
      "cellular amide metabolic process                           1.400248\n",
      "negative regulation of trophoblast cell migration          1.314006\n",
      "Name: (p_value2, Pro: cBAF_ncBAF), dtype: float64\n",
      "======\n",
      "('p_value2', 'Pro: cBAF_only')\n",
      "name\n",
      "cellular macromolecule biosynthetic process                                                        31.438126\n",
      "cellular macromolecule metabolic process                                                           28.919433\n",
      "peptide metabolic process                                                                          28.836982\n",
      "peptide biosynthetic process                                                                       28.237994\n",
      "translation                                                                                        28.080990\n",
      "                                                                                                     ...    \n",
      "protein localization to nuclear body                                                                1.311201\n",
      "nucleobase-containing compound transport                                                            1.311201\n",
      "protein localization to Cajal body                                                                  1.311201\n",
      "regulation of establishment of protein localization to chromosome                                   1.311201\n",
      "antigen processing and presentation of exogenous peptide antigen via MHC class I, TAP-dependent     1.306846\n",
      "Name: (p_value2, Pro: cBAF_only), Length: 264, dtype: float64\n",
      "======\n",
      "('p_value2', 'Pro: ncBAF_PBAF')\n",
      "name\n",
      "cGMP catabolic process    1.706841\n",
      "Name: (p_value2, Pro: ncBAF_PBAF), dtype: float64\n",
      "======\n",
      "('p_value2', 'Pro: ncBAF_only')\n",
      "name\n",
      "multicellular organismal process                      3.137273\n",
      "movement of cell or subcellular component             3.137273\n",
      "regulation of biological quality                      2.732161\n",
      "biological regulation                                 2.643482\n",
      "response to stimulus                                  2.357838\n",
      "signal transduction                                   2.271141\n",
      "cell communication                                    2.253626\n",
      "locomotion                                            2.098134\n",
      "signaling                                             2.096629\n",
      "localization of cell                                  1.887530\n",
      "localization                                          1.887530\n",
      "cell motility                                         1.887530\n",
      "regulation of cellular process                        1.887530\n",
      "cell surface receptor signaling pathway               1.799985\n",
      "positive regulation of locomotion                     1.791511\n",
      "regulation of biological process                      1.791511\n",
      "response to wounding                                  1.600566\n",
      "positive regulation of cell motility                  1.558684\n",
      "regulation of localization                            1.533371\n",
      "response to oxygen-containing compound                1.507754\n",
      "anatomical structure development                      1.507754\n",
      "positive regulation of cellular component movement    1.506776\n",
      "cell migration                                        1.506776\n",
      "positive regulation of cell migration                 1.506776\n",
      "regulation of response to stimulus                    1.478901\n",
      "cellular response to stimulus                         1.457976\n",
      "regulation of cell motility                           1.332015\n",
      "positive regulation of biological process             1.332015\n",
      "regulation of locomotion                              1.332015\n",
      "multicellular organism development                    1.332015\n",
      "developmental process                                 1.332015\n",
      "Name: (p_value2, Pro: ncBAF_only), dtype: float64\n",
      "======\n"
     ]
    }
   ],
   "source": [
    "gos=perturb.tl.programs2go(overlaps)"
   ]
  },
  {
   "cell_type": "code",
   "execution_count": 63,
   "id": "cb5eb27b",
   "metadata": {
    "scrolled": false
   },
   "outputs": [
    {
     "name": "stdout",
     "output_type": "stream",
     "text": [
      "cBAF_only\n",
      "cellular macromolecule biosynthetic process 31.44\n",
      "cellular macromolecule metabolic process 28.92\n",
      "peptide metabolic process 28.84\n",
      "peptide biosynthetic process 28.24\n",
      "translation 28.08\n",
      "amide biosynthetic process 24.46\n",
      "cellular amide metabolic process 21.38\n",
      "ribosome biogenesis 20.32\n",
      "cytoplasmic translation 19.82\n",
      "organonitrogen compound biosynthetic process 18.14\n",
      "mitochondrial ATP synthesis coupled electron transport 17.94\n",
      "ATP synthesis coupled electron transport 17.94\n",
      "rRNA processing 17.35\n",
      "cellular protein metabolic process 17.19\n",
      "organonitrogen compound metabolic process 16.99\n",
      "respiratory electron transport chain 16.55\n",
      "oxidative phosphorylation 16.33\n",
      "electron transport chain 15.56\n",
      "aerobic electron transport chain 15.46\n",
      "aerobic respiration 15.46\n",
      "rRNA metabolic process 15.46\n",
      "protein metabolic process 14.87\n",
      "biosynthetic process 14.43\n",
      "mitochondrion organization 14.43\n",
      "cellular respiration 14.31\n",
      "cellular biosynthetic process 13.69\n",
      "organic substance biosynthetic process 13.57\n",
      "ncRNA processing 13.51\n",
      "macromolecule biosynthetic process 13.41\n",
      "ATP metabolic process 13.17\n",
      "cellular nitrogen compound biosynthetic process 12.24\n",
      "cellular metabolic process 11.45\n",
      "cell death 11.31\n",
      "programmed cell death 11.25\n",
      "regulation of protein metabolic process 11.25\n",
      "apoptotic process 11.18\n",
      "organelle organization 11.18\n",
      "ncRNA metabolic process 11.18\n",
      "energy derivation by oxidation of organic compounds 10.55\n",
      "mitochondrial respiratory chain complex I assembly 10.55\n",
      "NADH dehydrogenase complex assembly 10.55\n",
      "generation of precursor metabolites and energy 10.46\n",
      "mitochondrial electron transport, NADH to ubiquinone 10.04\n",
      "DNA replication 9.93\n",
      "regulation of cellular protein metabolic process 9.73\n",
      "mitochondrial respiratory chain complex assembly 9.66\n",
      "regulation of cell death 9.6\n",
      "negative regulation of cell death 9.38\n",
      "regulation of programmed cell death 9.32\n",
      "regulation of cellular macromolecule biosynthetic process 9.07\n",
      "regulation of apoptotic process 9.04\n",
      "cellular response to stress 8.98\n",
      "response to organic substance 8.87\n",
      "DNA metabolic process 8.68\n",
      "negative regulation of programmed cell death 8.33\n",
      "negative regulation of apoptotic process 8.1\n",
      "mitotic cell cycle 7.61\n",
      "cell cycle 7.54\n",
      "cellular process 6.94\n",
      "RNA localization 6.82\n",
      "DNA-dependent DNA replication 6.76\n",
      "RNA catabolic process 6.64\n",
      "ribosomal large subunit biogenesis 6.63\n",
      "mRNA catabolic process 6.47\n",
      "positive regulation of cellular process 6.32\n",
      "regulation of translation 6.28\n",
      "apoptotic signaling pathway 5.98\n",
      "regulation of nitrogen compound metabolic process 5.96\n",
      "positive regulation of nitrogen compound metabolic process 5.93\n",
      "response to stress 5.87\n",
      "cellular macromolecule catabolic process 5.85\n",
      "regulation of cellular amide metabolic process 5.84\n",
      "nucleobase-containing compound catabolic process 5.84\n",
      "cellular catabolic process 5.8\n",
      "catabolic process 5.8\n",
      "cellular response to DNA damage stimulus 5.55\n",
      "metabolic process 5.55\n",
      "positive regulation of cellular protein metabolic process 5.43\n",
      "organic substance catabolic process 5.4\n",
      "protein folding 5.32\n",
      "regulation of intrinsic apoptotic signaling pathway 5.32\n",
      "heterocycle catabolic process 5.31\n",
      "macromolecule catabolic process 5.3\n",
      "positive regulation of macromolecule metabolic process 5.23\n",
      "positive regulation of cellular metabolic process 5.21\n",
      "cellular nitrogen compound catabolic process 5.11\n",
      "regulation of primary metabolic process 5.02\n",
      "aromatic compound catabolic process 5.01\n",
      "activation of innate immune response 4.94\n",
      "regulation of apoptotic signaling pathway 4.92\n",
      "positive regulation of biological process 4.91\n",
      "positive regulation of protein metabolic process 4.89\n",
      "negative regulation of protein metabolic process 4.85\n",
      "cellular response to chemical stimulus 4.8\n",
      "viral process 4.8\n",
      "regulation of response to stress 4.76\n",
      "regulation of cellular metabolic process 4.64\n",
      "mitotic cell cycle process 4.59\n",
      "positive regulation of metabolic process 4.53\n",
      "negative regulation of cellular protein metabolic process 4.53\n",
      "organic cyclic compound catabolic process 4.53\n",
      "negative regulation of cellular process 4.51\n",
      "regulation of catabolic process 4.42\n",
      "biological process involved in interspecies interaction between organisms 4.42\n",
      "intrinsic apoptotic signaling pathway 4.4\n",
      "immune system development 4.17\n",
      "regulation of cysteine-type endopeptidase activity 4.13\n",
      "mitochondrial transport 4.06\n",
      "nitrogen compound metabolic process 4.04\n",
      "regulation of mitotic cell cycle 4.03\n",
      "positive regulation of telomerase RNA localization to Cajal body 3.99\n",
      "mitochondrial membrane organization 3.92\n",
      "leukocyte activation 3.89\n",
      "maturation of 5.8S rRNA 3.77\n",
      "cellular response to organic substance 3.71\n",
      "mitotic cell cycle phase transition 3.6\n",
      "response to cytokine 3.56\n",
      "response to oxidative stress 3.5\n",
      "regulation of proteolysis 3.42\n",
      "regulation of cysteine-type endopeptidase activity involved in apoptotic process 3.41\n",
      "regulation of cellular catabolic process 3.37\n",
      "cellular nitrogen compound metabolic process 3.36\n",
      "primary metabolic process 3.31\n",
      "cellular response to cytokine stimulus 3.27\n",
      "leukocyte homeostasis 3.24\n",
      "positive regulation of molecular function 3.24\n",
      "negative regulation of intrinsic apoptotic signaling pathway 3.2\n",
      "cell population proliferation 3.18\n",
      "regulation of cellular response to stress 3.17\n",
      "DNA repair 3.16\n",
      "cell activation 3.15\n",
      "regulation of telomerase RNA localization to Cajal body 3.14\n",
      "positive regulation of innate immune response 3.14\n",
      "regulation of mRNA metabolic process 3.14\n",
      "negative regulation of nitrogen compound metabolic process 3.09\n",
      "viral genome replication 3.09\n",
      "nuclear-transcribed mRNA catabolic process 3.07\n",
      "regulation of mitochondrial membrane potential 3.06\n",
      "maturation of LSU-rRNA 3.04\n",
      "chromosome organization 3.03\n",
      "establishment of localization 2.99\n",
      "cell cycle phase transition 2.97\n",
      "viral life cycle 2.96\n",
      "cell cycle process 2.95\n",
      "RNA localization to nucleus 2.94\n",
      "telomerase RNA localization 2.94\n",
      "telomerase RNA localization to Cajal body 2.94\n",
      "RNA localization to Cajal body 2.94\n",
      "hematopoietic or lymphoid organ development 2.94\n",
      "response to chemical 2.92\n",
      "regulation of mRNA catabolic process 2.92\n",
      "regulation of metabolic process 2.9\n",
      "regulation of mRNA stability 2.86\n",
      "ribosomal small subunit biogenesis 2.83\n",
      "regulation of RNA stability 2.73\n",
      "antigen processing and presentation of exogenous peptide antigen 2.67\n",
      "transport 2.67\n",
      "negative regulation of cellular metabolic process 2.67\n",
      "hemopoiesis 2.63\n",
      "protein localization to mitochondrion 2.62\n",
      "mitochondrial gene expression 2.58\n",
      "regulation of cell population proliferation 2.52\n",
      "lymphocyte activation 2.49\n",
      "regulation of cell cycle 2.46\n",
      "negative regulation of apoptotic signaling pathway 2.46\n",
      "regulation of cellular amino acid metabolic process 2.46\n",
      "regulation of macromolecule metabolic process 2.44\n",
      "regulation of cellular amine metabolic process 2.44\n",
      "double-strand break repair via break-induced replication 2.43\n",
      "establishment of protein localization to mitochondrion 2.37\n",
      "positive regulation of catalytic activity 2.34\n",
      "positive regulation of response to biotic stimulus 2.34\n",
      "homeostasis of number of cells 2.33\n",
      "leukocyte activation involved in immune response 2.33\n",
      "negative regulation of response to stimulus 2.32\n",
      "response to abiotic stimulus 2.31\n",
      "antigen processing and presentation of peptide antigen via MHC class I 2.31\n",
      "proton transmembrane transport 2.31\n",
      "positive regulation of cell population proliferation 2.27\n",
      "antigen processing and presentation of peptide antigen 2.22\n",
      "cell activation involved in immune response 2.21\n",
      "cytoplasmic translational initiation 2.21\n",
      "DNA replication initiation 2.21\n",
      "telomere maintenance 2.21\n",
      "regulation of viral process 2.17\n",
      "immune system process 2.16\n",
      "organonitrogen compound catabolic process 2.16\n",
      "intracellular signal transduction 2.15\n",
      "exonucleolytic trimming involved in rRNA processing 2.15\n",
      "exonucleolytic trimming to generate mature 3'-end of 5.8S rRNA from tricistronic rRNA transcript (SSU-rRNA, 5.8S rRNA, LSU-rRNA) 2.15\n",
      "cellular localization 2.15\n",
      "protein targeting to mitochondrion 2.15\n",
      "proteolysis 2.15\n",
      "positive regulation of transferase activity 2.14\n",
      "positive regulation of proteolysis 2.12\n",
      "lymphocyte homeostasis 2.11\n",
      "biological process involved in symbiotic interaction 2.11\n",
      "regulation of peptidase activity 2.11\n",
      "regulation of catalytic activity 2.11\n",
      "negative regulation of cysteine-type endopeptidase activity 2.11\n",
      "localization 2.05\n",
      "protein insertion into mitochondrial membrane 2.04\n",
      "negative regulation of biological process 2.04\n",
      "biological process involved in interaction with host 2.01\n",
      "RNA transport 2.01\n",
      "nucleic acid transport 2.01\n",
      "innate immune response-activating signal transduction 2.0\n",
      "response to organic cyclic compound 1.99\n",
      "regulation of immune response 1.98\n",
      "cellular amino acid metabolic process 1.98\n",
      "modification-dependent macromolecule catabolic process 1.96\n",
      "negative regulation of mitotic cell cycle 1.95\n",
      "DNA biosynthetic process 1.94\n",
      "regulation of mitotic cell cycle phase transition 1.92\n",
      "B cell homeostasis 1.92\n",
      "nuclear export 1.91\n",
      "establishment of RNA localization 1.89\n",
      "regulation of endopeptidase activity 1.85\n",
      "regulation of transferase activity 1.85\n",
      "tumor necrosis factor-mediated signaling pathway 1.85\n",
      "rRNA 3'-end processing 1.84\n",
      "positive regulation of establishment of protein localization to telomere 1.84\n",
      "antigen processing and presentation of exogenous antigen 1.82\n",
      "antigen processing and presentation of exogenous peptide antigen via MHC class I 1.8\n",
      "regulation of innate immune response 1.77\n",
      "mitochondrial electron transport, cytochrome c to oxygen 1.76\n",
      "positive regulation of defense response 1.75\n",
      "DNA strand elongation involved in DNA replication 1.71\n",
      "negative regulation of mitotic cell cycle phase transition 1.71\n",
      "cellular protein catabolic process 1.7\n",
      "regulation of molecular function 1.63\n",
      "cellular component organization or biogenesis 1.62\n",
      "pre-replicative complex assembly 1.6\n",
      "negative regulation of translation 1.6\n",
      "positive regulation of response to external stimulus 1.6\n",
      "negative regulation of cellular amide metabolic process 1.59\n",
      "cell cycle G1/S phase transition 1.59\n",
      "positive regulation of organelle organization 1.57\n",
      "protein catabolic process 1.57\n",
      "cell division 1.57\n",
      "establishment of protein localization to mitochondrial membrane 1.57\n",
      "regulation of transcription from RNA polymerase II promoter in response to hypoxia 1.57\n",
      "positive regulation of protein localization to Cajal body 1.56\n",
      "positive regulation of cellular catabolic process 1.56\n",
      "regulation of establishment of protein localization to telomere 1.56\n",
      "regulation of protein localization to Cajal body 1.56\n",
      "tRNA metabolic process 1.53\n",
      "formation of cytoplasmic translation initiation complex 1.52\n",
      "protein insertion into membrane 1.5\n",
      "regulation of protein ubiquitination 1.5\n",
      "DNA recombination 1.5\n",
      "G1/S transition of mitotic cell cycle 1.46\n",
      "DNA strand elongation 1.45\n",
      "response to biotic stimulus 1.44\n",
      "innate immune response activating cell surface receptor signaling pathway 1.39\n",
      "cellular response to hypoxia 1.38\n",
      "regulation of hematopoietic stem cell differentiation 1.35\n",
      "regulation of biological quality 1.33\n",
      "regulation of protein modification process 1.33\n",
      "protein localization to Cajal body 1.31\n",
      "protein localization to nuclear body 1.31\n",
      "nucleobase-containing compound transport 1.31\n",
      "regulation of establishment of protein localization to chromosome 1.31\n",
      "antigen processing and presentation of exogenous peptide antigen via MHC class I, TAP-dependent 1.31\n",
      "=====\n"
     ]
    }
   ],
   "source": [
    "def print_terms(gos,cat):\n",
    "\n",
    "    print(cat)\n",
    "    if 'Pro: '+cat not in gos['p_value2']:\n",
    "        print(cat,'not found')\n",
    "    else:\n",
    "        terms=gos['p_value2']['Pro: '+cat]\n",
    "        terms=terms.sort_values(ascending=False)\n",
    "        thresh=1\n",
    "        for i in range(terms.shape[0]):\n",
    "            if terms[i]>thresh:\n",
    "                print(terms.index[i],np.round(terms.iloc[i],2))\n",
    "    print('=====')\n",
    "    \n",
    "print_terms(gos,'cBAF_only')"
   ]
  },
  {
   "cell_type": "code",
   "execution_count": 70,
   "id": "085fbcd5",
   "metadata": {},
   "outputs": [
    {
     "name": "stdout",
     "output_type": "stream",
     "text": [
      "ncBAF_only\n",
      "multicellular organismal process 3.14\n",
      "movement of cell or subcellular component 3.14\n",
      "regulation of biological quality 2.73\n",
      "biological regulation 2.64\n",
      "response to stimulus 2.36\n",
      "signal transduction 2.27\n",
      "cell communication 2.25\n",
      "locomotion 2.1\n",
      "signaling 2.1\n",
      "cell motility 1.89\n",
      "regulation of cellular process 1.89\n",
      "localization of cell 1.89\n",
      "localization 1.89\n",
      "cell surface receptor signaling pathway 1.8\n",
      "positive regulation of locomotion 1.79\n",
      "regulation of biological process 1.79\n",
      "response to wounding 1.6\n",
      "positive regulation of cell motility 1.56\n",
      "regulation of localization 1.53\n",
      "anatomical structure development 1.51\n",
      "response to oxygen-containing compound 1.51\n",
      "positive regulation of cell migration 1.51\n",
      "cell migration 1.51\n",
      "positive regulation of cellular component movement 1.51\n",
      "regulation of response to stimulus 1.48\n",
      "cellular response to stimulus 1.46\n",
      "regulation of locomotion 1.33\n",
      "multicellular organism development 1.33\n",
      "regulation of cell motility 1.33\n",
      "developmental process 1.33\n",
      "positive regulation of biological process 1.33\n",
      "=====\n"
     ]
    }
   ],
   "source": [
    "print_terms(gos,'ncBAF_only')"
   ]
  },
  {
   "cell_type": "code",
   "execution_count": 65,
   "id": "5761c73f",
   "metadata": {},
   "outputs": [
    {
     "name": "stdout",
     "output_type": "stream",
     "text": [
      "cBAF_ncBAF\n",
      "ribosome biogenesis 5.9\n",
      "positive regulation of biological process 4.38\n",
      "translation 2.9\n",
      "response to stimulus 2.9\n",
      "peptide biosynthetic process 2.71\n",
      "rRNA metabolic process 2.69\n",
      "rRNA processing 2.69\n",
      "cellular response to stimulus 2.69\n",
      "regulation of cellular process 2.48\n",
      "positive regulation of cellular process 2.24\n",
      "amide biosynthetic process 2.24\n",
      "positive regulation of gene expression 2.06\n",
      "peptide metabolic process 2.05\n",
      "developmental process 2.0\n",
      "cell migration 1.91\n",
      "cellular nitrogen compound biosynthetic process 1.85\n",
      "actin cytoskeleton organization 1.85\n",
      "positive regulation of multicellular organismal process 1.78\n",
      "organonitrogen compound biosynthetic process 1.71\n",
      "cellular macromolecule biosynthetic process 1.71\n",
      "response to stress 1.71\n",
      "localization of cell 1.68\n",
      "cell motility 1.68\n",
      "actin filament-based process 1.66\n",
      "negative regulation of apoptotic process 1.59\n",
      "regulation of apoptotic process 1.59\n",
      "immune effector process 1.59\n",
      "regulation of response to stimulus 1.59\n",
      "regulation of biological process 1.58\n",
      "cellular biosynthetic process 1.57\n",
      "locomotion 1.55\n",
      "negative regulation of programmed cell death 1.55\n",
      "regulation of cell death 1.52\n",
      "multicellular organismal process 1.52\n",
      "cell morphogenesis 1.52\n",
      "regulation of programmed cell death 1.52\n",
      "positive regulation of response to stimulus 1.52\n",
      "regulation of trophoblast cell migration 1.51\n",
      "ribosomal small subunit biogenesis 1.48\n",
      "positive regulation of metabolic process 1.47\n",
      "cellular response to chemical stimulus 1.47\n",
      "negative regulation of cell death 1.47\n",
      "response to organic substance 1.47\n",
      "positive regulation of macromolecule metabolic process 1.47\n",
      "trophoblast cell migration 1.47\n",
      "movement of cell or subcellular component 1.47\n",
      "biosynthetic process 1.47\n",
      "cellular amide metabolic process 1.4\n",
      "negative regulation of trophoblast cell migration 1.31\n",
      "=====\n"
     ]
    }
   ],
   "source": [
    "print_terms(gos,'cBAF_ncBAF')"
   ]
  },
  {
   "cell_type": "code",
   "execution_count": 71,
   "id": "92031b79",
   "metadata": {},
   "outputs": [
    {
     "name": "stdout",
     "output_type": "stream",
     "text": [
      "cBAF_PBAF\n",
      "detoxification of copper ion 3.74\n",
      "cytoplasmic translation 3.74\n",
      "stress response to copper ion 3.74\n",
      "detoxification of inorganic compound 3.65\n",
      "stress response to metal ion 3.53\n",
      "cellular response to zinc ion 3.21\n",
      "response to cadmium ion 3.21\n",
      "cellular response to copper ion 3.05\n",
      "detoxification 2.98\n",
      "cellular response to cadmium ion 2.55\n",
      "cellular zinc ion homeostasis 2.5\n",
      "response to copper ion 2.48\n",
      "zinc ion homeostasis 2.48\n",
      "cellular transition metal ion homeostasis 2.12\n",
      "response to zinc ion 2.08\n",
      "homeostatic process 2.06\n",
      "glyceraldehyde-3-phosphate biosynthetic process 2.06\n",
      "response to toxic substance 1.9\n",
      "transition metal ion homeostasis 1.83\n",
      "glyceraldehyde-3-phosphate metabolic process 1.35\n",
      "=====\n"
     ]
    }
   ],
   "source": [
    "print_terms(gos,'cBAF_PBAF')"
   ]
  },
  {
   "cell_type": "code",
   "execution_count": 72,
   "id": "245cd84d",
   "metadata": {},
   "outputs": [
    {
     "name": "stdout",
     "output_type": "stream",
     "text": [
      "ncBAF_PBAF\n",
      "cGMP catabolic process 1.71\n",
      "=====\n"
     ]
    }
   ],
   "source": [
    "print_terms(gos,'ncBAF_PBAF')"
   ]
  },
  {
   "cell_type": "code",
   "execution_count": 68,
   "id": "042118b4",
   "metadata": {},
   "outputs": [
    {
     "name": "stdout",
     "output_type": "stream",
     "text": [
      "PBAF\n",
      "PBAF not found\n",
      "=====\n"
     ]
    }
   ],
   "source": [
    "print_terms(gos,'PBAF')"
   ]
  },
  {
   "cell_type": "code",
   "execution_count": 69,
   "id": "d20d0e19",
   "metadata": {},
   "outputs": [
    {
     "name": "stdout",
     "output_type": "stream",
     "text": [
      "all\n",
      "negative regulation of interleukin-8 production 2.51\n",
      "regulation of interleukin-8 production 2.51\n",
      "interleukin-8 production 2.51\n",
      "=====\n"
     ]
    }
   ],
   "source": [
    "print_terms(gos,'all')"
   ]
  },
  {
   "cell_type": "code",
   "execution_count": null,
   "id": "6fb46374",
   "metadata": {},
   "outputs": [],
   "source": []
  },
  {
   "cell_type": "code",
   "execution_count": null,
   "id": "52571334",
   "metadata": {},
   "outputs": [],
   "source": []
  },
  {
   "cell_type": "code",
   "execution_count": null,
   "id": "803b4129",
   "metadata": {},
   "outputs": [],
   "source": []
  },
  {
   "cell_type": "code",
   "execution_count": 55,
   "id": "0c96b0f3",
   "metadata": {},
   "outputs": [
    {
     "data": {
      "text/plain": [
       "name\n",
       "regulation of interleukin-8 production                              2.314611\n",
       "regulation of cytokine production                                   2.314611\n",
       "interleukin-8 production                                            2.314611\n",
       "negative regulation of interleukin-8 production                     2.314611\n",
       "cytokine production                                                 2.314611\n",
       "regulation of multicellular organismal process                      2.314611\n",
       "positive regulation of viral process                               -0.000000\n",
       "protein insertion into membrane                                    -0.000000\n",
       "protein-DNA complex subunit organization                           -0.000000\n",
       "protein targeting to mitochondrion                                 -0.000000\n",
       "positive regulation of response to biotic stimulus                 -0.000000\n",
       "protein metabolic process                                          -0.000000\n",
       "protein localization to organelle                                  -0.000000\n",
       "protein localization to mitochondrion                              -0.000000\n",
       "protein insertion into mitochondrial membrane                      -0.000000\n",
       "protein folding                                                    -0.000000\n",
       "positive regulation of translation                                 -0.000000\n",
       "positive regulation of telomerase RNA localization to Cajal body   -0.000000\n",
       "protein catabolic process                                          -0.000000\n",
       "proteolysis involved in cellular protein catabolic process         -0.000000\n",
       "Name: Pro: all, dtype: float64"
      ]
     },
     "execution_count": 55,
     "metadata": {},
     "output_type": "execute_result"
    }
   ],
   "source": [
    "gos['p_value2']['Pro: all'].sort_values(ascending=False).iloc[:20]"
   ]
  },
  {
   "cell_type": "code",
   "execution_count": 50,
   "id": "a3fefd65",
   "metadata": {
    "scrolled": false
   },
   "outputs": [
    {
     "data": {
      "text/plain": [
       "\"nameregulation of interleukin-8 production                                                       2.314611regulation of cytokine production                                                            2.314611interleukin-8 production                                                                     2.314611negative regulation of interleukin-8 production                                              2.314611cytokine production                                                                          2.314611regulation of multicellular organismal process                                               2.314611positive regulation of viral process                                                        -0.000000protein insertion into membrane                                                             -0.000000protein-DNA complex subunit organization                                                    -0.000000protein targeting to mitochondrion                                                          -0.000000positive regulation of response to biotic stimulus                                          -0.000000protein metabolic process                                                                   -0.000000protein localization to organelle                                                           -0.000000protein localization to mitochondrion                                                       -0.000000protein insertion into mitochondrial membrane                                               -0.000000protein folding                                                                             -0.000000positive regulation of translation                                                          -0.000000positive regulation of telomerase RNA localization to Cajal body                            -0.000000protein catabolic process                                                                   -0.000000proteolysis involved in cellular protein catabolic process                                  -0.000000programmed cell death                                                                       -0.000000primary metabolic process                                                                   -0.000000posttranscriptional regulation of gene expression                                           -0.000000positive regulation of transferase activity                                                 -0.000000ATP metabolic process                                                                       -0.000000pyruvate metabolic process                                                                  -0.000000proton transmembrane transport                                                              -0.000000regulation of catabolic process                                                             -0.000000regulation of cellular catabolic process                                                    -0.000000regulation of cellular biosynthetic process                                                 -0.000000regulation of cellular amide metabolic process                                              -0.000000regulation of cell death                                                                    -0.000000regulation of cell cycle phase transition                                                   -0.000000regulation of cell cycle                                                                    -0.000000regulation of catalytic activity                                                            -0.000000regulation of biosynthetic process                                                          -0.000000purine ribonucleoside monophosphate biosynthetic process                                    -0.000000regulation of apoptotic signaling pathway                                                   -0.000000regulation of apoptotic process                                                             -0.000000regulation of RNA stability                                                                 -0.000000regulation of DNA metabolic process                                                         -0.000000rRNA processing                                                                             -0.000000rRNA metabolic process                                                                      -0.000000positive regulation of protein metabolic process                                            -0.000000positive regulation of proteolysis                                                          -0.000000positive regulation of programmed cell death                                                -0.000000regulation of cellular metabolic process                                                    -0.000000organic substance catabolic process                                                         -0.000000peptide metabolic process                                                                   -0.000000peptide biosynthetic process                                                                -0.000000oxidative phosphorylation                                                                   -0.000000osteoblast differentiation                                                                  -0.000000organonitrogen compound metabolic process                                                   -0.000000organonitrogen compound catabolic process                                                   -0.000000organonitrogen compound biosynthetic process                                                -0.000000organic substance metabolic process                                                         -0.000000organic substance biosynthetic process                                                      -0.000000positive regulation of apoptotic process                                                    -0.000000organic cyclic compound catabolic process                                                   -0.000000organic cyclic compound biosynthetic process                                                -0.000000organelle organization                                                                      -0.000000nucleocytoplasmic transport                                                                 -0.000000nucleobase-containing compound transport                                                    -0.000000nucleobase-containing compound catabolic process                                            -0.000000nucleobase-containing compound biosynthetic process                                         -0.000000nucleic acid transport                                                                      -0.000000positive regulation of DNA metabolic process                                                -0.000000positive regulation of apoptotic signaling pathway                                          -0.000000positive regulation of organelle organization                                               -0.000000positive regulation of establishment of protein localization to telomere                    -0.000000positive regulation of nucleobase-containing compound metabolic process                     -0.000000positive regulation of nitrogen compound metabolic process                                  -0.000000positive regulation of molecular function                                                   -0.000000positive regulation of mitochondrion organization                                           -0.000000positive regulation of metabolic process                                                    -0.000000positive regulation of macromolecule metabolic process                                      -0.000000positive regulation of macromolecule biosynthetic process                                   -0.000000positive regulation of innate immune response                                               -0.000000positive regulation of cellular protein metabolic process                                   -0.000000positive regulation of biological process                                                   -0.000000positive regulation of cellular process                                                     -0.000000positive regulation of cellular metabolic process                                           -0.000000positive regulation of cellular catabolic process                                           -0.000000positive regulation of cellular biosynthetic process                                        -0.000000positive regulation of cell death                                                           -0.000000positive regulation of catalytic activity                                                   -0.000000positive regulation of catabolic process                                                    -0.000000positive regulation of biosynthetic process                                                 -0.000000regulation of cellular macromolecule biosynthetic process                                   -0.000000regulation of cellular respiration                                                          -0.000000regulation of cellular protein metabolic process                                            -0.000000response to oxidative stress                                                                -0.000000ribosomal small subunit assembly                                                            -0.000000ribosomal large subunit biogenesis                                                          -0.000000ribosomal large subunit assembly                                                            -0.000000ribonucleoprotein complex biogenesis                                                        -0.000000response to zinc ion                                                                        -0.000000response to virus                                                                           -0.000000response to toxic substance                                                                 -0.000000response to stress                                                                          -0.000000response to other organism                                                                  -0.000000nuclear-transcribed mRNA catabolic process                                                  -0.000000response to organic substance                                                               -0.000000response to metal ion                                                                       -0.000000response to interleukin-7                                                                   -0.000000response to external stimulus                                                               -0.000000response to external biotic stimulus                                                        -0.000000response to cytokine                                                                        -0.000000response to copper ion                                                                      -0.000000response to cadmium ion                                                                     -0.000000ribosomal small subunit biogenesis                                                          -0.000000ribosome assembly                                                                           -0.000000ribosome biogenesis                                                                         -0.000000sequestering of actin monomers                                                              -0.000000viral process                                                                               -0.000000viral life cycle                                                                            -0.000000viral genome replication                                                                    -0.000000translational initiation                                                                    -0.000000translation                                                                                 -0.000000telomere organization                                                                       -0.000000telomere maintenance                                                                        -0.000000telomerase RNA localization to Cajal body                                                   -0.000000telomerase RNA localization                                                                 -0.000000tRNA processing                                                                             -0.000000tRNA metabolic process                                                                      -0.000000striated muscle tissue development                                                          -0.000000stress response to metal ion                                                                -0.000000stress response to copper ion                                                               -0.000000sno(s)RNA processing                                                                        -0.000000sno(s)RNA metabolic process                                                                 -0.000000sno(s)RNA 3'-end processing                                                                 -0.000000response to biotic stimulus                                                                 -0.000000response to abiotic stimulus                                                                -0.000000respiratory electron transport chain                                                        -0.000000regulation of mitotic cell cycle phase transition                                           -0.000000regulation of mitochondrion organization                                                    -0.000000regulation of mitochondrial membrane potential                                              -0.000000regulation of metabolic process                                                             -0.000000regulation of macromolecule metabolic process                                               -0.000000regulation of macromolecule biosynthetic process                                            -0.000000regulation of mRNA stability                                                                -0.000000regulation of mRNA metabolic process                                                        -0.000000regulation of mRNA catabolic process                                                        -0.000000regulation of intrinsic apoptotic signaling pathway by p53 class mediator                   -0.000000regulation of intrinsic apoptotic signaling pathway                                         -0.000000regulation of innate immune response                                                        -0.000000regulation of immune response                                                               -0.000000regulation of growth                                                                        -0.000000regulation of cysteine-type endopeptidase activity involved in apoptotic process            -0.000000regulation of cysteine-type endopeptidase activity                                          -0.000000regulation of chromosome organization                                                       -0.000000regulation of cellular response to stress                                                   -0.000000regulation of mitotic cell cycle                                                            -0.000000regulation of nitrogen compound metabolic process                                           -0.000000release of cytochrome c from mitochondria                                                   -0.000000regulation of nucleobase-containing compound metabolic process                              -0.000000regulation of viral process                                                                 -0.000000regulation of viral life cycle                                                              -0.000000regulation of translational initiation                                                      -0.000000regulation of translation                                                                   -0.000000regulation of transcription by RNA polymerase I                                             -0.000000regulation of telomerase RNA localization to Cajal body                                     -0.000000regulation of response to stress                                                            -0.000000regulation of response to DNA damage stimulus                                               -0.000000regulation of release of cytochrome c from mitochondria                                     -0.000000regulation of proteolysis involved in cellular protein catabolic process                    -0.000000regulation of proteolysis                                                                   -0.000000regulation of protein ubiquitination                                                        -0.000000regulation of protein metabolic process                                                     -0.000000regulation of protein catabolic process                                                     -0.000000regulation of programmed cell death                                                         -0.000000regulation of primary metabolic process                                                     -0.000000regulation of organelle organization                                                        -0.000000nucleic acid phosphodiester bond hydrolysis                                                 -0.000000nuclear export                                                                              -0.000000nuclear transport                                                                           -0.000000cellular macromolecule catabolic process                                                    -0.000000cellular protein metabolic process                                                          -0.000000cellular protein catabolic process                                                          -0.000000cellular process                                                                            -0.000000cellular nitrogen compound metabolic process                                                -0.000000cellular nitrogen compound catabolic process                                                -0.000000cellular nitrogen compound biosynthetic process                                             -0.000000cellular metabolic process                                                                  -0.000000cellular macromolecule metabolic process                                                    -0.000000cellular macromolecule biosynthetic process                                                 -0.000000cell death                                                                                  -0.000000cellular localization                                                                       -0.000000cellular component organization or biogenesis                                               -0.000000cellular component biogenesis                                                               -0.000000cellular catabolic process                                                                  -0.000000cellular biosynthetic process                                                               -0.000000cellular amino acid metabolic process                                                       -0.000000cellular amide metabolic process                                                            -0.000000cell population proliferation                                                               -0.000000cellular respiration                                                                        -0.000000cellular response to DNA damage stimulus                                                    -0.000000cellular response to cadmium ion                                                            -0.000000cellular response to chemical stimulus                                                      -0.000000detoxification                                                                              -0.000000cytoplasmic translational initiation                                                        -0.000000cytoplasmic translation                                                                     -0.000000cleavage involved in rRNA processing                                                        -0.000000chromosome segregation                                                                      -0.000000chromosome organization                                                                     -0.000000chromatin organization                                                                      -0.000000chaperone-mediated protein folding                                                          -0.000000cellular zinc ion homeostasis                                                               -0.000000cellular transition metal ion homeostasis                                                   -0.000000cellular response to zinc ion                                                               -0.000000cellular response to stress                                                                 -0.000000cellular response to organic substance                                                      -0.000000cellular response to interleukin-7                                                          -0.000000cellular response to erythropoietin                                                         -0.000000cellular response to cytokine stimulus                                                      -0.000000cellular response to copper ion                                                             -0.000000cell division                                                                               -0.000000cell cycle process                                                                          -0.000000ATP synthesis coupled electron transport                                                    -0.000000DNA-dependent DNA replication                                                               -0.000000RNA transport                                                                               -0.000000RNA phosphodiester bond hydrolysis                                                          -0.000000RNA localization to nucleus                                                                 -0.000000RNA localization to Cajal body                                                              -0.000000RNA localization                                                                            -0.000000RNA catabolic process                                                                       -0.000000NADH dehydrogenase complex assembly                                                         -0.000000GMP biosynthetic process                                                                    -0.000000DNA strand elongation involved in DNA replication                                           -0.000000cell cycle phase transition                                                                 -0.000000DNA replication initiation                                                                  -0.000000DNA replication                                                                             -0.000000DNA repair                                                                                  -0.000000DNA recombination                                                                           -0.000000DNA metabolic process                                                                       -0.000000DNA conformation change                                                                     -0.000000DNA biosynthetic process                                                                    -0.000000B cell homeostasis                                                                          -0.000000T cell homeostasis                                                                          -0.000000activation of innate immune response                                                        -0.000000aerobic electron transport chain                                                            -0.000000aerobic respiration                                                                         -0.000000cell cycle DNA replication                                                                  -0.000000cell cycle                                                                                  -0.000000cell activation involved in immune response                                                 -0.000000cell activation                                                                             -0.000000catabolic process                                                                           -0.000000biosynthetic process                                                                        -0.000000biological process involved in symbiotic interaction                                        -0.000000biological process involved in interspecies interaction between organisms                   -0.000000biological process involved in interaction with host                                        -0.000000aromatic compound catabolic process                                                         -0.000000aromatic compound biosynthetic process                                                      -0.000000apoptotic signaling pathway                                                                 -0.000000apoptotic process                                                                           -0.000000apoptotic mitochondrial changes                                                             -0.000000antigen processing and presentation of exogenous peptide antigen                            -0.000000antigen processing and presentation of exogenous antigen                                    -0.000000amide biosynthetic process                                                                  -0.000000detoxification of copper ion                                                                -0.000000detoxification of inorganic compound                                                        -0.000000double-strand break repair                                                                  -0.000000ncRNA metabolic process                                                                     -0.000000negative regulation of cell cycle process                                                   -0.000000negative regulation of cell cycle phase transition                                          -0.000000negative regulation of cell cycle                                                           -0.000000negative regulation of biosynthetic process                                                 -0.000000negative regulation of apoptotic signaling pathway                                          -0.000000negative regulation of apoptotic process                                                    -0.000000negative regulation of RNA splicing                                                         -0.000000ncRNA processing                                                                            -0.000000ncRNA 3'-end processing                                                                     -0.000000double-strand break repair via break-induced replication                                    -0.000000modification-dependent protein catabolic process                                            -0.000000modification-dependent macromolecule catabolic process                                      -0.000000mitotic cell cycle process                                                                  -0.000000mitotic cell cycle phase transition                                                         -0.000000mitotic cell cycle checkpoint signaling                                                     -0.000000mitotic cell cycle                                                                          -0.000000mitochondrion organization                                                                  -0.000000mitochondrial transport                                                                     -0.000000negative regulation of cell death                                                           -0.000000negative regulation of cellular amide metabolic process                                     -0.000000negative regulation of cellular biosynthetic process                                        -0.000000negative regulation of cellular macromolecule biosynthetic process                          -0.000000non-membrane-bounded organelle assembly                                                     -0.000000nitrogen compound transport                                                                 -0.000000nitrogen compound metabolic process                                                         -0.000000negative regulation of translation                                                          -0.000000negative regulation of protein metabolic process                                            -0.000000negative regulation of programmed cell death                                                -0.000000negative regulation of nitrogen compound metabolic process                                  -0.000000negative regulation of mitotic cell cycle phase transition                                  -0.000000negative regulation of mitotic cell cycle                                                   -0.000000negative regulation of macromolecule biosynthetic process                                   -0.000000negative regulation of intrinsic apoptotic signaling pathway                                -0.000000negative regulation of growth                                                               -0.000000negative regulation of cysteine-type endopeptidase activity involved in apoptotic process   -0.000000negative regulation of cysteine-type endopeptidase activity                                 -0.000000negative regulation of cellular protein metabolic process                                   -0.000000negative regulation of cellular process                                                     -0.000000negative regulation of cellular metabolic process                                           -0.000000mitochondrial translation                                                                   -0.000000mitochondrial respiratory chain complex assembly                                            -0.000000mitochondrial respiratory chain complex I assembly                                          -0.000000intrinsic apoptotic signaling pathway                                                       -0.000000inner mitochondrial membrane organization                                                   -0.000000immune system development                                                                   -0.000000homeostasis of number of cells                                                              -0.000000heterocycle catabolic process                                                               -0.000000heterocycle biosynthetic process                                                            -0.000000hemopoiesis                                                                                 -0.000000hematopoietic or lymphoid organ development                                                 -0.000000glyceraldehyde-3-phosphate metabolic process                                                -0.000000glyceraldehyde-3-phosphate biosynthetic process                                             -0.000000generation of precursor metabolites and energy                                              -0.000000establishment of protein localization to mitochondrion                                      -0.000000establishment of protein localization to mitochondrial membrane                             -0.000000establishment of localization in cell                                                       -0.000000establishment of localization                                                               -0.000000establishment of RNA localization                                                           -0.000000energy derivation by oxidation of organic compounds                                         -0.000000electron transport chain                                                                    -0.000000intracellular transport                                                                     -0.000000leukocyte activation                                                                        -0.000000mitochondrial membrane organization                                                         -0.000000leukocyte homeostasis                                                                       -0.000000mitochondrial gene expression                                                               -0.000000mitochondrial electron transport, NADH to ubiquinone                                        -0.000000mitochondrial ATP synthesis coupled electron transport                                      -0.000000metabolic process                                                                           -0.000000maturation of SSU-rRNA from tricistronic rRNA transcript (SSU-rRNA, 5.8S rRNA, LSU-rRNA)    -0.000000maturation of SSU-rRNA                                                                      -0.000000maturation of LSU-rRNA                                                                      -0.000000maturation of 5.8S rRNA from tricistronic rRNA transcript (SSU-rRNA, 5.8S rRNA, LSU-rRNA)   -0.000000maturation of 5.8S rRNA                                                                     -0.000000macromolecule metabolic process                                                             -0.000000macromolecule localization                                                                  -0.000000macromolecule catabolic process                                                             -0.000000macromolecule biosynthetic process                                                          -0.000000mRNA transport                                                                              -0.000000mRNA catabolic process                                                                      -0.000000lymphocyte homeostasis                                                                      -0.000000lymphocyte activation                                                                       -0.000000zinc ion homeostasis                                                                        -0.000000\""
      ]
     },
     "execution_count": 50,
     "metadata": {},
     "output_type": "execute_result"
    }
   ],
   "source": [
    "import re\n",
    "re.sub('\\n','',gos['p_value2']['Pro: all'].sort_values(ascending=False).to_string())"
   ]
  },
  {
   "cell_type": "code",
   "execution_count": 74,
   "id": "085a87b3",
   "metadata": {},
   "outputs": [
    {
     "data": {
      "text/plain": [
       "AURKAIP1   -0.203393\n",
       "COA6       -0.203393\n",
       "NOL7       -0.203393\n",
       "MRPL15     -0.203393\n",
       "ELANE      -0.203393\n",
       "              ...   \n",
       "DPYD        0.203393\n",
       "USP37       0.203393\n",
       "MRPL33      0.321563\n",
       "LAPTM5      0.554449\n",
       "MS4A6A      0.554449\n",
       "Name: SS18L, Length: 21868, dtype: float64"
      ]
     },
     "execution_count": 74,
     "metadata": {},
     "output_type": "execute_result"
    }
   ],
   "source": [
    "signed_pval_mat.loc['SS18L',:].sort_values()"
   ]
  },
  {
   "cell_type": "code",
   "execution_count": 75,
   "id": "e2e21df3",
   "metadata": {},
   "outputs": [
    {
     "name": "stdout",
     "output_type": "stream",
     "text": [
      "(28,)\n",
      "SMARCB1     3885\n",
      "SMARCC1     3559\n",
      "SMARCD2     2999\n",
      "SMARCD1     2616\n",
      "ARID1A      1761\n",
      "SMARCE1     1671\n",
      "ACTL6A      1359\n",
      "SMARCA4     1343\n",
      "BRD9         993\n",
      "SS18         289\n",
      "DPF2         154\n",
      "PBRM1        124\n",
      "BCL7A         71\n",
      "BRD7          63\n",
      "ARID2         46\n",
      "SMARCC2       13\n",
      "GLTSCR1        8\n",
      "PHF10          6\n",
      "BCL7C          1\n",
      "SMARCA2        1\n",
      "ARID1B         1\n",
      "SMARCD3        0\n",
      "ACTL6B         0\n",
      "SS18L          0\n",
      "DPF1           0\n",
      "GLTSCR1L       0\n",
      "BCL7B          0\n",
      "DPF3           0\n",
      "dtype: int64\n"
     ]
    }
   ],
   "source": [
    "#show me a list of how many genes DE per subunit\n",
    "fdr_log=2\n",
    "de_sigs=(signed_pval_mat.abs()>=fdr_log).sum(axis=1)\n",
    "de_sigs=de_sigs.sort_values(ascending=False)\n",
    "de_sigs=de_sigs.drop('unassigned')\n",
    "print(de_sigs.shape)\n",
    "print(de_sigs)"
   ]
  },
  {
   "cell_type": "code",
   "execution_count": 76,
   "id": "0c553f8b",
   "metadata": {},
   "outputs": [
    {
     "data": {
      "image/png": "[encoded data removed]",
      "text/plain": [
       "<Figure size 720x216 with 1 Axes>"
      ]
     },
     "metadata": {
      "needs_background": "light"
     },
     "output_type": "display_data"
    }
   ],
   "source": [
    "fig,plots=plt.subplots(1)\n",
    "fig.set_size_inches(10,3)\n",
    "vmin=-1\n",
    "vmax=1\n",
    "\n",
    "#expression level of genes\n",
    "plots.bar(de_sigs.index,de_sigs\n",
    "    ,color='black')\n",
    "plots.grid(False)\n",
    "#ax_top.set_xticks([])\n",
    "plots.spines['right'].set_visible(False)\n",
    "plots.spines['left'].set_visible(True)\n",
    "plots.spines['top'].set_visible(False)\n",
    "plots.spines['bottom'].set_visible(True)\n",
    "plots.set_xticks(range(len(de_sigs.index)))\n",
    "plots.set_xticklabels(de_sigs.index,fontsize=15,rotation=270)\n",
    "plots.xaxis.set_ticks_position('bottom')\n",
    "plots.set_ylabel('Number of DE genes',fontsize=20)\n",
    "plots.set_xlim(-0.5,len(de_sigs.index)-0.5)\n",
    "\n",
    "plt.savefig(FIGS+'DEgenes.single.bar.pdf',transparent=True,bbox_inches='tight')\n",
    "plt.savefig(FIGS+'DEgenes.single.bar.png',transparent=True,bbox_inches='tight')\n",
    "\n",
    "\n"
   ]
  },
  {
   "cell_type": "code",
   "execution_count": 32,
   "id": "43364394",
   "metadata": {},
   "outputs": [
    {
     "data": {
      "text/plain": [
       "(100.0, 3000.0)"
      ]
     },
     "execution_count": 32,
     "metadata": {},
     "output_type": "execute_result"
    },
    {
     "data": {
      "image/png": "[encoded data removed]",
      "text/plain": [
       "<Figure size 432x288 with 1 Axes>"
      ]
     },
     "metadata": {
      "needs_background": "light"
     },
     "output_type": "display_data"
    }
   ],
   "source": [
    "genes_here=list(de_sigs.index)\n",
    "plt.scatter(de_sigs.loc[genes_here],adata.uns['target_gene_expr_in_control'].loc[genes_here,'expr'],\n",
    "           color='black')\n",
    "plt.grid(False)\n",
    "for i, txt in enumerate(genes_here):\n",
    "    plt.annotate(txt, (de_sigs.loc[genes_here][i], \n",
    "                      adata.uns['target_gene_expr_in_control'].loc[genes_here,'expr'][i]))\n",
    "plt.xlabel('Number of DE genes')\n",
    "plt.ylabel('Expression in control cells')\n",
    "plt.xlim(100,3000)\n",
    "    \n",
    "    "
   ]
  },
  {
   "cell_type": "code",
   "execution_count": 33,
   "id": "f16b155e",
   "metadata": {},
   "outputs": [
    {
     "data": {
      "text/plain": [
       "AnnData object with n_obs × n_vars = 38677 × 21868\n",
       "    obs: 'batch', 'n_genes', 'percent_mito', 'n_counts', 'batch_num11', 'batch_num3', 'batch_num0', 'batch_num12', 'batch_num4', 'batch_num9', 'batch_num6', 'batch_num5', 'batch_num14', 'batch_num8', 'batch_num13', 'batch_num2', 'batch_num10', 'batch_num1', 'batch_num7', 'louvain', 'SMARCC2_3', 'BCL7C_4', 'BRD7_4', 'ACTL6B_2', 'PBRM1_4', 'SMARCA2_1', 'SMARCE1_1', 'PBRM1_3', 'SMARCE1_2', 'GLTSCR1L_3', 'PHF10_3', 'BRD7_3', 'GLTSCR1L_2', 'ARID2_4', 'ARID1A_3', 'SS18_2', 'DPF1_3', 'SMARCA4_1', 'DPF3_2', 'ACTL6A_3', 'DPF3_3', 'SMARCA4_7', 'PBRM1_1', 'BCL7A_2', 'ARID1A_7', 'BCL7C_3', 'GLTSCR1_1', 'SMARCD3_1', 'GLTSCR1_4', 'DPF1_1', 'SMARCD1_2', 'SMARCD3_3', 'SMARCE1_3', 'ARID1B_1', 'BCL7C_1', 'NTC6_IG1216445', 'SMARCC2_1', 'SMARCA4_5', 'ARID1B_2', 'ARID2_2', 'BCL7A_3', 'DPF2_3', 'SMARCE1_4', 'PHF10_1', 'BRD9_1', 'SMARCD2_1', 'SMARCC1_1', 'SMARCD2_2', 'SMARCC1_5', 'NTC1_IG345439', 'DPF1_4', 'ACTL6B_4', 'PHF10_4', 'SMARCA2_2', 'ACTL6A_2', 'SS18L_4', 'DPF1_2', 'BRD7_1', 'SMARCC2_2', 'DPF2_1', 'SMARCB1_1', 'BCL7B_4', 'SMARCB1_8', 'SMARCB1_7', 'SMARCA2_4', 'BCL7A_1', 'BCL7A_4', 'ARID2_1', 'SMARCD2_3', 'BRD7_2', 'ARID1B_4', 'SS18L_3', 'GLTSCR1L_1', 'BRD9_3', 'GLTSCR1_3', 'SMARCD2_4', 'ARID1A_2', 'SS18_3', 'BRD9_4', 'SMARCD1_4', 'NTC7_IG1144056', 'SMARCD1_1', 'PBRM1_2', 'NTC2_IG216151', 'ACTL6A_4', 'SS18L_1', 'SMARCC1_2', 'BCL7B_2', 'BCL7C_2', 'BCL7B_3', 'SMARCD3_4', 'ACTL6B_1', 'SS18_4', 'SMARCD1_3', 'SMARCC1_7', 'SMARCA2_3', 'ARID1A_5', 'SMARCC2_4', 'DPF3_4', 'DPF2_2', 'SS18_1', 'ACTL6B_3', 'SMARCB1_5', 'PHF10_2', 'DPF3_1', 'SMARCD3_2', 'NTC5_mNTC100A67005', 'ARID2_3', 'ACTL6A_1', 'BRD9_2', 'SS18L_2', 'ARID1B_3', 'SMARCA4_4', 'BCL7B_1', 'GLTSCR1L_4', 'DPF2_4', 'ARID2', 'SMARCC2', 'DPF1', 'BRD9', 'BCL7C', 'DPF2', 'SMARCD2', 'BCL7B', 'SS18L', 'BRD7', 'control', 'PHF10', 'SMARCB1', 'SMARCD3', 'GLTSCR1L', 'SMARCC1', 'ACTL6A', 'GLTSCR1', 'PBRM1', 'ARID1B', 'ACTL6B', 'SS18', 'SMARCA2', 'ARID1A', 'DPF3', 'SMARCD1', 'SMARCE1', 'BCL7A', 'SMARCA4', 'guide', 'guide.compact', 'gene', 'gene.compact', 'unassigned', 'perturbs_per_cell.guide', 'cell_state', 'guide_qc', 'profile', 'guide.compact.with_control'\n",
       "    var: 'n_cells', 'highly_variable', 'means', 'dispersions', 'dispersions_norm'\n",
       "    uns: 'Detection_probability', 'MOI', 'cell_state_colors', 'cells_per_condition.gene.incl_multi_inf', 'cells_per_condition.guide.incl_multi_inf', 'cells_per_individual_perturb.gene.incl_multi_inf', 'cells_per_individual_perturb.gene.singly_inf', 'cells_per_individual_perturb.guide.incl_multi_inf', 'cells_per_individual_perturb.guide.singly_inf', 'guide2gene', 'louvain', 'louvain_colors', 'neighbors', 'pca', 'sorted_genes', 'sorted_guides', 'target_gene_expr_in_control', 'umap', 'rank_genes_groups', 'bulk.gene.compact'\n",
       "    obsm: 'X_pca', 'X_umap'\n",
       "    varm: 'PCs'\n",
       "    obsp: 'connectivities', 'distances'"
      ]
     },
     "execution_count": 33,
     "metadata": {},
     "output_type": "execute_result"
    }
   ],
   "source": [
    "adata"
   ]
  },
  {
   "cell_type": "code",
   "execution_count": 34,
   "id": "6f8924dc",
   "metadata": {},
   "outputs": [],
   "source": [
    "adata.uns['bulk.gene.compact.filtered']=perturb.tl.bulk(adata,'gene.compact',return_matrix=True,use_raw=False)"
   ]
  },
  {
   "cell_type": "code",
   "execution_count": 35,
   "id": "729e9d0e",
   "metadata": {},
   "outputs": [],
   "source": [
    "adata.uns['bulk.gene.compact.filtered.corr']=perturb.util.corr_mat(adata.uns['bulk.gene.compact.filtered'])"
   ]
  },
  {
   "cell_type": "code",
   "execution_count": 47,
   "id": "1a28c20b",
   "metadata": {},
   "outputs": [
    {
     "data": {
      "image/png": "[encoded data removed]",
      "text/plain": [
       "<Figure size 720x720 with 4 Axes>"
      ]
     },
     "metadata": {
      "needs_background": "light"
     },
     "output_type": "display_data"
    }
   ],
   "source": [
    "corrmat=adata.uns['bulk.gene.compact.filtered.corr']\n",
    "show=list(set(corrmat.columns).difference(set(['unassigned'])))\n",
    "\n",
    "\n",
    "import seaborn as sns\n",
    "x=1\n",
    "sns.clustermap(corrmat.loc[show,show],cmap='bwr',\n",
    "               xticklabels=True,yticklabels=True,\n",
    "               cbar_pos=(0.01, 0.9, 0.1, 0.05),\n",
    "                 cbar_kws={'orientation':'horizontal',\n",
    "                \"label\": \"Spearman\\ncorrelation\",\n",
    "                'ticks':[-x,0,x]},\n",
    "              vmin=-x,vmax=x)\n",
    "\n",
    "plt.savefig(FIGS+'corr.gene.heatmap.pdf',transparent=True,bbox_inches='tight')\n",
    "plt.savefig(FIGS+'corr.gene.heatmap.png',transparent=True,bbox_inches='tight')\n"
   ]
  },
  {
   "cell_type": "code",
   "execution_count": null,
   "id": "8c44bf26",
   "metadata": {},
   "outputs": [],
   "source": []
  }
 ],
 "metadata": {
  "kernelspec": {
   "display_name": "Python 3",
   "language": "python",
   "name": "python3"
  },
  "language_info": {
   "codemirror_mode": {
    "name": "ipython",
    "version": 3
   },
   "file_extension": ".py",
   "mimetype": "text/x-python",
   "name": "python",
   "nbconvert_exporter": "python",
   "pygments_lexer": "ipython3",
   "version": "3.8.8"
  }
 },
 "nbformat": 4,
 "nbformat_minor": 5
}
