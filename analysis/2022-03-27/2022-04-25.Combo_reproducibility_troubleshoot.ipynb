{
 "cells": [
  {
   "cell_type": "code",
   "execution_count": 1,
   "id": "3c8a9027",
   "metadata": {},
   "outputs": [
    {
     "name": "stderr",
     "output_type": "stream",
     "text": [
      "WARNING: If you miss a compact list, please try `print_header`!\n"
     ]
    },
    {
     "name": "stdout",
     "output_type": "stream",
     "text": [
      "The `sinfo` package has changed name and is now called `session_info` to become more discoverable and self-explanatory. The `sinfo` PyPI package will be kept around to avoid breaking old installs and you can downgrade to 0.3.2 if you want to use it without seeing this message. For the latest features and bug fixes, please install `session_info` instead. The usage and defaults also changed slightly, so please review the latest README at https://gitlab.com/joelostblom/session_info.\n",
      "-----\n",
      "anndata     0.7.6\n",
      "scanpy      1.7.2\n",
      "sinfo       0.3.4\n",
      "-----\n",
      "PIL                 8.2.0\n",
      "anyio               NA\n",
      "appnope             0.1.2\n",
      "attr                20.3.0\n",
      "babel               2.9.0\n",
      "backcall            0.2.0\n",
      "bottleneck          1.3.2\n",
      "brotli              NA\n",
      "cairo               1.20.1\n",
      "certifi             2020.12.05\n",
      "cffi                1.14.5\n",
      "chardet             4.0.0\n",
      "cloudpickle         1.6.0\n",
      "colorama            0.4.4\n",
      "cycler              0.10.0\n",
      "cython_runtime      NA\n",
      "cytoolz             0.11.0\n",
      "dask                2021.04.0\n",
      "dateutil            2.8.1\n",
      "decorator           5.0.6\n",
      "dunamai             1.5.5\n",
      "fsspec              0.9.0\n",
      "get_version         3.2\n",
      "h5py                2.10.0\n",
      "idna                2.10\n",
      "igraph              0.7.1\n",
      "ipykernel           5.3.4\n",
      "ipython_genutils    0.2.0\n",
      "ipywidgets          7.6.3\n",
      "jedi                0.17.2\n",
      "jinja2              2.11.3\n",
      "joblib              1.0.1\n",
      "json5               NA\n",
      "jsonschema          3.2.0\n",
      "jupyter_server      1.4.1\n",
      "jupyterlab_server   2.4.0\n",
      "kiwisolver          1.3.1\n",
      "legacy_api_wrap     1.2\n",
      "leidenalg           0.7.0\n",
      "llvmlite            0.36.0\n",
      "markupsafe          1.1.1\n",
      "matplotlib          3.3.4\n",
      "mkl                 2.3.0\n",
      "mpl_toolkits        NA\n",
      "natsort             7.1.1\n",
      "nbclassic           NA\n",
      "nbformat            5.1.3\n",
      "numba               0.53.1\n",
      "numexpr             2.7.3\n",
      "numpy               1.20.1\n",
      "packaging           20.9\n",
      "pandas              1.2.4\n",
      "parso               0.7.0\n",
      "perturbseq          NA\n",
      "pexpect             4.8.0\n",
      "pickleshare         0.7.5\n",
      "pkg_resources       NA\n",
      "prometheus_client   NA\n",
      "prompt_toolkit      3.0.17\n",
      "psutil              5.8.0\n",
      "ptyprocess          0.7.0\n",
      "pvectorc            NA\n",
      "pygments            2.8.1\n",
      "pyparsing           2.4.7\n",
      "pyrsistent          NA\n",
      "pytz                2021.1\n",
      "requests            2.25.1\n",
      "scipy               1.6.2\n",
      "seaborn             0.11.1\n",
      "send2trash          NA\n",
      "six                 1.15.0\n",
      "sklearn             0.24.1\n",
      "sniffio             1.2.0\n",
      "socks               1.7.1\n",
      "sphinxcontrib       NA\n",
      "statsmodels         0.12.2\n",
      "storemagic          NA\n",
      "tables              3.6.1\n",
      "tblib               1.7.0\n",
      "tlz                 0.11.0\n",
      "toolz               0.11.1\n",
      "tornado             6.1\n",
      "traitlets           5.0.5\n",
      "typing_extensions   NA\n",
      "urllib3             1.26.4\n",
      "wcwidth             0.2.5\n",
      "yaml                5.4.1\n",
      "zmq                 20.0.0\n",
      "zope                NA\n",
      "-----\n",
      "IPython             7.22.0\n",
      "jupyter_client      6.1.12\n",
      "jupyter_core        4.7.1\n",
      "jupyterlab          3.0.14\n",
      "notebook            6.3.0\n",
      "-----\n",
      "Python 3.8.8 (default, Apr 13 2021, 12:59:45) [Clang 10.0.0 ]\n",
      "macOS-10.15.7-x86_64-i386-64bit\n",
      "8 logical CPU cores, i386\n",
      "-----\n",
      "Session information updated at 2022-04-27 12:22\n",
      "\n"
     ]
    }
   ],
   "source": [
    "import numpy as np\n",
    "import pandas as pd\n",
    "import scanpy as sc\n",
    "import sys\n",
    "#sys.path.append(\"/ahg/regevdata/projects/Cell2CellCommunication/code/MIMOSCA\")\n",
    "import perturbseq as perturb\n",
    "\n",
    "%matplotlib inline\n",
    "import matplotlib.pyplot as plt\n",
    "\n",
    "\n",
    "sc.settings.verbosity = 3  # verbosity: errors (0), warnings (1), info (2), hints (3)\n",
    "sc.settings.set_figure_params(dpi=200, color_map='viridis')\n",
    "sc.logging.print_versions()\n",
    "import matplotlib\n",
    "matplotlib.rcParams['pdf.fonttype'] = 42\n",
    "matplotlib.rcParams['ps.fonttype'] = 42"
   ]
  },
  {
   "cell_type": "code",
   "execution_count": 2,
   "id": "d45f0129",
   "metadata": {},
   "outputs": [
    {
     "name": "stderr",
     "output_type": "stream",
     "text": [
      "WARNING: Your filename has more than two extensions: ['.analysis', '.2021-06-17', '.h5ad'].\n",
      "Only considering the two last: ['.2021-06-17', '.h5ad'].\n",
      "WARNING: Your filename has more than two extensions: ['.analysis', '.2021-06-17', '.h5ad'].\n",
      "Only considering the two last: ['.2021-06-17', '.h5ad'].\n"
     ]
    },
    {
     "data": {
      "text/plain": [
       "AnnData object with n_obs × n_vars = 6319 × 18332\n",
       "    obs: 'batch', 'SMARCC1_7', 'GLTSCR1_1', 'BCL7B_1', 'SMARCD1_4', 'DPF2_4', 'BRD9_2', 'BCL7C_2', 'SS18_2', 'GLTSCR1L_3', 'PHF10_1', 'NTC7_IG1144056', 'ARID2_1', 'SMARCD2_3', 'SMARCA2_4', 'ARID1B_4', 'BCL7A_3', 'SMARCC2_3', 'SMARCE1_1', 'NTC1_IG345439', 'SMARCB1_5', 'BRD7_2', 'SMARCA4_4', 'NTC6_IG1216445', 'SS18L_1', 'PBRM1_3', 'ARID1A_3', 'gene.cell', 'gene.BCL7A', 'gene.ARID2', 'gene.ARID1A', 'gene.PHF10', 'gene.GLTSCR1L', 'gene.SS18', 'gene.DPF2', 'gene.SMARCA4', 'gene.BCL7B', 'gene.SMARCC2', 'gene.SS18L', 'gene.SMARCA2', 'gene.SMARCD2', 'gene.SMARCB1', 'gene.GLTSCR1', 'gene.NTC', 'gene.SMARCD1', 'gene.ARID1B', 'gene.BRD9', 'gene.BRD7', 'gene.SMARCE1', 'gene.PBRM1', 'gene.SMARCC1', 'gene.BCL7C', 'guide', 'guide.compact', 'n_genes', 'n_genes_by_counts', 'total_counts', 'total_counts_mt', 'pct_counts_mt', '1', '2', '0', 'louvain', 'NTC1', 'PHF10', 'GLTSCR1', 'SMARCA2', 'GLTSCR1L', 'SMARCC1', 'BRD7', 'BCL7B', 'ARID1B', 'BRD9', 'ARID1A', 'SS18', 'SMARCB1', 'SMARCE1', 'PBRM1', 'BCL7C', 'SMARCD1', 'SS18L1', 'NTC6', 'SMARCD2', 'BCL7A', 'cell', 'NTC7', 'DPF2', 'SMARCC2', 'SMARCA4', 'ARID2', 'gene', 'gene.compact', 'unassigned', 'guide2', 'gene2'\n",
       "    var: 'n_cells', 'mt', 'n_cells_by_counts', 'mean_counts', 'pct_dropout_by_counts', 'total_counts', 'highly_variable', 'means', 'dispersions', 'dispersions_norm', 'mean', 'std'\n",
       "    uns: 'louvain', 'louvain_colors', 'neighbors', 'pca', 'umap'\n",
       "    obsm: 'X_pca', 'X_umap', 'cell2gene', 'cell2guide'\n",
       "    varm: 'PCs'\n",
       "    obsp: 'connectivities', 'distances'"
      ]
     },
     "execution_count": 2,
     "metadata": {},
     "output_type": "execute_result"
    }
   ],
   "source": [
    "#combo data\n",
    "COMBO_DATA=\"/Users/ursuo/Documents/research/baf/data/2021-06-17/combo2\"\n",
    "adata=sc.read(COMBO_DATA+'/Baf_combo.analysis.2021-06-17.h5ad')\n",
    "adata"
   ]
  },
  {
   "cell_type": "code",
   "execution_count": 3,
   "id": "d221c6ed",
   "metadata": {},
   "outputs": [],
   "source": [
    "def DE(adata_here,reference,groupby,fdr=0.01,use_raw=False,compute_lfc=False):\n",
    "\n",
    "    if use_raw:\n",
    "        genes=adata_here.raw.var_names\n",
    "    else:\n",
    "        genes=adata_here.var_names\n",
    "        \n",
    "    groupby_options=list(set(adata_here.obs[groupby]).difference(set([reference])))\n",
    "\n",
    "    sc.tl.rank_genes_groups(adata_here,groupby=groupby,n_genes=len(genes), \n",
    "                            reference=reference,\n",
    "                            use_raw=use_raw,rankby_abs=True,\n",
    "                            method='t-test_overestim_var',\n",
    "                            #corr_method='bonferroni',\n",
    "                           )\n",
    "\n",
    "    pval_mat=pd.DataFrame(index=groupby_options,columns=genes,dtype=float)\n",
    "    sign_mat=pd.DataFrame(index=groupby_options,columns=genes,dtype=float)\n",
    "    \n",
    "    #bulkify\n",
    "    bulk=perturb.tl.bulk(adata_here,grouping_variable=groupby,by_batch=False,\n",
    "                         return_matrix=True)\n",
    "    #subtract the control from the bulk to get the sign\n",
    "    sign_mat_full=bulk-bulk.loc[reference,:]\n",
    "    \n",
    "    if compute_lfc:\n",
    "        lfc_mat=pd.DataFrame(index=groupby_options,columns=genes,dtype=float)\n",
    "    \n",
    "    for groupby_option in groupby_options:\n",
    "        if groupby_option==reference:\n",
    "            continue\n",
    "        df_here=sc.get.rank_genes_groups_df(adata_here,group=groupby_option)\n",
    "        df_here.index=list(df_here['names'])\n",
    "        #pvalue\n",
    "        pval_mat.loc[groupby_option,:]=df_here.loc[genes,'pvals_adj']\n",
    "        if compute_lfc:\n",
    "            lfc_mat.loc[groupby_option,:]=df_here.loc[genes,'logfoldchanges']\n",
    "        sign_mat.loc[groupby_option,:]=np.sign(sign_mat_full.loc[groupby_option,genes])\n",
    "        \n",
    "    signed_pval_mat=pd.DataFrame(np.multiply(-np.log10(pval_mat),np.sign(sign_mat)),\n",
    "                                 index=groupby_options,columns=genes,dtype=float)\n",
    "    return(signed_pval_mat)"
   ]
  },
  {
   "cell_type": "code",
   "execution_count": 4,
   "id": "7317e45e",
   "metadata": {},
   "outputs": [
    {
     "name": "stdout",
     "output_type": "stream",
     "text": [
      "/Users/ursuo/Documents/research/baf/data/2022-03-27/combo2/combo2.iter.3\n"
     ]
    }
   ],
   "source": [
    "fdr=0.01\n",
    "gene_guides=['ARID1A', 'ARID1B','ARID1A,ARID1B']\n",
    "x='3'\n",
    "DATA=\"/Users/ursuo/Documents/research/baf/data/2022-03-27/combo2\"\n",
    "FIGS=\"/Users/ursuo/Documents/research/baf/data/2022-03-27/Figures/\"\n",
    "pref=DATA+'/combo2.iter.'+x\n",
    "print(pref)\n",
    "\n",
    "modelname='___'.join(gene_guides)"
   ]
  },
  {
   "cell_type": "code",
   "execution_count": 5,
   "id": "ed5d55fe",
   "metadata": {},
   "outputs": [
    {
     "name": "stderr",
     "output_type": "stream",
     "text": [
      "ranking genes\n",
      "... storing 'SMARCC1_7' as categorical\n",
      "... storing 'GLTSCR1_1' as categorical\n",
      "... storing 'BCL7B_1' as categorical\n",
      "... storing 'SMARCD1_4' as categorical\n",
      "... storing 'DPF2_4' as categorical\n",
      "... storing 'BRD9_2' as categorical\n",
      "... storing 'BCL7C_2' as categorical\n",
      "... storing 'SS18_2' as categorical\n",
      "... storing 'GLTSCR1L_3' as categorical\n",
      "... storing 'PHF10_1' as categorical\n",
      "... storing 'NTC7_IG1144056' as categorical\n",
      "... storing 'ARID2_1' as categorical\n",
      "... storing 'SMARCD2_3' as categorical\n",
      "... storing 'SMARCA2_4' as categorical\n",
      "... storing 'ARID1B_4' as categorical\n",
      "... storing 'BCL7A_3' as categorical\n",
      "... storing 'SMARCC2_3' as categorical\n",
      "... storing 'SMARCE1_1' as categorical\n",
      "... storing 'NTC1_IG345439' as categorical\n",
      "... storing 'SMARCB1_5' as categorical\n",
      "... storing 'BRD7_2' as categorical\n",
      "... storing 'SMARCA4_4' as categorical\n",
      "... storing 'NTC6_IG1216445' as categorical\n",
      "... storing 'SS18L_1' as categorical\n",
      "... storing 'PBRM1_3' as categorical\n",
      "... storing 'ARID1A_3' as categorical\n",
      "    finished: added to `.uns['rank_genes_groups']`\n",
      "    'names', sorted np.recarray to be indexed by group ids\n",
      "    'scores', sorted np.recarray to be indexed by group ids\n",
      "    'logfoldchanges', sorted np.recarray to be indexed by group ids\n",
      "    'pvals', sorted np.recarray to be indexed by group ids\n",
      "    'pvals_adj', sorted np.recarray to be indexed by group ids (0:00:01)\n"
     ]
    }
   ],
   "source": [
    "pval_mat=DE(adata,'control',groupby='gene2',fdr=fdr,use_raw=True,compute_lfc=True)"
   ]
  },
  {
   "cell_type": "code",
   "execution_count": 6,
   "id": "12432a23",
   "metadata": {},
   "outputs": [
    {
     "name": "stdout",
     "output_type": "stream",
     "text": [
      "2233\n"
     ]
    }
   ],
   "source": [
    "#get only DE genes\n",
    "\n",
    "de_genes=list(pval_mat.loc[gene_guides,pval_mat.loc[gene_guides,:].abs().max(axis=0)>=-np.log10(fdr)].columns)\n",
    "print(len(de_genes))\n",
    "adata2=adata[:,de_genes]"
   ]
  },
  {
   "cell_type": "code",
   "execution_count": 7,
   "id": "4a9df77a",
   "metadata": {},
   "outputs": [
    {
     "name": "stderr",
     "output_type": "stream",
     "text": [
      "Trying to set attribute `.obs` of view, copying.\n"
     ]
    },
    {
     "name": "stdout",
     "output_type": "stream",
     "text": [
      "WARNING: Over-writing adata.obs[\"PS.ARID1A___ARID1B___ARID1A,ARID1B.train_valid_test\"]\n",
      "splitting train    5055\n",
      "test      632\n",
      "valid     632\n",
      "Name: train_valid_test, dtype: int64\n",
      "Warning: ARID1A,ARID1B is not in the provided dataset and will be ignored\n",
      "Found 2/3 perturbations\n",
      "WARNING: control variable \"control\" not in dataset. Ignoring.\n",
      "Found 0/0 obs\n",
      "Found 0/0 covariates\n",
      "(1242, 3) (1242, 0) (1242, 2233)\n",
      "train    5055\n",
      "test      632\n",
      "valid     632\n",
      "Name: PS.ARID1A___ARID1B___ARID1A,ARID1B.train_valid_test, dtype: int64\n",
      "train 1002\n",
      "valid 109\n",
      "test 131\n",
      "\n",
      "Fitting model\n",
      " ElasticNet(alpha=0.05, max_iter=10000,\n",
      "           random_state=RandomState(MT19937) at 0x7FD25ED12140,\n",
      "           selection='random')\n",
      "training [0, 1, 2, 3, 4, 5, 6, 8, 9, 10, 11, 12, 15, 16, 18, 20, 21, 22, 23, 24, 25, 26, 27, 28, 30, 32, 33, 34, 37, 38, 39, 40, 42, 43, 44, 45, 46, 47, 48, 49, 50, 51, 52, 53, 54, 56, 57, 59, 60, 61, 62, 63, 64, 65, 66, 67, 68, 70, 71, 72, 74, 76, 78, 79, 80, 82, 83, 84, 85, 86, 87, 88, 89, 90, 92, 93, 94, 96, 97, 98, 99, 100, 101, 103, 104, 105, 107, 108, 109, 110, 111, 112, 114, 115, 117, 118, 119, 120, 121, 123, 125, 126, 127, 128, 129, 130, 131, 132, 133, 136, 137, 138, 139, 140, 141, 142, 143, 144, 145, 147, 148, 150, 152, 153, 155, 156, 158, 159, 160, 161, 162, 163, 165, 166, 167, 168, 169, 170, 171, 172, 173, 174, 175, 176, 177, 178, 179, 180, 181, 182, 185, 186, 187, 188, 189, 190, 191, 192, 193, 195, 196, 197, 198, 199, 200, 201, 202, 203, 204, 205, 207, 209, 211, 212, 213, 215, 216, 217, 218, 219, 221, 222, 223, 224, 225, 226, 228, 230, 232, 233, 234, 235, 236, 237, 238, 239, 240, 241, 242, 243, 244, 245, 246, 247, 248, 250, 251, 252, 253, 255, 256, 258, 259, 261, 262, 263, 264, 266, 267, 269, 270, 271, 272, 273, 276, 277, 278, 279, 280, 281, 282, 283, 284, 285, 286, 288, 289, 290, 291, 292, 293, 294, 295, 296, 297, 299, 300, 301, 302, 304, 305, 306, 307, 308, 309, 310, 311, 313, 314, 315, 316, 317, 319, 320, 321, 322, 323, 325, 326, 327, 329, 330, 333, 335, 337, 338, 339, 341, 342, 343, 344, 345, 346, 347, 348, 349, 350, 351, 352, 353, 355, 356, 357, 358, 360, 361, 362, 363, 364, 365, 366, 367, 368, 370, 371, 372, 373, 374, 376, 379, 380, 381, 382, 383, 385, 386, 387, 388, 389, 391, 392, 395, 396, 397, 398, 399, 400, 401, 402, 403, 404, 405, 407, 408, 410, 412, 413, 414, 415, 416, 417, 418, 419, 420, 422, 423, 424, 425, 428, 429, 430, 431, 432, 433, 435, 437, 438, 441, 443, 445, 446, 448, 449, 451, 452, 454, 455, 457, 458, 460, 461, 462, 463, 465, 466, 467, 468, 471, 472, 473, 474, 475, 476, 478, 481, 482, 484, 485, 486, 487, 488, 489, 490, 491, 492, 493, 494, 495, 496, 498, 501, 502, 503, 504, 505, 506, 507, 508, 509, 510, 511, 512, 513, 514, 515, 517, 518, 519, 520, 521, 522, 523, 524, 525, 526, 527, 528, 529, 530, 531, 532, 534, 535, 536, 537, 539, 540, 541, 542, 543, 544, 545, 546, 547, 548, 549, 550, 551, 552, 553, 554, 555, 556, 559, 560, 561, 562, 563, 564, 566, 568, 569, 570, 573, 574, 576, 577, 578, 579, 580, 582, 583, 584, 587, 588, 589, 592, 593, 595, 596, 597, 598, 600, 601, 602, 603, 604, 605, 606, 607, 608, 609, 610, 612, 613, 615, 617, 618, 619, 620, 621, 622, 623, 624, 625, 626, 627, 628, 629, 630, 631, 632, 635, 636, 639, 640, 641, 642, 645, 646, 647, 650, 651, 652, 653, 654, 655, 656, 657, 658, 659, 660, 662, 663, 664, 666, 667, 668, 669, 671, 672, 673, 674, 675, 676, 678, 680, 682, 684, 685, 686, 687, 688, 689, 690, 693, 694, 695, 696, 698, 699, 700, 701, 703, 704, 706, 707, 708, 709, 710, 711, 712, 713, 714, 715, 716, 717, 718, 719, 720, 721, 723, 724, 725, 726, 727, 728, 729, 730, 731, 732, 733, 734, 735, 736, 737, 739, 740, 741, 743, 744, 745, 746, 747, 748, 749, 751, 752, 753, 754, 755, 756, 757, 758, 760, 761, 762, 763, 765, 766, 767, 769, 770, 771, 772, 773, 774, 775, 776, 778, 779, 780, 781, 782, 784, 785, 786, 787, 789, 790, 791, 792, 793, 794, 795, 796, 797, 798, 799, 800, 801, 802, 804, 805, 806, 807, 808, 809, 810, 811, 812, 813, 814, 817, 818, 819, 820, 821, 822, 823, 824, 825, 826, 828, 830, 831, 833, 834, 835, 836, 837, 838, 839, 840, 842, 843, 844, 846, 847, 848, 849, 850, 851, 852, 853, 854, 855, 856, 857, 860, 863, 864, 866, 870, 871, 873, 874, 875, 877, 878, 879, 880, 881, 883, 885, 887, 888, 890, 891, 892, 893, 894, 895, 896, 897, 898, 899, 900, 901, 902, 903, 904, 905, 906, 907, 908, 909, 910, 911, 912, 913, 914, 915, 916, 917, 918, 919, 920, 923, 924, 926, 927, 928, 929, 930, 931, 932, 933, 934, 935, 936, 937, 938, 939, 940, 941, 943, 944, 946, 947, 948, 949, 950, 951, 952, 953, 954, 955, 956, 957, 960, 962, 963, 964, 965, 966, 967, 968, 969, 970, 971, 973, 974, 975, 976, 977, 980, 981, 982, 983, 984, 987, 988, 989, 990, 991, 992, 993, 994, 995, 996, 997, 998, 999, 1000, 1001, 1003, 1004, 1006, 1007, 1008, 1009, 1010, 1011, 1012, 1013, 1014, 1015, 1016, 1017, 1018, 1019, 1020, 1023, 1024, 1028, 1029, 1030, 1032, 1033, 1035, 1036, 1037, 1038, 1040, 1041, 1042, 1044, 1045, 1046, 1047, 1048, 1051, 1052, 1053, 1054, 1055, 1056, 1057, 1058, 1060, 1062, 1065, 1066, 1069, 1070, 1072, 1073, 1074, 1076, 1077, 1078, 1079, 1083, 1084, 1087, 1088, 1090, 1091, 1092, 1094, 1095, 1096, 1097, 1098, 1099, 1100, 1101, 1103, 1104, 1105, 1107, 1108, 1109, 1110, 1112, 1113, 1114, 1115, 1116, 1117, 1118, 1119, 1120, 1122, 1123, 1124, 1125, 1126, 1128, 1129, 1130, 1131, 1132, 1133, 1135, 1136, 1137, 1139, 1140, 1142, 1143, 1144, 1146, 1147, 1148, 1149, 1150, 1151, 1152, 1153, 1154, 1155, 1156, 1157, 1158, 1160, 1161, 1162, 1163, 1164, 1165, 1166, 1167, 1168, 1169, 1170, 1171, 1172, 1174, 1175, 1176, 1177, 1178, 1180, 1181, 1182, 1183, 1184, 1186, 1187, 1188, 1189, 1190, 1191, 1192, 1193, 1194, 1196, 1198, 1200, 1201, 1203, 1204, 1205, 1206, 1207, 1208, 1209, 1210, 1211, 1213, 1214, 1216, 1217, 1219, 1220, 1221, 1222, 1223, 1224, 1225, 1227, 1228, 1229, 1230, 1233, 1235, 1237, 1239, 1240, 1241]\n",
      "x (1242, 3)\n",
      "model coeff (2233, 3)\n"
     ]
    }
   ],
   "source": [
    "from sklearn.linear_model import LinearRegression\n",
    "from sklearn.linear_model import ElasticNet\n",
    "from sklearn import linear_model\n",
    "my_rng=np.random.RandomState(1234)\n",
    "reg=linear_model.ElasticNet(l1_ratio=0.5,alpha=0.05,max_iter=10000,random_state=my_rng,selection='random')\n",
    "\n",
    "\n",
    "perturb.lm.train_lm(adata2,\n",
    "        lm=reg,\n",
    "        include_expression=True,\n",
    "        #y_obs=pcs,\n",
    "        model_name=modelname,\n",
    "        perturbations_list=gene_guides,\n",
    "        covariates_list=[],\n",
    "        my_rng=my_rng,\n",
    "        adjust=False,\n",
    "         adjust_vars=[],\n",
    "        copy_adata=False,\n",
    "        keep_unassigned=False,\n",
    "         control_names=['control'],\n",
    "       use_raw=False)"
   ]
  },
  {
   "cell_type": "code",
   "execution_count": 8,
   "id": "4848905e",
   "metadata": {},
   "outputs": [],
   "source": [
    "coef=adata2.uns['PS.'+modelname+'.coef']\n",
    "#coef=adata2.obs['PS.'+modelname+'.train_valid_test']\n",
    "coef.to_csv(pref+'coef'+x+'.csv')"
   ]
  },
  {
   "cell_type": "code",
   "execution_count": 9,
   "id": "e6dba189",
   "metadata": {},
   "outputs": [],
   "source": [
    "coef1=pd.read_csv(DATA+'/combo2.iter.1coef1.csv')\n",
    "coef2=pd.read_csv(DATA+'/combo2.iter.2coef2.csv')\n",
    "coef2=pd.read_csv(DATA+'/combo2.iter.3coef3.csv')"
   ]
  },
  {
   "cell_type": "code",
   "execution_count": 10,
   "id": "a228328d",
   "metadata": {},
   "outputs": [
    {
     "data": {
      "text/plain": [
       "Unnamed: 0       0\n",
       "ARID1A           0\n",
       "ARID1B           0\n",
       "ARID1A,ARID1B    0\n",
       "dtype: int64"
      ]
     },
     "execution_count": 10,
     "metadata": {},
     "output_type": "execute_result"
    }
   ],
   "source": [
    "(coef1!=coef2).sum()"
   ]
  },
  {
   "cell_type": "code",
   "execution_count": 11,
   "id": "ea337f4c",
   "metadata": {},
   "outputs": [
    {
     "data": {
      "text/plain": [
       "Unnamed: 0       2233\n",
       "ARID1A           2233\n",
       "ARID1B           2233\n",
       "ARID1A,ARID1B    2233\n",
       "dtype: int64"
      ]
     },
     "execution_count": 11,
     "metadata": {},
     "output_type": "execute_result"
    }
   ],
   "source": [
    "(coef1==coef2).sum()"
   ]
  },
  {
   "cell_type": "code",
   "execution_count": 12,
   "id": "986fdcd6",
   "metadata": {},
   "outputs": [
    {
     "data": {
      "text/html": [
       "<div>\n",
       "<style scoped>\n",
       "    .dataframe tbody tr th:only-of-type {\n",
       "        vertical-align: middle;\n",
       "    }\n",
       "\n",
       "    .dataframe tbody tr th {\n",
       "        vertical-align: top;\n",
       "    }\n",
       "\n",
       "    .dataframe thead th {\n",
       "        text-align: right;\n",
       "    }\n",
       "</style>\n",
       "<table border=\"1\" class=\"dataframe\">\n",
       "  <thead>\n",
       "    <tr style=\"text-align: right;\">\n",
       "      <th></th>\n",
       "      <th>Unnamed: 0</th>\n",
       "      <th>ARID1A</th>\n",
       "      <th>ARID1B</th>\n",
       "      <th>ARID1A,ARID1B</th>\n",
       "    </tr>\n",
       "  </thead>\n",
       "  <tbody>\n",
       "    <tr>\n",
       "      <th>0</th>\n",
       "      <td>DCXR</td>\n",
       "      <td>-0.01157</td>\n",
       "      <td>-0.0</td>\n",
       "      <td>-0.10353</td>\n",
       "    </tr>\n",
       "    <tr>\n",
       "      <th>1</th>\n",
       "      <td>EXOSC5</td>\n",
       "      <td>-0.25857</td>\n",
       "      <td>0.0</td>\n",
       "      <td>-0.11262</td>\n",
       "    </tr>\n",
       "    <tr>\n",
       "      <th>2</th>\n",
       "      <td>STOM</td>\n",
       "      <td>-0.11072</td>\n",
       "      <td>0.0</td>\n",
       "      <td>-0.07493</td>\n",
       "    </tr>\n",
       "    <tr>\n",
       "      <th>3</th>\n",
       "      <td>PDIA6</td>\n",
       "      <td>-0.44811</td>\n",
       "      <td>0.0</td>\n",
       "      <td>-0.09111</td>\n",
       "    </tr>\n",
       "    <tr>\n",
       "      <th>4</th>\n",
       "      <td>LRR1</td>\n",
       "      <td>-0.26666</td>\n",
       "      <td>0.0</td>\n",
       "      <td>-0.11775</td>\n",
       "    </tr>\n",
       "  </tbody>\n",
       "</table>\n",
       "</div>"
      ],
      "text/plain": [
       "  Unnamed: 0   ARID1A  ARID1B  ARID1A,ARID1B\n",
       "0       DCXR -0.01157    -0.0       -0.10353\n",
       "1     EXOSC5 -0.25857     0.0       -0.11262\n",
       "2       STOM -0.11072     0.0       -0.07493\n",
       "3      PDIA6 -0.44811     0.0       -0.09111\n",
       "4       LRR1 -0.26666     0.0       -0.11775"
      ]
     },
     "execution_count": 12,
     "metadata": {},
     "output_type": "execute_result"
    }
   ],
   "source": [
    "coef1.head()"
   ]
  },
  {
   "cell_type": "code",
   "execution_count": 13,
   "id": "bee5f331",
   "metadata": {},
   "outputs": [
    {
     "data": {
      "text/html": [
       "<div>\n",
       "<style scoped>\n",
       "    .dataframe tbody tr th:only-of-type {\n",
       "        vertical-align: middle;\n",
       "    }\n",
       "\n",
       "    .dataframe tbody tr th {\n",
       "        vertical-align: top;\n",
       "    }\n",
       "\n",
       "    .dataframe thead th {\n",
       "        text-align: right;\n",
       "    }\n",
       "</style>\n",
       "<table border=\"1\" class=\"dataframe\">\n",
       "  <thead>\n",
       "    <tr style=\"text-align: right;\">\n",
       "      <th></th>\n",
       "      <th>Unnamed: 0</th>\n",
       "      <th>ARID1A</th>\n",
       "      <th>ARID1B</th>\n",
       "      <th>ARID1A,ARID1B</th>\n",
       "    </tr>\n",
       "  </thead>\n",
       "  <tbody>\n",
       "    <tr>\n",
       "      <th>0</th>\n",
       "      <td>DCXR</td>\n",
       "      <td>-0.01157</td>\n",
       "      <td>-0.0</td>\n",
       "      <td>-0.10353</td>\n",
       "    </tr>\n",
       "    <tr>\n",
       "      <th>1</th>\n",
       "      <td>EXOSC5</td>\n",
       "      <td>-0.25857</td>\n",
       "      <td>0.0</td>\n",
       "      <td>-0.11262</td>\n",
       "    </tr>\n",
       "    <tr>\n",
       "      <th>2</th>\n",
       "      <td>STOM</td>\n",
       "      <td>-0.11072</td>\n",
       "      <td>0.0</td>\n",
       "      <td>-0.07493</td>\n",
       "    </tr>\n",
       "    <tr>\n",
       "      <th>3</th>\n",
       "      <td>PDIA6</td>\n",
       "      <td>-0.44811</td>\n",
       "      <td>0.0</td>\n",
       "      <td>-0.09111</td>\n",
       "    </tr>\n",
       "    <tr>\n",
       "      <th>4</th>\n",
       "      <td>LRR1</td>\n",
       "      <td>-0.26666</td>\n",
       "      <td>0.0</td>\n",
       "      <td>-0.11775</td>\n",
       "    </tr>\n",
       "  </tbody>\n",
       "</table>\n",
       "</div>"
      ],
      "text/plain": [
       "  Unnamed: 0   ARID1A  ARID1B  ARID1A,ARID1B\n",
       "0       DCXR -0.01157    -0.0       -0.10353\n",
       "1     EXOSC5 -0.25857     0.0       -0.11262\n",
       "2       STOM -0.11072     0.0       -0.07493\n",
       "3      PDIA6 -0.44811     0.0       -0.09111\n",
       "4       LRR1 -0.26666     0.0       -0.11775"
      ]
     },
     "execution_count": 13,
     "metadata": {},
     "output_type": "execute_result"
    }
   ],
   "source": [
    "coef2.head()"
   ]
  },
  {
   "cell_type": "code",
   "execution_count": 16,
   "id": "712570cc",
   "metadata": {},
   "outputs": [
    {
     "data": {
      "image/png": "[encoded data removed]",
      "text/plain": [
       "<Figure size 2000x1200 with 6 Axes>"
      ]
     },
     "metadata": {
      "needs_background": "light"
     },
     "output_type": "display_data"
    }
   ],
   "source": [
    "perturb.pl.plot_model_performance(adata2,modelname)"
   ]
  },
  {
   "cell_type": "code",
   "execution_count": 14,
   "id": "a7a2aefc",
   "metadata": {},
   "outputs": [
    {
     "data": {
      "text/plain": [
       "AnnData object with n_obs × n_vars = 6319 × 2233\n",
       "    obs: 'batch', 'SMARCC1_7', 'GLTSCR1_1', 'BCL7B_1', 'SMARCD1_4', 'DPF2_4', 'BRD9_2', 'BCL7C_2', 'SS18_2', 'GLTSCR1L_3', 'PHF10_1', 'NTC7_IG1144056', 'ARID2_1', 'SMARCD2_3', 'SMARCA2_4', 'ARID1B_4', 'BCL7A_3', 'SMARCC2_3', 'SMARCE1_1', 'NTC1_IG345439', 'SMARCB1_5', 'BRD7_2', 'SMARCA4_4', 'NTC6_IG1216445', 'SS18L_1', 'PBRM1_3', 'ARID1A_3', 'gene.cell', 'gene.BCL7A', 'gene.ARID2', 'gene.ARID1A', 'gene.PHF10', 'gene.GLTSCR1L', 'gene.SS18', 'gene.DPF2', 'gene.SMARCA4', 'gene.BCL7B', 'gene.SMARCC2', 'gene.SS18L', 'gene.SMARCA2', 'gene.SMARCD2', 'gene.SMARCB1', 'gene.GLTSCR1', 'gene.NTC', 'gene.SMARCD1', 'gene.ARID1B', 'gene.BRD9', 'gene.BRD7', 'gene.SMARCE1', 'gene.PBRM1', 'gene.SMARCC1', 'gene.BCL7C', 'guide', 'guide.compact', 'n_genes', 'n_genes_by_counts', 'total_counts', 'total_counts_mt', 'pct_counts_mt', '1', '2', '0', 'louvain', 'NTC1', 'PHF10', 'GLTSCR1', 'SMARCA2', 'GLTSCR1L', 'SMARCC1', 'BRD7', 'BCL7B', 'ARID1B', 'BRD9', 'ARID1A', 'SS18', 'SMARCB1', 'SMARCE1', 'PBRM1', 'BCL7C', 'SMARCD1', 'SS18L1', 'NTC6', 'SMARCD2', 'BCL7A', 'cell', 'NTC7', 'DPF2', 'SMARCC2', 'SMARCA4', 'ARID2', 'gene', 'gene.compact', 'unassigned', 'guide2', 'gene2', 'profile', 'PS.ARID1A___ARID1B___ARID1A,ARID1B.train_valid_test'\n",
       "    var: 'n_cells', 'mt', 'n_cells_by_counts', 'mean_counts', 'pct_dropout_by_counts', 'total_counts', 'highly_variable', 'means', 'dispersions', 'dispersions_norm', 'mean', 'std'\n",
       "    uns: 'louvain', 'louvain_colors', 'neighbors', 'pca', 'umap', 'rank_genes_groups', 'bulk.gene2', 'PS.ARID1A___ARID1B___ARID1A,ARID1B.X', 'PS.ARID1A___ARID1B___ARID1A,ARID1B.y', 'PS.ARID1A___ARID1B___ARID1A,ARID1B.covariates', 'PS.ARID1A___ARID1B___ARID1A,ARID1B.coef', 'PS.ARID1A___ARID1B___ARID1A,ARID1B.performance'\n",
       "    obsm: 'X_pca', 'X_umap', 'cell2gene', 'cell2guide'\n",
       "    varm: 'PCs'\n",
       "    obsp: 'connectivities', 'distances'"
      ]
     },
     "execution_count": 14,
     "metadata": {},
     "output_type": "execute_result"
    }
   ],
   "source": [
    "adata2"
   ]
  },
  {
   "cell_type": "code",
   "execution_count": null,
   "id": "9f33d17d",
   "metadata": {},
   "outputs": [],
   "source": [
    "coef1==coef2"
   ]
  },
  {
   "cell_type": "code",
   "execution_count": null,
   "id": "35db9a3c",
   "metadata": {},
   "outputs": [],
   "source": [
    "(coef1.iloc[:,1:4]-coef2.iloc[:,1:4]).sum()"
   ]
  },
  {
   "cell_type": "code",
   "execution_count": null,
   "id": "095f1fb8",
   "metadata": {},
   "outputs": [],
   "source": [
    "coef1.round(5)"
   ]
  },
  {
   "cell_type": "code",
   "execution_count": null,
   "id": "0c90d095",
   "metadata": {},
   "outputs": [],
   "source": [
    "my_rng.permutation(range(10))"
   ]
  },
  {
   "cell_type": "code",
   "execution_count": null,
   "id": "40d03637",
   "metadata": {},
   "outputs": [],
   "source": [
    "my_rng.permutation(range(10))"
   ]
  },
  {
   "cell_type": "code",
   "execution_count": null,
   "id": "78d8ebdd",
   "metadata": {},
   "outputs": [],
   "source": [
    "my_rng"
   ]
  },
  {
   "cell_type": "code",
   "execution_count": null,
   "id": "dff02fb7",
   "metadata": {},
   "outputs": [],
   "source": [
    "np.random.RandomState(1234).permutation(range(10))"
   ]
  },
  {
   "cell_type": "code",
   "execution_count": null,
   "id": "2069290d",
   "metadata": {},
   "outputs": [],
   "source": [
    "np.random.RandomState(1234).permutation(range(10))"
   ]
  },
  {
   "cell_type": "code",
   "execution_count": null,
   "id": "96591a97",
   "metadata": {},
   "outputs": [],
   "source": [
    "adata"
   ]
  },
  {
   "cell_type": "code",
   "execution_count": null,
   "id": "126b56b9",
   "metadata": {},
   "outputs": [],
   "source": [
    "adata.obs['gene2'].value_counts().median()"
   ]
  },
  {
   "cell_type": "code",
   "execution_count": null,
   "id": "0364c012",
   "metadata": {},
   "outputs": [],
   "source": []
  },
  {
   "cell_type": "code",
   "execution_count": null,
   "id": "e5f23048",
   "metadata": {},
   "outputs": [],
   "source": []
  },
  {
   "cell_type": "code",
   "execution_count": null,
   "id": "89f5ba92",
   "metadata": {},
   "outputs": [],
   "source": []
  },
  {
   "cell_type": "code",
   "execution_count": null,
   "id": "f8d7d654",
   "metadata": {},
   "outputs": [],
   "source": []
  },
  {
   "cell_type": "code",
   "execution_count": null,
   "id": "bbf94b22",
   "metadata": {},
   "outputs": [],
   "source": []
  },
  {
   "cell_type": "code",
   "execution_count": null,
   "id": "329bc960",
   "metadata": {},
   "outputs": [],
   "source": []
  },
  {
   "cell_type": "code",
   "execution_count": null,
   "id": "dde55506",
   "metadata": {},
   "outputs": [],
   "source": []
  },
  {
   "cell_type": "code",
   "execution_count": null,
   "id": "c082fc72",
   "metadata": {},
   "outputs": [],
   "source": []
  },
  {
   "cell_type": "code",
   "execution_count": null,
   "id": "08a9831c",
   "metadata": {},
   "outputs": [],
   "source": []
  },
  {
   "cell_type": "code",
   "execution_count": null,
   "id": "78bfec0b",
   "metadata": {},
   "outputs": [],
   "source": []
  },
  {
   "cell_type": "code",
   "execution_count": null,
   "id": "8b8211ba",
   "metadata": {},
   "outputs": [],
   "source": [
    "from sklearn.linear_model import LinearRegression\n",
    "from sklearn.linear_model import ElasticNet\n",
    "from sklearn import linear_model\n",
    "my_rng=np.random.RandomState(1234)\n",
    "reg=linear_model.ElasticNet(l1_ratio=0.5,alpha=0.05,max_iter=10000,random_state=my_rng,selection='random')\n",
    "\n",
    "X=adata2.uns['PS.'+modelname+'test1.X']\n",
    "y=adata2.uns['PS.'+modelname+'test1.y']\n",
    "\n",
    "reg.fit(X,y)\n",
    "coef=reg.coef_\n",
    "pd.DataFrame(coef).to_csv('coef1.csv')\n",
    "\n",
    "\n",
    "\n",
    "\n",
    "\n",
    "my_rng=np.random.RandomState(1234)\n",
    "reg=linear_model.ElasticNet(l1_ratio=0.5,alpha=0.05,max_iter=10000,random_state=my_rng,selection='random')\n",
    "\n",
    "X=adata2.uns['PS.'+modelname+'test2.X']\n",
    "y=adata2.uns['PS.'+modelname+'test2.y']\n",
    "\n",
    "reg.fit(X,y)\n",
    "coef=reg.coef_\n",
    "pd.DataFrame(coef).to_csv('coef2.csv')"
   ]
  },
  {
   "cell_type": "code",
   "execution_count": null,
   "id": "bcdc651b",
   "metadata": {},
   "outputs": [],
   "source": [
    "coef1=pd.read_csv('coef1.csv')\n",
    "coef2=pd.read_csv('coef2.csv')"
   ]
  },
  {
   "cell_type": "code",
   "execution_count": null,
   "id": "712f508b",
   "metadata": {},
   "outputs": [],
   "source": [
    "(coef1!=coef2).sum()"
   ]
  },
  {
   "cell_type": "code",
   "execution_count": null,
   "id": "558935d6",
   "metadata": {},
   "outputs": [],
   "source": [
    "(coef1==coef2).sum()"
   ]
  },
  {
   "cell_type": "code",
   "execution_count": null,
   "id": "00e5a0b5",
   "metadata": {},
   "outputs": [],
   "source": []
  },
  {
   "cell_type": "code",
   "execution_count": null,
   "id": "49e94a9e",
   "metadata": {},
   "outputs": [],
   "source": []
  },
  {
   "cell_type": "code",
   "execution_count": null,
   "id": "bdd77682",
   "metadata": {},
   "outputs": [],
   "source": []
  },
  {
   "cell_type": "code",
   "execution_count": null,
   "id": "bfd7f168",
   "metadata": {},
   "outputs": [],
   "source": []
  },
  {
   "cell_type": "code",
   "execution_count": null,
   "id": "8b2b3533",
   "metadata": {},
   "outputs": [],
   "source": [
    "from sklearn.linear_model import LinearRegression\n",
    "from sklearn.linear_model import ElasticNet\n",
    "from sklearn import linear_model\n",
    "my_rng=np.random.RandomState(1234)\n",
    "reg=linear_model.ElasticNet(l1_ratio=0.5,alpha=0.05,max_iter=10000,random_state=my_rng,selection='random')\n",
    "\n",
    "\n",
    "perturb.lm.train_lm(adata2,\n",
    "        lm=reg,\n",
    "        include_expression=True,\n",
    "        #y_obs=pcs,\n",
    "        model_name=modelname+'test1',\n",
    "        perturbations_list=gene_guides,\n",
    "        covariates_list=[],\n",
    "        my_rng=my_rng,\n",
    "        adjust=False,\n",
    "         adjust_vars=[],\n",
    "        copy_adata=False,\n",
    "        keep_unassigned=False,\n",
    "         control_names=['control'],\n",
    "       use_raw=False)"
   ]
  },
  {
   "cell_type": "code",
   "execution_count": null,
   "id": "5f1f2446",
   "metadata": {},
   "outputs": [],
   "source": [
    "my_rng=np.random.RandomState(1234)\n",
    "reg=linear_model.ElasticNet(l1_ratio=0.5,alpha=0.05,max_iter=10000,random_state=my_rng,selection='random')\n",
    "\n",
    "perturb.lm.train_lm(adata2,\n",
    "        lm=reg,\n",
    "        include_expression=True,\n",
    "        #y_obs=pcs,\n",
    "        model_name=modelname+'test2',\n",
    "        perturbations_list=gene_guides,\n",
    "        covariates_list=[],\n",
    "        my_rng=my_rng,\n",
    "        adjust=False,\n",
    "         adjust_vars=[],\n",
    "        copy_adata=False,\n",
    "        keep_unassigned=False,\n",
    "         control_names=['control'],\n",
    "       use_raw=False)"
   ]
  },
  {
   "cell_type": "code",
   "execution_count": null,
   "id": "866911ce",
   "metadata": {},
   "outputs": [],
   "source": [
    "coef1=adata2.uns['PS.'+modelname+'test1.coef']\n",
    "coef2=adata2.uns['PS.'+modelname+'test2.coef']\n",
    "\n",
    "#coef1=adata2.uns['PS.'+modelname+'test1.y']\n",
    "#coef2=adata2.uns['PS.'+modelname+'test2.y']\n",
    "\n",
    "#coef1=adata2.obs['PS.'+modelname+'test1.train_valid_test']\n",
    "#coef2=adata2.obs['PS.'+modelname+'test2.train_valid_test']"
   ]
  },
  {
   "cell_type": "code",
   "execution_count": null,
   "id": "5baf0f8a",
   "metadata": {},
   "outputs": [],
   "source": [
    "coef1"
   ]
  },
  {
   "cell_type": "code",
   "execution_count": null,
   "id": "9dacba96",
   "metadata": {},
   "outputs": [],
   "source": [
    "coef2"
   ]
  },
  {
   "cell_type": "code",
   "execution_count": null,
   "id": "95484b52",
   "metadata": {},
   "outputs": [],
   "source": [
    "(coef1!=coef2).sum()"
   ]
  },
  {
   "cell_type": "code",
   "execution_count": null,
   "id": "ff32b565",
   "metadata": {},
   "outputs": [],
   "source": [
    "(coef1==coef2).sum()"
   ]
  },
  {
   "cell_type": "code",
   "execution_count": null,
   "id": "0330ab0d",
   "metadata": {},
   "outputs": [],
   "source": [
    "plt.scatter(coef1.iloc[:,1],coef2.iloc[:,1],s=5,color='black',alpha=0.05)\n",
    "plt.grid(False)\n",
    "#plt.xlim(-0.1,0.1)"
   ]
  },
  {
   "cell_type": "code",
   "execution_count": null,
   "id": "1f355910",
   "metadata": {},
   "outputs": [],
   "source": [
    "(coef2-coef1).abs().max()"
   ]
  },
  {
   "cell_type": "code",
   "execution_count": null,
   "id": "48dda2cf",
   "metadata": {},
   "outputs": [],
   "source": [
    "adata2"
   ]
  },
  {
   "cell_type": "code",
   "execution_count": null,
   "id": "4e9f7f57",
   "metadata": {},
   "outputs": [],
   "source": []
  },
  {
   "cell_type": "code",
   "execution_count": null,
   "id": "f325c5f7",
   "metadata": {},
   "outputs": [],
   "source": []
  },
  {
   "cell_type": "code",
   "execution_count": null,
   "id": "83e06646",
   "metadata": {},
   "outputs": [],
   "source": []
  },
  {
   "cell_type": "code",
   "execution_count": null,
   "id": "f81148f6",
   "metadata": {},
   "outputs": [],
   "source": [
    "coef=adata2.uns['PS.'+modelname+'.coef']\n",
    "coef=adata2.obs['PS.'+modelname+'.train_valid_test']\n",
    "coef.to_csv(pref+'coef'+x+'.csv')"
   ]
  },
  {
   "cell_type": "code",
   "execution_count": null,
   "id": "7ea50dfe",
   "metadata": {},
   "outputs": [],
   "source": [
    "coef1=pd.read_csv(DATA+'/combo2.iter.1coef1.csv')\n",
    "coef2=pd.read_csv(DATA+'/combo2.iter.2coef2.csv')"
   ]
  },
  {
   "cell_type": "code",
   "execution_count": null,
   "id": "6a819803",
   "metadata": {},
   "outputs": [],
   "source": [
    "(coef1!=coef2).sum()"
   ]
  },
  {
   "cell_type": "code",
   "execution_count": null,
   "id": "fcef11d0",
   "metadata": {},
   "outputs": [],
   "source": [
    "(coef1==coef2).sum()"
   ]
  },
  {
   "cell_type": "code",
   "execution_count": null,
   "id": "7080e8ec",
   "metadata": {},
   "outputs": [],
   "source": [
    "#hmm, so models between runs don't reproduce????"
   ]
  },
  {
   "cell_type": "code",
   "execution_count": null,
   "id": "ec84ed6f",
   "metadata": {},
   "outputs": [],
   "source": [
    "coef1"
   ]
  },
  {
   "cell_type": "code",
   "execution_count": null,
   "id": "f4b9ac19",
   "metadata": {},
   "outputs": [],
   "source": [
    "coef2"
   ]
  },
  {
   "cell_type": "code",
   "execution_count": null,
   "id": "ea9e1eaa",
   "metadata": {},
   "outputs": [],
   "source": []
  },
  {
   "cell_type": "code",
   "execution_count": null,
   "id": "31f111d5",
   "metadata": {},
   "outputs": [],
   "source": []
  },
  {
   "cell_type": "code",
   "execution_count": null,
   "id": "7eac521e",
   "metadata": {},
   "outputs": [],
   "source": []
  },
  {
   "cell_type": "code",
   "execution_count": null,
   "id": "bce6e032",
   "metadata": {},
   "outputs": [],
   "source": [
    "import statsmodels   \n",
    "from perturbseq.lm import _train_lm\n",
    "from statsmodels.distributions.empirical_distribution import ECDF\n",
    "\n",
    "    \n",
    "def run_permuted_models(adata_here,\n",
    "                        lm,\n",
    "                       model_name='linear_model',\n",
    "                       num_permutations=1,\n",
    "                        rng=np.random.RandomState(1234),\n",
    "                        adjust=False,\n",
    "                       copy_adata=False):\n",
    "    \n",
    "    if copy_adata: adata_here = adata_here.copy()\n",
    "        \n",
    "    pref='PS.'+model_name\n",
    "        \n",
    "    if not adjust:\n",
    "        try:\n",
    "            xname='X'\n",
    "            assert (pref+'.X' in adata_here.uns and pref+'.y' in adata_here.uns and pref+'.covariates' in adata_here.uns)\n",
    "        except AssertionError:\n",
    "            print('ERROR: '+'PS.'+model_name+'.X, y or covariates are missing. Run perturb.lm.train_lm() first')\n",
    "            return\n",
    "    else:\n",
    "        try:\n",
    "            xname='X_adjust'\n",
    "            assert (pref+'.X_adjust' in adata_here.uns \n",
    "                and pref+'.y' in adata_here.uns \n",
    "                and pref+'.covariates' in adata_here.uns)\n",
    "        except AssertionError:\n",
    "                print('ERROR: '+'PS.'+model_name+'.X_adjust, y or covariates are missing. Run perturb.lm.train_lm() first')\n",
    "                return\n",
    "            \n",
    "    \n",
    "    #=====================\n",
    "    #get permuted datasets\n",
    "    #=====================\n",
    "    print('== Permuting data')\n",
    "    permuted_datasets={}\n",
    "    for p in range(num_permutations):\n",
    "        permuted_datasets[p]=pd.DataFrame(rng.permutation(np.array(adata_here.uns[pref+'.'+xname])),\n",
    "                           index=adata_here.uns[pref+'.'+xname].index,\n",
    "                           columns=adata_here.uns[pref+'.'+xname].columns)\n",
    "    covariates=adata_here.uns[pref+'.covariates']\n",
    "    \n",
    "    \n",
    "    X_df=adata_here.uns[pref+'.'+xname]\n",
    "    X_cells=list(X_df.index)\n",
    "    training=[cellidx for cellidx in range(X_df.shape[0]) if adata_here.obs[pref+'.train_valid_test'].loc[X_cells[cellidx]]=='train']\n",
    "    \n",
    "    for p in range(num_permutations):\n",
    "        print('Running model on permuted data #'+str(p))\n",
    "            \n",
    "        X_plus_covariates=pd.concat([permuted_datasets[p],covariates],axis=1)\n",
    "            \n",
    "        #run the model\n",
    "        perm_coef,perm_lm=_train_lm(X_plus_covariates,\n",
    "                                   adata_here.uns[pref+'.y'],\n",
    "                                   lm,\n",
    "                                   training=training)\n",
    "        \n",
    "        if pref+'.perm'+str(p)+'.coef' in adata.uns:\n",
    "            print('WARNING: Over-writing adata.uns[\"'+pref+'.perm'+str(p)+'.coef'+'\"]')\n",
    "        adata_here.uns[pref+'.perm'+str(p)+'.coef']=perm_coef\n",
    "        if pref+'.perm'+str(p)+'.X' in adata.uns:\n",
    "            print('WARNING: Over-writing adata.uns[\"'+pref+'.perm'+str(p)+'.X\"]')\n",
    "        adata_here.uns[pref+'.perm'+str(p)+'.X']=X_plus_covariates\n",
    "            \n",
    "    if copy_adata:\n",
    "        return(adata_here)\n",
    "    \n",
    "    \n",
    "    "
   ]
  },
  {
   "cell_type": "code",
   "execution_count": null,
   "id": "68e6cb19",
   "metadata": {},
   "outputs": [],
   "source": [
    "run_permuted_models(adata2,\n",
    "                        lm=reg,\n",
    "                       model_name=modelname,\n",
    "                       num_permutations=10,\n",
    "                    rng=my_rng,\n",
    "                       copy_adata=False)"
   ]
  },
  {
   "cell_type": "code",
   "execution_count": null,
   "id": "cb5a7058",
   "metadata": {},
   "outputs": [],
   "source": [
    "def label_coefs_with_covariates(adata_here,coef,perturbations_obs,\n",
    "                               gmeans=None,gvars=None):\n",
    "    \n",
    "    genes_used=list(set(adata_here.var_names).intersection(set(coef.index)))\n",
    "    \n",
    "    #get all gene expressions and variances\n",
    "    if gmeans == None:\n",
    "        gmeans=pd.DataFrame({'gene':genes_used,\n",
    "                             'mean':np.mean(adata_here.raw[:,genes_used].X.toarray(),axis=0)},\n",
    "                           index=genes_used)\n",
    "    if gvars == None:\n",
    "        gvars=pd.DataFrame({'gene':genes_used,\n",
    "                            'var':np.var(adata_here.raw[:,genes_used].X.toarray(),axis=0)},\n",
    "                          index=genes_used)\n",
    "        \n",
    "    \n",
    "    coef_df=pd.DataFrame(columns=['guide','gene','beta','gene_mean','gene_var','cells_per_guide'])\n",
    "    for col in coef.columns:\n",
    "        coef_df_here=pd.DataFrame({'guide':col,\n",
    "                                  'gene':list(coef.index),\n",
    "                                   'beta':coef.loc[:,col],\n",
    "                                   'gene_mean':gmeans.loc[coef.index,'mean'],\n",
    "                                   'gene_var':gvars.loc[coef.index,'var'],\n",
    "                                   'cells_per_guide':np.sum(adata_here.obs[perturbations_obs]==col),\n",
    "                                  })\n",
    "        coef_df=pd.concat([coef_df,coef_df_here])\n",
    "    return(coef_df)\n",
    "\n",
    "def coef_FDR(adata_here,\n",
    "             perturbations_obs,\n",
    "            model_name='linear_model',\n",
    "             num_permutations=1,\n",
    "             bins=[3,3,23,1000],\n",
    "            copy_adata=False):\n",
    "    \n",
    "    import statsmodels\n",
    "    from statsmodels.sandbox.stats.multicomp import fdrcorrection0\n",
    "    from statsmodels.stats.multitest import multipletests\n",
    "\n",
    "    \n",
    "    if copy_adata: adata_here = adata_here.copy()\n",
    "    \n",
    "    print('== Computing coefficient significance')\n",
    "    \n",
    "    genes_used=list(set(adata_here.var_names).intersection(set(adata_here.uns['PS.'+model_name+'.y'].columns)))\n",
    "    perturbations=adata_here.uns['PS.'+model_name+'.X'].columns\n",
    "    \n",
    "    B_real=label_coefs_with_covariates(adata_here,\n",
    "                                    adata_here.uns['PS.'+model_name+'.coef'],\n",
    "                           perturbations_obs=perturbations_obs)\n",
    "    B_real['data']='real'\n",
    "    \n",
    "    fdrs=[]\n",
    "    \n",
    "    \n",
    "    if len(genes_used)>0:\n",
    "        #annotate permuted coefficients\n",
    "        B_shuff_list=[]\n",
    "        for p in range(num_permutations):\n",
    "            B_shuff_here=label_coefs_with_covariates(adata_here,\n",
    "                                                             adata_here.uns['PS.'+model_name+'.perm'+str(p)+'.coef'],\n",
    "                           perturbations_obs=perturbations_obs)\n",
    "            B_shuff_list.append(B_shuff_here)\n",
    "        \n",
    "        B_perm=pd.concat(B_shuff_list)\n",
    "        B_perm['data']='perm'\n",
    "        B_full=pd.concat([B_real,B_perm])\n",
    "        \n",
    "        #bin coefficients\n",
    "        for covariate in ['gene_mean','gene_var','cells_per_guide']:\n",
    "            #TODO: not hardcode this\n",
    "            num_bins=1 \n",
    "            B_full['bin.'+covariate]=pd.cut(B_full[covariate],\n",
    "                                           bins=num_bins,labels=range(num_bins),\n",
    "                                          )\n",
    "        #name the bins\n",
    "        B_full['bin']=B_full['bin.gene_mean'].astype(str)+B_full['bin.gene_var'].astype(str)+B_full['bin.cells_per_guide'].astype(str)\n",
    "            \n",
    "        B_perm=B_full.loc[B_full['data']=='perm',:]\n",
    "        B_real=B_full.loc[B_full['data']=='real',:]\n",
    "        bins=list(B_full['bin'].value_counts().index)\n",
    "        \n",
    "        for b in bins:\n",
    "            #make ecdf\n",
    "            B_perm_betas=np.abs(B_perm.loc[B_perm['bin']==b,'beta'])\n",
    "            from statsmodels.distributions.empirical_distribution import ECDF\n",
    "            ecdf_here=ECDF(B_perm_betas)\n",
    "            fdr_here=pd.DataFrame(B_real.loc[B_real['bin']==b,:])\n",
    "            probs=1-ecdf_here(np.abs(fdr_here['beta']))\n",
    "            beta_sign=np.sign(fdr_here['beta'])\n",
    "            #set pseudocount as smallest nonzero fdr\n",
    "            fdr_here['FDR']=probs\n",
    "            fdrs.append(fdr_here)\n",
    "        fdrs=pd.concat(fdrs)\n",
    "        print('fdr',fdrs['FDR'])\n",
    "        ps=np.min(np.array(fdrs['FDR'])[np.nonzero(np.array(fdrs['FDR']))])\n",
    "        fdrs['signed.-log10FDR']=np.sign(fdrs['beta'])*(-np.log10(multipletests(fdrs['FDR']+ps,method='fdr_bh')[1]))\n",
    "        #reshape back the FDRs into a matrix\n",
    "        fdr_mat=fdrs.pivot(index='gene', columns='guide', values='signed.-log10FDR')\n",
    "    \n",
    "    if 'PS.'+model_name+'.coef_FDR' in adata_here.uns:\n",
    "        print('WARNING: Over-writing adata.uns[\"'+'PS.'+model_name+'.coef_FDR\"]')\n",
    "    adata_here.uns['PS.'+model_name+'.coef_FDR']=fdr_mat\n",
    "    \n",
    "    if copy_adata:\n",
    "        return(adata_here)\n",
    "    \n",
    "coef_FDR(adata2,'gene2',\n",
    "        model_name=modelname,\n",
    "        num_permutations=10,\n",
    "        bins=[10,10,10,1000])\n",
    "\n",
    "\n",
    "\n",
    "\n"
   ]
  },
  {
   "cell_type": "code",
   "execution_count": null,
   "id": "59a2f8f2",
   "metadata": {},
   "outputs": [],
   "source": [
    "def compute_gene_interaction_profile_per_perturbation_pairs(coef_fdr,\n",
    "                                                           fdr=0.05):\n",
    "    \n",
    "    result={}\n",
    "    \n",
    "    #hard-coding the options here\n",
    "    interaction_types={'11-1':'buffering',\n",
    "                       '-1-11':'buffering',\n",
    "                       '10-1':'buffering',\n",
    "                       '01-1':'buffering',\n",
    "                       '-101':'buffering',\n",
    "                       '0-11':'buffering',\n",
    "                       \n",
    "                       '111':'synergistic',\n",
    "                       '-1-1-1':'synergistic',\n",
    "                       '00-1':'synergistic',\n",
    "                       '001':'synergistic',\n",
    "                       '101':'synergistic',\n",
    "                       '011':'synergistic',\n",
    "                       '-10-1':'synergistic',\n",
    "                       '0-1-1':'synergistic',\n",
    "                       \n",
    "                       '1-1-1':'dominant',\n",
    "                       '-111':'dominant',\n",
    "                       '1-11':'dominant',\n",
    "                       '-11-1':'dominant',\n",
    "                       \n",
    "                       '100':'additive',\n",
    "                       '010':'additive',\n",
    "                       '-100':'additive',\n",
    "                       '0-10':'additive',\n",
    "                       '110':'additive',\n",
    "                       '-1-10':'additive',\n",
    "                       '1-10':'additive',\n",
    "                       '-110':'additive',\n",
    "                       \n",
    "                       '000':'not significant',\n",
    "                      \n",
    "                      }\n",
    "    #colors\n",
    "    paircolors={'not significant':'lightgray',\n",
    "           'additive':'gray',\n",
    "            'dominant':'green',\n",
    "            'synergistic':'orange',\n",
    "            'buffering':'purple',\n",
    "    }\n",
    "    \n",
    "    #TODO: sort so that interaction term is the last\n",
    "    \n",
    "    gene_class=pd.DataFrame({'y':list(coef_fdr.index),\n",
    "                             'int_type':'not significant'},\n",
    "                            index=list(coef_fdr.index))\n",
    "    gene_profiles=(coef_fdr.abs()>=(-np.log10(fdr)))*1*np.sign(coef_fdr).astype(int)\n",
    "    gene_profiles=gene_profiles.astype(str).apply(''.join, axis=1)\n",
    "    gene_class['int_type']=[interaction_types[k] for k in gene_profiles]\n",
    "    gene_profiles_formal=[]\n",
    "    import re\n",
    "    for i in range(len(gene_profiles)):\n",
    "        gene_profile_formal=re.sub('1','+',re.sub('-1','-',gene_profiles[i]))\n",
    "        gene_profiles_formal.append(gene_profile_formal)\n",
    "    gene_class['coef_pattern']=gene_profiles_formal\n",
    "    #also make a vector with the colors, to have ready\n",
    "    gene_class['int_type_colors']=pd.DataFrame({'color':[paircolors[k] for k in gene_class['int_type']]},\n",
    "                        index=gene_class['int_type'].index)\n",
    "    \n",
    "    result['int_type']=gene_class.loc[:,['int_type','coef_pattern','int_type_colors']]\n",
    "                                                                                                  \n",
    "    #compute the percent genes in each category\n",
    "    result['percent_int_types']={}\n",
    "    for v in ['int_type','coef_pattern']:\n",
    "        interaction_class_counts=gene_class[v].value_counts()\n",
    "        percent_class=pd.DataFrame({'percent_'+v:np.round(100*np.array(interaction_class_counts)/interaction_class_counts.sum(),2),\n",
    "                                   },\n",
    "                                   index=interaction_class_counts.index)\n",
    "        result['percent_int_types'][v]=percent_class \n",
    "        \n",
    "    return(result)\n",
    "    \n",
    "\n",
    "def gene_interaction_profile_per_perturbation_pairs(adata_here,\n",
    "                                                    perturbations,\n",
    "                                                   model_name='linear_model',\n",
    "                                                    fdr=0.05,\n",
    "                                                    copy=False,\n",
    "                                                   ):\n",
    "    \n",
    "    if copy: adata_here = adata_here.copy()\n",
    "        \n",
    "        \n",
    "    #check that the perturbations are in the dataset\n",
    "    try:\n",
    "        fdrname='PS.'+model_name+'.coef_FDR'\n",
    "        assert fdrname in adata_here.uns\n",
    "    except AssertionError:\n",
    "        print('ERROR: \"'+fdrname+'\" not in adata.uns. Please run perturb.lm.coef_FDR() first')\n",
    "        return\n",
    "    \n",
    "    try:\n",
    "        assert len(perturbations)==3\n",
    "        for perturbation in perturbations:\n",
    "            assert perturbation in adata_here.uns[fdrname].columns\n",
    "    except AssertionError:\n",
    "        print('ERROR: :'+perturbation+'\" not in adata.uns[\"'+fdrname+'\"].')\n",
    "        return\n",
    "        \n",
    "    #compute the items\n",
    "    coef_fdr=adata_here.uns[fdrname].loc[:,perturbations]\n",
    "    gene_profile_data=compute_gene_interaction_profile_per_perturbation_pairs(coef_fdr,\n",
    "                                                                             fdr)\n",
    "    \n",
    "    #save results to adata\n",
    "    adata_here.uns['PS.'+model_name+'.int_type'+'.'+'|'.join(perturbations)]=gene_profile_data['int_type']\n",
    "    #compute the percent genes in each category\n",
    "    for v in gene_profile_data['percent_int_types'].keys():\n",
    "        adata_here.uns['PS.'+model_name+'.int_type'+'.'+v+'.pct.'+'|'.join(perturbations)]=gene_profile_data['percent_int_types'][v]    \n",
    "    \n",
    "    if copy:\n",
    "        return(adata_here)\n",
    "\n",
    "gene_interaction_profile_per_perturbation_pairs(adata2,\n",
    "                                                   model_name=modelname,\n",
    "                                                    perturbations=gene_guides,\n",
    "                                                fdr=0.01,\n",
    "                                                   )\n",
    "\n",
    "\n"
   ]
  },
  {
   "cell_type": "code",
   "execution_count": null,
   "id": "3b6de500",
   "metadata": {},
   "outputs": [],
   "source": [
    "gene_guides_here=gene_guides"
   ]
  },
  {
   "cell_type": "code",
   "execution_count": null,
   "id": "88ee3dd1",
   "metadata": {},
   "outputs": [],
   "source": [
    "#get each type of gene\n",
    "#cluster within those genes\n",
    "#combine at the end\n",
    "\n",
    "from scipy.cluster import hierarchy\n",
    "from scipy.cluster.hierarchy import dendrogram, linkage\n",
    "\n",
    "fdr=0.01\n",
    "\n",
    "gs=gene_guides_here\n",
    "coef=adata2.uns['PS.'+modelname+'.coef'].loc[:,gs]\n",
    "fulldata=pd.DataFrame(columns=gs)\n",
    "int_df=adata2.uns['PS.'+modelname+'.int_type.'+'|'.join(gene_guides_here)]\n",
    "#int_df=int_df.loc[de_genes,:]\n",
    "print(int_df.shape)\n",
    "\n",
    "\n",
    "inttypes=['000',\n",
    "         '-100',\n",
    "          '0-10',\n",
    "          '-1-10',\n",
    "          \n",
    "          '100',\n",
    "          '010',\n",
    "          '110',\n",
    "          \n",
    "          '1-10',\n",
    "          '-110',\n",
    "          \n",
    "          #syn\n",
    "          '-10-1',\n",
    "          '0-1-1',\n",
    "          '-1-1-1',\n",
    "          \n",
    "          '101',\n",
    "          '011',\n",
    "          '111',\n",
    "          \n",
    "          '00-1', \n",
    "          '001',\n",
    "          \n",
    "          #dominants\n",
    "          '1-1-1', \n",
    "          '-111', '1-11', '-11-1',\n",
    "          \n",
    "          #buffers\n",
    "          '11-1', '-1-11', '10-1', '01-1', '-101', '0-11',\n",
    "         ]\n",
    "\n",
    "\n",
    "\n",
    "\n",
    "colors=[]\n",
    "current_color='lightgray'\n",
    "\n",
    "cutoffs=[]\n",
    "gene2pro={}\n",
    "import re\n",
    "for k in inttypes:\n",
    "    inttype=re.sub('1','+',re.sub('-1','-',k))\n",
    "    if inttype=='000':\n",
    "        continue\n",
    "    genes_here=list(int_df.loc[int_df['coef_pattern']==inttype,:].index)\n",
    "    print(inttype,len(genes_here))\n",
    "    \n",
    "    coef_data=coef.loc[genes_here,gs]\n",
    "    if len(genes_here)==0:\n",
    "        continue\n",
    "    \n",
    "    gene2pro[inttype]=genes_here\n",
    "    if len(genes_here)>=2:\n",
    "        #cluster coef data here\n",
    "        var_Z = hierarchy.linkage(coef_data,\n",
    "                             optimal_ordering=True,\n",
    "                              #metric='cityblock',\n",
    "                                     method='median')\n",
    "        dn = dendrogram(var_Z,no_plot=True)\n",
    "        coef_data=coef_data.iloc[dn['leaves'],:]\n",
    "    if current_color=='lightgray':\n",
    "        current_color='black'\n",
    "    elif current_color=='black':\n",
    "        current_color='lightgray'\n",
    "    for i in range(len(genes_here)):\n",
    "        colors.append(current_color)\n",
    " \n",
    "    fulldata=pd.concat([fulldata,coef_data])\n",
    "    cutoffs.append(fulldata.shape[0])\n",
    "color_df=pd.DataFrame({'color':colors},\n",
    "                     index=fulldata.index)\n",
    "\n",
    "\n"
   ]
  },
  {
   "cell_type": "code",
   "execution_count": null,
   "id": "22dfe488",
   "metadata": {},
   "outputs": [],
   "source": [
    "%matplotlib inline\n",
    "import seaborn as sns\n",
    "x=1\n",
    "\n",
    "from matplotlib.patches import Rectangle\n",
    "color_df['interaction_type']=adata2.uns['PS.'+modelname+'.int_type.'+'|'.join(gene_guides_here)]['int_type_colors'].loc[fulldata.index]\n",
    "\n",
    "fulldata['sum']=fulldata.iloc[:,:3].sum(axis=1)\n",
    "g=sns.clustermap(fulldata,\n",
    "               col_cluster=False,\n",
    "               row_cluster=False,\n",
    "               vmin=-x,vmax=x,\n",
    "               cmap='bwr',xticklabels=True,\n",
    "               #row_linkage=var_Z,\n",
    "               row_colors=color_df['interaction_type'],\n",
    "                 cbar_pos=(0.35, 0.95, 0.25, 0.02),\n",
    "                 cbar_kws={'orientation':'horizontal',\n",
    "                \"label\": \"Linear model coefficient\",\n",
    "                'ticks':[-x,x]},\n",
    "               figsize=(7,10),\n",
    "              )\n",
    "ax = g.ax_heatmap\n",
    "\n",
    "for i in range(len(cutoffs)):\n",
    "    ax.add_patch(Rectangle((0,cutoffs[i]), \n",
    "                               10, 0.5, \n",
    "                               edgecolor='black', fill=False, lw=0.5))\n",
    "    \n",
    "    \n",
    "    \n",
    "    \n",
    "    "
   ]
  },
  {
   "cell_type": "code",
   "execution_count": null,
   "id": "808f08b7",
   "metadata": {},
   "outputs": [],
   "source": []
  }
 ],
 "metadata": {
  "kernelspec": {
   "display_name": "Python 3",
   "language": "python",
   "name": "python3"
  },
  "language_info": {
   "codemirror_mode": {
    "name": "ipython",
    "version": 3
   },
   "file_extension": ".py",
   "mimetype": "text/x-python",
   "name": "python",
   "nbconvert_exporter": "python",
   "pygments_lexer": "ipython3",
   "version": "3.8.8"
  }
 },
 "nbformat": 4,
 "nbformat_minor": 5
}
