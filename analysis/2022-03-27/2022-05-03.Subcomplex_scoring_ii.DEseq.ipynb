{
 "cells": [
  {
   "cell_type": "code",
   "execution_count": 47,
   "id": "50271222",
   "metadata": {},
   "outputs": [
    {
     "name": "stderr",
     "output_type": "stream",
     "text": [
      "Updating HTML index of packages in '.Library'\n",
      "\n",
      "Making 'packages.html' ...\n",
      " done\n",
      "\n",
      "'getOption(\"repos\")' replaces Bioconductor standard repositories, see\n",
      "'?repositories' for details\n",
      "\n",
      "replacement repositories:\n",
      "    CRAN: https://cran.r-project.org\n",
      "\n",
      "\n",
      "Bioconductor version 3.12 (BiocManager 1.30.17), R 4.0.2 (2020-06-22)\n",
      "\n",
      "Installing package(s) 'limma'\n",
      "\n",
      "Updating HTML index of packages in '.Library'\n",
      "\n",
      "Making 'packages.html' ...\n",
      " done\n",
      "\n",
      "Old packages: 'ape', 'backports', 'BH', 'BiocParallel', 'blob', 'brew',\n",
      "  'cachem', 'caret', 'caTools', 'checkmate', 'class', 'cli', 'clipr',\n",
      "  'cluster', 'colorspace', 'commonmark', 'cpp11', 'crayon', 'credentials',\n",
      "  'crosstalk', 'data.table', 'DBI', 'deldir', 'desc', 'dichromat', 'digest',\n",
      "  'dplyr', 'dqrng', 'ensembldb', 'evaluate', 'fansi', 'farver', 'fastmap',\n",
      "  'fastmatch', 'fitdistrplus', 'foreach', 'foreign', 'formatR', 'future',\n",
      "  'future.apply', 'generics', 'GenomicFeatures', 'ggforce', 'ggplot2',\n",
      "  'ggrepel', 'glmnet', 'glue', 'goftest', 'gower', 'gplots', 'hexbin', 'Hmisc',\n",
      "  'hms', 'htmlTable', 'htmltools', 'htmlwidgets', 'httpuv', 'igraph', 'ipred',\n",
      "  'IRdisplay', 'IRkernel', 'irlba', 'isoband', 'iterators', 'jpeg', 'jsonlite',\n",
      "  'KernSmooth', 'knitr', 'later', 'lattice', 'lava', 'leiden', 'lifecycle',\n",
      "  'lmtest', 'lubridate', 'magrittr', 'MASS', 'Matrix', 'matrixStats',\n",
      "  'memoise', 'mgcv', 'mime', 'nlme', 'nnet', 'openssl', 'parallelly',\n",
      "  'pbapply', 'pbdZMQ', 'pillar', 'pkgbuild', 'pkgload', 'plotly', 'plyr',\n",
      "  'pROC', 'processx', 'promises', 'ps', 'quantmod', 'R6', 'RColorBrewer',\n",
      "  'Rcpp', 'RcppAnnoy', 'RcppEigen', 'RcppParallel', 'RCurl', 'recipes',\n",
      "  'remotes', 'repr', 'reshape', 'reticulate', 'rlang', 'rmarkdown', 'rpart',\n",
      "  'rprojroot', 'RSpectra', 'RSQLite', 'Rtsne', 'scales', 'sitmo', 'snow',\n",
      "  'spatstat.data', 'spatstat.utils', 'stringi', 'survival', 'tibble', 'tidyr',\n",
      "  'tidyselect', 'tinytex', 'TTR', 'tweenr', 'utf8', 'uuid', 'uwot', 'vctrs',\n",
      "  'viridis', 'withr', 'xfun', 'XML', 'xml2', 'yaml', 'zoo'\n",
      "\n"
     ]
    }
   ],
   "source": [
    "install.packages('BiocManager')\n",
    "BiocManager::install('limma')"
   ]
  },
  {
   "cell_type": "code",
   "execution_count": 51,
   "id": "973e85bb",
   "metadata": {},
   "outputs": [
    {
     "name": "stderr",
     "output_type": "stream",
     "text": [
      "Warning message:\n",
      "“package ‘locfit’ is not available (for R version 4.0.2)”\n"
     ]
    }
   ],
   "source": [
    "install.packages(\"locfit\")"
   ]
  },
  {
   "cell_type": "code",
   "execution_count": 48,
   "id": "fe6849ce",
   "metadata": {},
   "outputs": [
    {
     "name": "stderr",
     "output_type": "stream",
     "text": [
      "'getOption(\"repos\")' replaces Bioconductor standard repositories, see\n",
      "'?repositories' for details\n",
      "\n",
      "replacement repositories:\n",
      "    CRAN: https://cran.r-project.org\n",
      "\n",
      "\n",
      "Bioconductor version 3.12 (BiocManager 1.30.17), R 4.0.2 (2020-06-22)\n",
      "\n",
      "Installing package(s) 'DESeq2'\n",
      "\n",
      "Warning message:\n",
      "“dependency ‘locfit’ is not available”\n",
      "also installing the dependencies ‘annotate’, ‘genefilter’, ‘geneplotter’, ‘RcppArmadillo’\n",
      "\n",
      "\n",
      "Warning message in install.packages(...):\n",
      "“installation of package ‘DESeq2’ had non-zero exit status”\n",
      "Updating HTML index of packages in '.Library'\n",
      "\n",
      "Making 'packages.html' ...\n",
      " done\n",
      "\n",
      "Old packages: 'ape', 'backports', 'BH', 'BiocParallel', 'blob', 'brew',\n",
      "  'cachem', 'caret', 'caTools', 'checkmate', 'class', 'cli', 'clipr',\n",
      "  'cluster', 'colorspace', 'commonmark', 'cpp11', 'crayon', 'credentials',\n",
      "  'crosstalk', 'data.table', 'DBI', 'deldir', 'desc', 'dichromat', 'digest',\n",
      "  'dplyr', 'dqrng', 'ensembldb', 'evaluate', 'fansi', 'farver', 'fastmap',\n",
      "  'fastmatch', 'fitdistrplus', 'foreach', 'foreign', 'formatR', 'future',\n",
      "  'future.apply', 'generics', 'GenomicFeatures', 'ggforce', 'ggplot2',\n",
      "  'ggrepel', 'glmnet', 'glue', 'goftest', 'gower', 'gplots', 'hexbin', 'Hmisc',\n",
      "  'hms', 'htmlTable', 'htmltools', 'htmlwidgets', 'httpuv', 'igraph', 'ipred',\n",
      "  'IRdisplay', 'IRkernel', 'irlba', 'isoband', 'iterators', 'jpeg', 'jsonlite',\n",
      "  'KernSmooth', 'knitr', 'later', 'lattice', 'lava', 'leiden', 'lifecycle',\n",
      "  'lmtest', 'lubridate', 'magrittr', 'MASS', 'Matrix', 'matrixStats',\n",
      "  'memoise', 'mgcv', 'mime', 'nlme', 'nnet', 'openssl', 'parallelly',\n",
      "  'pbapply', 'pbdZMQ', 'pillar', 'pkgbuild', 'pkgload', 'plotly', 'plyr',\n",
      "  'pROC', 'processx', 'promises', 'ps', 'quantmod', 'R6', 'RColorBrewer',\n",
      "  'Rcpp', 'RcppAnnoy', 'RcppEigen', 'RcppParallel', 'RCurl', 'recipes',\n",
      "  'remotes', 'repr', 'reshape', 'reticulate', 'rlang', 'rmarkdown', 'rpart',\n",
      "  'rprojroot', 'RSpectra', 'RSQLite', 'Rtsne', 'scales', 'sitmo', 'snow',\n",
      "  'spatstat.data', 'spatstat.utils', 'stringi', 'survival', 'tibble', 'tidyr',\n",
      "  'tidyselect', 'tinytex', 'TTR', 'tweenr', 'utf8', 'uuid', 'uwot', 'vctrs',\n",
      "  'viridis', 'withr', 'xfun', 'XML', 'xml2', 'yaml', 'zoo'\n",
      "\n"
     ]
    }
   ],
   "source": [
    "BiocManager::install(\"DESeq2\")"
   ]
  },
  {
   "cell_type": "code",
   "execution_count": 49,
   "id": "ae170336",
   "metadata": {},
   "outputs": [
    {
     "name": "stderr",
     "output_type": "stream",
     "text": [
      "Loading required package: DESeq2\n",
      "\n",
      "Warning message in library(package, lib.loc = lib.loc, character.only = TRUE, logical.return = TRUE, :\n",
      "“there is no package called ‘DESeq2’”\n"
     ]
    }
   ],
   "source": [
    "require('DESeq2')"
   ]
  },
  {
   "cell_type": "code",
   "execution_count": null,
   "id": "38a2a432",
   "metadata": {},
   "outputs": [],
   "source": []
  },
  {
   "cell_type": "code",
   "execution_count": null,
   "id": "21645707",
   "metadata": {},
   "outputs": [],
   "source": []
  },
  {
   "cell_type": "code",
   "execution_count": 3,
   "id": "385ab889",
   "metadata": {},
   "outputs": [],
   "source": [
    "pb1_f=\"/Users/ursuo/Documents/research/baf/data/2022-03-27/single_guide/single.pseudobulk.csv\"\n",
    "pb2_f=\"/Users/ursuo/Documents/research/baf/data/2022-03-27/combo2/combo.pseudobulk.csv\""
   ]
  },
  {
   "cell_type": "code",
   "execution_count": 30,
   "id": "346f4ad4",
   "metadata": {},
   "outputs": [],
   "source": [
    "pb1=read.table(pb1_f,sep=',',header=TRUE,row.names=1)\n",
    "pb2=read.table(pb2_f,sep=',',header=TRUE,row.names=1)"
   ]
  },
  {
   "cell_type": "code",
   "execution_count": 17,
   "id": "57ee435b",
   "metadata": {},
   "outputs": [
    {
     "data": {
      "text/html": [
       "<table class=\"dataframe\">\n",
       "<caption>A data.frame: 6 × 19967</caption>\n",
       "<thead>\n",
       "\t<tr><th></th><th scope=col>PEG13</th><th scope=col>TIMM23B.AGAP6</th><th scope=col>TNKS1BP1</th><th scope=col>AL358472.4</th><th scope=col>ZNF606</th><th scope=col>AL136419.3</th><th scope=col>MXD1</th><th scope=col>VMAC</th><th scope=col>ZNF526</th><th scope=col>CEP41</th><th scope=col>⋯</th><th scope=col>CCNB3</th><th scope=col>EVA1B</th><th scope=col>PEX11A</th><th scope=col>SMURF2</th><th scope=col>BMS1</th><th scope=col>AL442003.1</th><th scope=col>PARP16</th><th scope=col>SGF29</th><th scope=col>POLG</th><th scope=col>KIF17</th></tr>\n",
       "\t<tr><th></th><th scope=col>&lt;dbl&gt;</th><th scope=col>&lt;dbl&gt;</th><th scope=col>&lt;dbl&gt;</th><th scope=col>&lt;dbl&gt;</th><th scope=col>&lt;dbl&gt;</th><th scope=col>&lt;dbl&gt;</th><th scope=col>&lt;dbl&gt;</th><th scope=col>&lt;dbl&gt;</th><th scope=col>&lt;dbl&gt;</th><th scope=col>&lt;dbl&gt;</th><th scope=col>⋯</th><th scope=col>&lt;dbl&gt;</th><th scope=col>&lt;dbl&gt;</th><th scope=col>&lt;dbl&gt;</th><th scope=col>&lt;dbl&gt;</th><th scope=col>&lt;dbl&gt;</th><th scope=col>&lt;dbl&gt;</th><th scope=col>&lt;dbl&gt;</th><th scope=col>&lt;dbl&gt;</th><th scope=col>&lt;dbl&gt;</th><th scope=col>&lt;dbl&gt;</th></tr>\n",
       "</thead>\n",
       "<tbody>\n",
       "\t<tr><th scope=row>ACTL6A</th><td>3</td><td> 3</td><td> 41</td><td> 6</td><td>0</td><td> 4</td><td>140</td><td>30</td><td> 44</td><td>127</td><td>⋯</td><td>2</td><td>115</td><td> 4</td><td>129</td><td> 797</td><td>11</td><td> 8</td><td> 99</td><td>249</td><td> 6</td></tr>\n",
       "\t<tr><th scope=row>ACTL6B</th><td>4</td><td> 9</td><td>100</td><td> 0</td><td>4</td><td> 4</td><td>188</td><td>52</td><td>102</td><td>297</td><td>⋯</td><td>2</td><td>150</td><td> 7</td><td>197</td><td>1661</td><td> 9</td><td>30</td><td>203</td><td>517</td><td>31</td></tr>\n",
       "\t<tr><th scope=row>ARID1A</th><td>0</td><td> 4</td><td> 50</td><td> 6</td><td>3</td><td> 6</td><td>199</td><td>49</td><td> 48</td><td>168</td><td>⋯</td><td>2</td><td> 61</td><td> 4</td><td>164</td><td> 971</td><td> 5</td><td>19</td><td>161</td><td>362</td><td>21</td></tr>\n",
       "\t<tr><th scope=row>ARID1B</th><td>1</td><td> 4</td><td> 47</td><td> 0</td><td>1</td><td> 3</td><td> 66</td><td>12</td><td> 29</td><td> 97</td><td>⋯</td><td>0</td><td> 28</td><td> 3</td><td> 71</td><td> 603</td><td> 4</td><td>13</td><td> 67</td><td>191</td><td> 6</td></tr>\n",
       "\t<tr><th scope=row>ARID2</th><td>2</td><td> 8</td><td> 37</td><td> 5</td><td>1</td><td> 1</td><td>115</td><td>39</td><td> 54</td><td>160</td><td>⋯</td><td>0</td><td> 93</td><td> 7</td><td>147</td><td> 948</td><td>10</td><td>24</td><td>132</td><td>300</td><td>32</td></tr>\n",
       "\t<tr><th scope=row>BCL7A</th><td>9</td><td>29</td><td>173</td><td>14</td><td>3</td><td>16</td><td>339</td><td>84</td><td>208</td><td>465</td><td>⋯</td><td>4</td><td>242</td><td>17</td><td>333</td><td>2839</td><td>29</td><td>60</td><td>379</td><td>902</td><td>62</td></tr>\n",
       "</tbody>\n",
       "</table>\n"
      ],
      "text/latex": [
       "A data.frame: 6 × 19967\n",
       "\\begin{tabular}{r|lllllllllllllllllllll}\n",
       "  & PEG13 & TIMM23B.AGAP6 & TNKS1BP1 & AL358472.4 & ZNF606 & AL136419.3 & MXD1 & VMAC & ZNF526 & CEP41 & ⋯ & CCNB3 & EVA1B & PEX11A & SMURF2 & BMS1 & AL442003.1 & PARP16 & SGF29 & POLG & KIF17\\\\\n",
       "  & <dbl> & <dbl> & <dbl> & <dbl> & <dbl> & <dbl> & <dbl> & <dbl> & <dbl> & <dbl> & ⋯ & <dbl> & <dbl> & <dbl> & <dbl> & <dbl> & <dbl> & <dbl> & <dbl> & <dbl> & <dbl>\\\\\n",
       "\\hline\n",
       "\tACTL6A & 3 &  3 &  41 &  6 & 0 &  4 & 140 & 30 &  44 & 127 & ⋯ & 2 & 115 &  4 & 129 &  797 & 11 &  8 &  99 & 249 &  6\\\\\n",
       "\tACTL6B & 4 &  9 & 100 &  0 & 4 &  4 & 188 & 52 & 102 & 297 & ⋯ & 2 & 150 &  7 & 197 & 1661 &  9 & 30 & 203 & 517 & 31\\\\\n",
       "\tARID1A & 0 &  4 &  50 &  6 & 3 &  6 & 199 & 49 &  48 & 168 & ⋯ & 2 &  61 &  4 & 164 &  971 &  5 & 19 & 161 & 362 & 21\\\\\n",
       "\tARID1B & 1 &  4 &  47 &  0 & 1 &  3 &  66 & 12 &  29 &  97 & ⋯ & 0 &  28 &  3 &  71 &  603 &  4 & 13 &  67 & 191 &  6\\\\\n",
       "\tARID2 & 2 &  8 &  37 &  5 & 1 &  1 & 115 & 39 &  54 & 160 & ⋯ & 0 &  93 &  7 & 147 &  948 & 10 & 24 & 132 & 300 & 32\\\\\n",
       "\tBCL7A & 9 & 29 & 173 & 14 & 3 & 16 & 339 & 84 & 208 & 465 & ⋯ & 4 & 242 & 17 & 333 & 2839 & 29 & 60 & 379 & 902 & 62\\\\\n",
       "\\end{tabular}\n"
      ],
      "text/markdown": [
       "\n",
       "A data.frame: 6 × 19967\n",
       "\n",
       "| <!--/--> | PEG13 &lt;dbl&gt; | TIMM23B.AGAP6 &lt;dbl&gt; | TNKS1BP1 &lt;dbl&gt; | AL358472.4 &lt;dbl&gt; | ZNF606 &lt;dbl&gt; | AL136419.3 &lt;dbl&gt; | MXD1 &lt;dbl&gt; | VMAC &lt;dbl&gt; | ZNF526 &lt;dbl&gt; | CEP41 &lt;dbl&gt; | ⋯ ⋯ | CCNB3 &lt;dbl&gt; | EVA1B &lt;dbl&gt; | PEX11A &lt;dbl&gt; | SMURF2 &lt;dbl&gt; | BMS1 &lt;dbl&gt; | AL442003.1 &lt;dbl&gt; | PARP16 &lt;dbl&gt; | SGF29 &lt;dbl&gt; | POLG &lt;dbl&gt; | KIF17 &lt;dbl&gt; |\n",
       "|---|---|---|---|---|---|---|---|---|---|---|---|---|---|---|---|---|---|---|---|---|---|\n",
       "| ACTL6A | 3 |  3 |  41 |  6 | 0 |  4 | 140 | 30 |  44 | 127 | ⋯ | 2 | 115 |  4 | 129 |  797 | 11 |  8 |  99 | 249 |  6 |\n",
       "| ACTL6B | 4 |  9 | 100 |  0 | 4 |  4 | 188 | 52 | 102 | 297 | ⋯ | 2 | 150 |  7 | 197 | 1661 |  9 | 30 | 203 | 517 | 31 |\n",
       "| ARID1A | 0 |  4 |  50 |  6 | 3 |  6 | 199 | 49 |  48 | 168 | ⋯ | 2 |  61 |  4 | 164 |  971 |  5 | 19 | 161 | 362 | 21 |\n",
       "| ARID1B | 1 |  4 |  47 |  0 | 1 |  3 |  66 | 12 |  29 |  97 | ⋯ | 0 |  28 |  3 |  71 |  603 |  4 | 13 |  67 | 191 |  6 |\n",
       "| ARID2 | 2 |  8 |  37 |  5 | 1 |  1 | 115 | 39 |  54 | 160 | ⋯ | 0 |  93 |  7 | 147 |  948 | 10 | 24 | 132 | 300 | 32 |\n",
       "| BCL7A | 9 | 29 | 173 | 14 | 3 | 16 | 339 | 84 | 208 | 465 | ⋯ | 4 | 242 | 17 | 333 | 2839 | 29 | 60 | 379 | 902 | 62 |\n",
       "\n"
      ],
      "text/plain": [
       "       PEG13 TIMM23B.AGAP6 TNKS1BP1 AL358472.4 ZNF606 AL136419.3 MXD1 VMAC\n",
       "ACTL6A 3      3             41       6         0       4         140  30  \n",
       "ACTL6B 4      9            100       0         4       4         188  52  \n",
       "ARID1A 0      4             50       6         3       6         199  49  \n",
       "ARID1B 1      4             47       0         1       3          66  12  \n",
       "ARID2  2      8             37       5         1       1         115  39  \n",
       "BCL7A  9     29            173      14         3      16         339  84  \n",
       "       ZNF526 CEP41 ⋯ CCNB3 EVA1B PEX11A SMURF2 BMS1 AL442003.1 PARP16 SGF29\n",
       "ACTL6A  44    127   ⋯ 2     115    4     129     797 11          8      99  \n",
       "ACTL6B 102    297   ⋯ 2     150    7     197    1661  9         30     203  \n",
       "ARID1A  48    168   ⋯ 2      61    4     164     971  5         19     161  \n",
       "ARID1B  29     97   ⋯ 0      28    3      71     603  4         13      67  \n",
       "ARID2   54    160   ⋯ 0      93    7     147     948 10         24     132  \n",
       "BCL7A  208    465   ⋯ 4     242   17     333    2839 29         60     379  \n",
       "       POLG KIF17\n",
       "ACTL6A 249   6   \n",
       "ACTL6B 517  31   \n",
       "ARID1A 362  21   \n",
       "ARID1B 191   6   \n",
       "ARID2  300  32   \n",
       "BCL7A  902  62   "
      ]
     },
     "metadata": {},
     "output_type": "display_data"
    }
   ],
   "source": [
    "head(pb1)"
   ]
  },
  {
   "cell_type": "code",
   "execution_count": 20,
   "id": "273e2503",
   "metadata": {},
   "outputs": [
    {
     "data": {
      "text/html": [
       "<style>\n",
       ".list-inline {list-style: none; margin:0; padding: 0}\n",
       ".list-inline>li {display: inline-block}\n",
       ".list-inline>li:not(:last-child)::after {content: \"\\00b7\"; padding: 0 .5ex}\n",
       "</style>\n",
       "<ol class=list-inline><li>'ARID1A'</li><li>'ARID1B'</li><li>'ARID2'</li><li>'BCL7A'</li><li>'BCL7B'</li><li>'BCL7C'</li><li>'BRD7'</li><li>'BRD9'</li><li>'DPF2'</li><li>'GLTSCR1'</li><li>'GLTSCR1L'</li><li>'PBRM1'</li><li>'PHF10'</li><li>'SMARCA2'</li><li>'SMARCA4'</li><li>'SMARCB1'</li><li>'SMARCC1'</li><li>'SMARCC2'</li><li>'SMARCD1'</li><li>'SMARCD2'</li><li>'SMARCE1'</li><li>'SS18'</li><li>'SS18L'</li><li>'control'</li><li>'multiple'</li><li>'unassigned'</li></ol>\n"
      ],
      "text/latex": [
       "\\begin{enumerate*}\n",
       "\\item 'ARID1A'\n",
       "\\item 'ARID1B'\n",
       "\\item 'ARID2'\n",
       "\\item 'BCL7A'\n",
       "\\item 'BCL7B'\n",
       "\\item 'BCL7C'\n",
       "\\item 'BRD7'\n",
       "\\item 'BRD9'\n",
       "\\item 'DPF2'\n",
       "\\item 'GLTSCR1'\n",
       "\\item 'GLTSCR1L'\n",
       "\\item 'PBRM1'\n",
       "\\item 'PHF10'\n",
       "\\item 'SMARCA2'\n",
       "\\item 'SMARCA4'\n",
       "\\item 'SMARCB1'\n",
       "\\item 'SMARCC1'\n",
       "\\item 'SMARCC2'\n",
       "\\item 'SMARCD1'\n",
       "\\item 'SMARCD2'\n",
       "\\item 'SMARCE1'\n",
       "\\item 'SS18'\n",
       "\\item 'SS18L'\n",
       "\\item 'control'\n",
       "\\item 'multiple'\n",
       "\\item 'unassigned'\n",
       "\\end{enumerate*}\n"
      ],
      "text/markdown": [
       "1. 'ARID1A'\n",
       "2. 'ARID1B'\n",
       "3. 'ARID2'\n",
       "4. 'BCL7A'\n",
       "5. 'BCL7B'\n",
       "6. 'BCL7C'\n",
       "7. 'BRD7'\n",
       "8. 'BRD9'\n",
       "9. 'DPF2'\n",
       "10. 'GLTSCR1'\n",
       "11. 'GLTSCR1L'\n",
       "12. 'PBRM1'\n",
       "13. 'PHF10'\n",
       "14. 'SMARCA2'\n",
       "15. 'SMARCA4'\n",
       "16. 'SMARCB1'\n",
       "17. 'SMARCC1'\n",
       "18. 'SMARCC2'\n",
       "19. 'SMARCD1'\n",
       "20. 'SMARCD2'\n",
       "21. 'SMARCE1'\n",
       "22. 'SS18'\n",
       "23. 'SS18L'\n",
       "24. 'control'\n",
       "25. 'multiple'\n",
       "26. 'unassigned'\n",
       "\n",
       "\n"
      ],
      "text/plain": [
       " [1] \"ARID1A\"     \"ARID1B\"     \"ARID2\"      \"BCL7A\"      \"BCL7B\"     \n",
       " [6] \"BCL7C\"      \"BRD7\"       \"BRD9\"       \"DPF2\"       \"GLTSCR1\"   \n",
       "[11] \"GLTSCR1L\"   \"PBRM1\"      \"PHF10\"      \"SMARCA2\"    \"SMARCA4\"   \n",
       "[16] \"SMARCB1\"    \"SMARCC1\"    \"SMARCC2\"    \"SMARCD1\"    \"SMARCD2\"   \n",
       "[21] \"SMARCE1\"    \"SS18\"       \"SS18L\"      \"control\"    \"multiple\"  \n",
       "[26] \"unassigned\""
      ]
     },
     "metadata": {},
     "output_type": "display_data"
    }
   ],
   "source": [
    "rownames(pb1)"
   ]
  },
  {
   "cell_type": "code",
   "execution_count": 40,
   "id": "30e803f1",
   "metadata": {},
   "outputs": [],
   "source": [
    "p='ARID1A'\n",
    "p1=paste(p,'rep1',sep='')\n",
    "p2=paste(p,'rep2',sep='')\n",
    "control='control'\n",
    "c1=paste(control,'rep1',sep='')\n",
    "c2=paste(control,'rep2',sep='')"
   ]
  },
  {
   "cell_type": "code",
   "execution_count": 41,
   "id": "8b3cc634",
   "metadata": {},
   "outputs": [],
   "source": [
    "df=data.frame(p1=t(pb1[p,]),p2=t(pb2[p,]),\n",
    "              c1=t(pb1[control,]),c2=t(pb2[control,]))\n",
    "colnames(df)=c(p1,p2,c1,c2)"
   ]
  },
  {
   "cell_type": "code",
   "execution_count": 43,
   "id": "92a05cf8",
   "metadata": {},
   "outputs": [
    {
     "data": {
      "text/html": [
       "<table class=\"dataframe\">\n",
       "<caption>A data.frame: 6 × 4</caption>\n",
       "<thead>\n",
       "\t<tr><th></th><th scope=col>ARID1Arep1</th><th scope=col>ARID1Arep2</th><th scope=col>controlrep1</th><th scope=col>controlrep2</th></tr>\n",
       "\t<tr><th></th><th scope=col>&lt;dbl&gt;</th><th scope=col>&lt;dbl&gt;</th><th scope=col>&lt;dbl&gt;</th><th scope=col>&lt;dbl&gt;</th></tr>\n",
       "</thead>\n",
       "<tbody>\n",
       "\t<tr><th scope=row>PEG13</th><td> 0</td><td> 0</td><td>  3</td><td> 0</td></tr>\n",
       "\t<tr><th scope=row>TIMM23B.AGAP6</th><td> 4</td><td> 3</td><td> 19</td><td> 6</td></tr>\n",
       "\t<tr><th scope=row>TNKS1BP1</th><td>50</td><td>16</td><td>145</td><td>43</td></tr>\n",
       "\t<tr><th scope=row>AL358472.4</th><td> 6</td><td> 3</td><td> 12</td><td> 3</td></tr>\n",
       "\t<tr><th scope=row>ZNF606</th><td> 3</td><td> 0</td><td>  1</td><td> 0</td></tr>\n",
       "\t<tr><th scope=row>AL136419.3</th><td> 6</td><td> 2</td><td> 16</td><td> 5</td></tr>\n",
       "</tbody>\n",
       "</table>\n"
      ],
      "text/latex": [
       "A data.frame: 6 × 4\n",
       "\\begin{tabular}{r|llll}\n",
       "  & ARID1Arep1 & ARID1Arep2 & controlrep1 & controlrep2\\\\\n",
       "  & <dbl> & <dbl> & <dbl> & <dbl>\\\\\n",
       "\\hline\n",
       "\tPEG13 &  0 &  0 &   3 &  0\\\\\n",
       "\tTIMM23B.AGAP6 &  4 &  3 &  19 &  6\\\\\n",
       "\tTNKS1BP1 & 50 & 16 & 145 & 43\\\\\n",
       "\tAL358472.4 &  6 &  3 &  12 &  3\\\\\n",
       "\tZNF606 &  3 &  0 &   1 &  0\\\\\n",
       "\tAL136419.3 &  6 &  2 &  16 &  5\\\\\n",
       "\\end{tabular}\n"
      ],
      "text/markdown": [
       "\n",
       "A data.frame: 6 × 4\n",
       "\n",
       "| <!--/--> | ARID1Arep1 &lt;dbl&gt; | ARID1Arep2 &lt;dbl&gt; | controlrep1 &lt;dbl&gt; | controlrep2 &lt;dbl&gt; |\n",
       "|---|---|---|---|---|\n",
       "| PEG13 |  0 |  0 |   3 |  0 |\n",
       "| TIMM23B.AGAP6 |  4 |  3 |  19 |  6 |\n",
       "| TNKS1BP1 | 50 | 16 | 145 | 43 |\n",
       "| AL358472.4 |  6 |  3 |  12 |  3 |\n",
       "| ZNF606 |  3 |  0 |   1 |  0 |\n",
       "| AL136419.3 |  6 |  2 |  16 |  5 |\n",
       "\n"
      ],
      "text/plain": [
       "              ARID1Arep1 ARID1Arep2 controlrep1 controlrep2\n",
       "PEG13          0          0           3          0         \n",
       "TIMM23B.AGAP6  4          3          19          6         \n",
       "TNKS1BP1      50         16         145         43         \n",
       "AL358472.4     6          3          12          3         \n",
       "ZNF606         3          0           1          0         \n",
       "AL136419.3     6          2          16          5         "
      ]
     },
     "metadata": {},
     "output_type": "display_data"
    }
   ],
   "source": [
    "head(df)"
   ]
  },
  {
   "cell_type": "code",
   "execution_count": 44,
   "id": "d7b90d37",
   "metadata": {},
   "outputs": [
    {
     "name": "stdout",
     "output_type": "stream",
     "text": [
      "            batch condition\n",
      "ARID1Arep1      a    ARID1A\n",
      "ARID1Arep2      b    ARID1A\n",
      "controlrep1     c   control\n",
      "controlrep2     d   control\n"
     ]
    }
   ],
   "source": [
    "coldata=data.frame(batch=c('a','b','c','d'),\n",
    "                  condition=c(p,p,control,control))\n",
    "rownames(coldata)=colnames(df)\n",
    "print(coldata)"
   ]
  },
  {
   "cell_type": "code",
   "execution_count": null,
   "id": "7a1876bc",
   "metadata": {},
   "outputs": [],
   "source": []
  },
  {
   "cell_type": "code",
   "execution_count": 46,
   "id": "06b97ea6",
   "metadata": {},
   "outputs": [
    {
     "name": "stderr",
     "output_type": "stream",
     "text": [
      "Loading required package: DESeq2\n",
      "\n",
      "Warning message in library(package, lib.loc = lib.loc, character.only = TRUE, logical.return = TRUE, :\n",
      "“there is no package called ‘DESeq2’”\n"
     ]
    },
    {
     "ename": "ERROR",
     "evalue": "Error in DESeqDataSetFromMatrix(countData = cts, colData = coldata, design = ~condition): could not find function \"DESeqDataSetFromMatrix\"\n",
     "output_type": "error",
     "traceback": [
      "Error in DESeqDataSetFromMatrix(countData = cts, colData = coldata, design = ~condition): could not find function \"DESeqDataSetFromMatrix\"\nTraceback:\n"
     ]
    }
   ],
   "source": [
    "require('DESeq2')\n",
    "dds <- DESeqDataSetFromMatrix(countData = cts,\n",
    "                              colData = coldata,\n",
    "                              design= ~ condition)"
   ]
  },
  {
   "cell_type": "code",
   "execution_count": null,
   "id": "1e236b4e",
   "metadata": {},
   "outputs": [],
   "source": []
  },
  {
   "cell_type": "code",
   "execution_count": null,
   "id": "ab5a5f0d",
   "metadata": {},
   "outputs": [],
   "source": []
  },
  {
   "cell_type": "code",
   "execution_count": null,
   "id": "54ddd31b",
   "metadata": {},
   "outputs": [],
   "source": []
  },
  {
   "cell_type": "code",
   "execution_count": null,
   "id": "c8d92061",
   "metadata": {},
   "outputs": [],
   "source": []
  },
  {
   "cell_type": "code",
   "execution_count": null,
   "id": "f4ba5835",
   "metadata": {},
   "outputs": [],
   "source": []
  },
  {
   "cell_type": "code",
   "execution_count": null,
   "id": "87d624b7",
   "metadata": {},
   "outputs": [],
   "source": []
  },
  {
   "cell_type": "code",
   "execution_count": null,
   "id": "e19f54a4",
   "metadata": {},
   "outputs": [],
   "source": []
  }
 ],
 "metadata": {
  "kernelspec": {
   "display_name": "R",
   "language": "R",
   "name": "ir"
  },
  "language_info": {
   "codemirror_mode": "r",
   "file_extension": ".r",
   "mimetype": "text/x-r-source",
   "name": "R",
   "pygments_lexer": "r",
   "version": "4.0.2"
  }
 },
 "nbformat": 4,
 "nbformat_minor": 5
}
