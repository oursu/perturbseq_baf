{
 "cells": [
  {
   "cell_type": "code",
   "execution_count": 1,
   "id": "8d16cff3",
   "metadata": {},
   "outputs": [
    {
     "name": "stderr",
     "output_type": "stream",
     "text": [
      "WARNING: If you miss a compact list, please try `print_header`!\n"
     ]
    },
    {
     "name": "stdout",
     "output_type": "stream",
     "text": [
      "The `sinfo` package has changed name and is now called `session_info` to become more discoverable and self-explanatory. The `sinfo` PyPI package will be kept around to avoid breaking old installs and you can downgrade to 0.3.2 if you want to use it without seeing this message. For the latest features and bug fixes, please install `session_info` instead. The usage and defaults also changed slightly, so please review the latest README at https://gitlab.com/joelostblom/session_info.\n",
      "-----\n",
      "anndata     0.7.6\n",
      "scanpy      1.7.2\n",
      "sinfo       0.3.4\n",
      "-----\n",
      "PIL                 8.2.0\n",
      "anyio               NA\n",
      "appnope             0.1.2\n",
      "attr                20.3.0\n",
      "babel               2.9.0\n",
      "backcall            0.2.0\n",
      "bottleneck          1.3.2\n",
      "brotli              NA\n",
      "cairo               1.20.1\n",
      "certifi             2020.12.05\n",
      "cffi                1.14.5\n",
      "chardet             4.0.0\n",
      "cloudpickle         1.6.0\n",
      "colorama            0.4.4\n",
      "cycler              0.10.0\n",
      "cython_runtime      NA\n",
      "cytoolz             0.11.0\n",
      "dask                2021.04.0\n",
      "dateutil            2.8.1\n",
      "decorator           5.0.6\n",
      "dunamai             1.5.5\n",
      "fsspec              0.9.0\n",
      "get_version         3.2\n",
      "h5py                2.10.0\n",
      "idna                2.10\n",
      "igraph              0.7.1\n",
      "ipykernel           5.3.4\n",
      "ipython_genutils    0.2.0\n",
      "ipywidgets          7.6.3\n",
      "jedi                0.17.2\n",
      "jinja2              2.11.3\n",
      "joblib              1.0.1\n",
      "json5               NA\n",
      "jsonschema          3.2.0\n",
      "jupyter_server      1.4.1\n",
      "jupyterlab_server   2.4.0\n",
      "kiwisolver          1.3.1\n",
      "legacy_api_wrap     1.2\n",
      "leidenalg           0.7.0\n",
      "llvmlite            0.36.0\n",
      "markupsafe          1.1.1\n",
      "matplotlib          3.3.4\n",
      "mkl                 2.3.0\n",
      "mpl_toolkits        NA\n",
      "natsort             7.1.1\n",
      "nbclassic           NA\n",
      "nbformat            5.1.3\n",
      "numba               0.53.1\n",
      "numexpr             2.7.3\n",
      "numpy               1.20.1\n",
      "packaging           20.9\n",
      "pandas              1.2.4\n",
      "parso               0.7.0\n",
      "perturbseq          NA\n",
      "pexpect             4.8.0\n",
      "pickleshare         0.7.5\n",
      "pkg_resources       NA\n",
      "prometheus_client   NA\n",
      "prompt_toolkit      3.0.17\n",
      "psutil              5.8.0\n",
      "ptyprocess          0.7.0\n",
      "pvectorc            NA\n",
      "pygments            2.8.1\n",
      "pyparsing           2.4.7\n",
      "pyrsistent          NA\n",
      "pytz                2021.1\n",
      "requests            2.25.1\n",
      "scipy               1.6.2\n",
      "seaborn             0.11.1\n",
      "send2trash          NA\n",
      "six                 1.15.0\n",
      "sklearn             0.24.1\n",
      "sniffio             1.2.0\n",
      "socks               1.7.1\n",
      "sphinxcontrib       NA\n",
      "statsmodels         0.12.2\n",
      "storemagic          NA\n",
      "tables              3.6.1\n",
      "tblib               1.7.0\n",
      "tlz                 0.11.0\n",
      "toolz               0.11.1\n",
      "tornado             6.1\n",
      "traitlets           5.0.5\n",
      "typing_extensions   NA\n",
      "urllib3             1.26.4\n",
      "wcwidth             0.2.5\n",
      "yaml                5.4.1\n",
      "zmq                 20.0.0\n",
      "zope                NA\n",
      "-----\n",
      "IPython             7.22.0\n",
      "jupyter_client      6.1.12\n",
      "jupyter_core        4.7.1\n",
      "jupyterlab          3.0.14\n",
      "notebook            6.3.0\n",
      "-----\n",
      "Python 3.8.8 (default, Apr 13 2021, 12:59:45) [Clang 10.0.0 ]\n",
      "macOS-10.15.7-x86_64-i386-64bit\n",
      "8 logical CPU cores, i386\n",
      "-----\n",
      "Session information updated at 2022-11-23 13:42\n",
      "\n"
     ]
    }
   ],
   "source": [
    "import numpy as np\n",
    "import pandas as pd\n",
    "import scanpy as sc\n",
    "import sys\n",
    "#sys.path.append(\"/ahg/regevdata/projects/Cell2CellCommunication/code/MIMOSCA\")\n",
    "import perturbseq as perturb\n",
    "import seaborn as sns\n",
    "\n",
    "%matplotlib inline\n",
    "import matplotlib.pyplot as plt\n",
    "\n",
    "\n",
    "sc.settings.verbosity = 3  # verbosity: errors (0), warnings (1), info (2), hints (3)\n",
    "sc.settings.set_figure_params(dpi=80, color_map='viridis')\n",
    "sc.logging.print_versions()\n",
    "import matplotlib\n",
    "matplotlib.rcParams['pdf.fonttype'] = 42\n",
    "matplotlib.rcParams['ps.fonttype'] = 42"
   ]
  },
  {
   "cell_type": "code",
   "execution_count": 33,
   "id": "ac963124",
   "metadata": {},
   "outputs": [
    {
     "name": "stderr",
     "output_type": "stream",
     "text": [
      "WARNING: Your filename has more than two extensions: ['.analysis', '.2021-06-17', '.h5ad'].\n",
      "Only considering the two last: ['.2021-06-17', '.h5ad'].\n",
      "WARNING: Your filename has more than two extensions: ['.analysis', '.2021-06-17', '.h5ad'].\n",
      "Only considering the two last: ['.2021-06-17', '.h5ad'].\n",
      "/Users/ursuo/anaconda3/lib/python3.8/site-packages/anndata/compat/__init__.py:180: FutureWarning: Moving element from .uns['neighbors']['distances'] to .obsp['distances'].\n",
      "\n",
      "This is where adjacency matrices should go now.\n",
      "  warn(\n",
      "/Users/ursuo/anaconda3/lib/python3.8/site-packages/anndata/compat/__init__.py:180: FutureWarning: Moving element from .uns['neighbors']['connectivities'] to .obsp['connectivities'].\n",
      "\n",
      "This is where adjacency matrices should go now.\n",
      "  warn(\n"
     ]
    },
    {
     "data": {
      "text/plain": [
       "AnnData object with n_obs × n_vars = 52152 × 21868\n",
       "    obs: 'batch', 'SS18L_4', 'SMARCC1_2', 'SMARCC2_2', 'SMARCC1_1', 'BRD9_4', 'BRD7_1', 'SMARCD3_3', 'SMARCD2_3', 'SMARCB1_1', 'BCL7A_1', 'DPF2_1', 'SMARCC2_1', 'ARID1B_4', 'ARID1B_3', 'BRD7_2', 'BCL7C_4', 'SMARCD1_2', 'SMARCE1_2', 'SMARCD1_3', 'ARID2_3', 'DPF2_4', 'ARID2_2', 'BCL7B_1', 'GLTSCR1_4', 'SMARCA2_1', 'PHF10_2', 'SS18_4', 'SS18L_1', 'DPF2_2', 'NTC7_IG1144056', 'DPF3_1', 'GLTSCR1L_2', 'SMARCC1_7', 'DPF1_2', 'DPF1_1', 'ACTL6A_2', 'ARID1A_2', 'PBRM1_3', 'SMARCD2_2', 'ACTL6B_2', 'SMARCC1_5', 'BCL7A_3', 'BCL7C_1', 'ACTL6A_3', 'SMARCA4_1', 'BCL7B_3', 'BCL7A_4', 'ARID2_1', 'ARID1B_2', 'PBRM1_2', 'NTC5_mNTC100A67005', 'ACTL6A_1', 'BRD9_3', 'DPF2_3', 'SMARCD1_4', 'GLTSCR1_3', 'SMARCD3_1', 'SS18_3', 'ARID2_4', 'NTC2_IG216151', 'GLTSCR1L_4', 'BCL7B_2', 'SS18L_2', 'ACTL6B_1', 'BRD7_3', 'SMARCB1_5', 'SMARCE1_3', 'SMARCA4_4', 'ACTL6B_3', 'SMARCE1_4', 'DPF3_3', 'SMARCC2_3', 'SMARCE1_1', 'NTC6_IG1216445', 'SS18L_3', 'ARID1A_7', 'PHF10_3', 'DPF1_3', 'ARID1A_3', 'SMARCA2_2', 'DPF3_4', 'SMARCA4_7', 'SMARCC2_4', 'SMARCD2_4', 'SMARCA2_3', 'PHF10_1', 'GLTSCR1_1', 'ACTL6A_4', 'BRD7_4', 'ARID1A_5', 'BCL7C_3', 'SS18_2', 'BCL7A_2', 'PHF10_4', 'GLTSCR1L_3', 'SMARCB1_8', 'DPF1_4', 'SMARCD2_1', 'ARID1B_1', 'SMARCD1_1', 'SMARCD3_2', 'BRD9_1', 'BCL7C_2', 'NTC1_IG345439', 'SMARCA4_5', 'DPF3_2', 'SS18_1', 'BRD9_2', 'PBRM1_4', 'SMARCD3_4', 'PBRM1_1', 'SMARCA2_4', 'ACTL6B_4', 'GLTSCR1L_1', 'SMARCB1_7', 'BCL7B_4', 'gene', 'guide', 'n_genes', 'percent_mito', 'n_counts', 'batch_num11', 'batch_num3', 'batch_num0', 'batch_num12', 'batch_num4', 'batch_num9', 'batch_num6', 'batch_num5', 'batch_num14', 'batch_num8', 'batch_num13', 'batch_num2', 'batch_num10', 'batch_num1', 'batch_num7', 'louvain', 'G1.S', 'G2.M', 'M', 'M.G1', 'S', 'phase.multi', 'gene_name2', 'SS18', 'BRD7', 'multiple', 'BCL7A', 'SMARCD2', 'ACTL6B', 'SMARCE1', 'DPF3', 'SMARCC2', 'PBRM1', 'NTC6', 'SS18L', 'BCL7C', 'SMARCD3', 'NTC1', 'ARID2', 'DPF1', 'BRD9', 'ARID1A', 'GLTSCR1L', 'SMARCA4', 'NTC2', 'ACTL6A', 'NTC7', 'DPF2', 'SMARCB1', 'SMARCD1', 'PHF10', 'GLTSCR1', 'SMARCA2', 'NTC5', 'ARID1B', 'BCL7B', 'NA', 'SMARCC1', 'guide.perturbations_per_cell', 'gene.perturbations_per_cell', 'doublet_scores', 'predicted_doublets', 'guide_conf'\n",
       "    var: 'n_cells', 'highly_variable', 'means', 'dispersions', 'dispersions_norm'\n",
       "    uns: 'Detection_probability', 'MOI', 'gene.cells_per_perturbation', 'gene.cells_per_perturbation.singly_infected', 'gene_colors', 'guide.cells_per_perturbation', 'guide.cells_per_perturbation.singly_infected', 'guide_colors', 'guide_conf_colors', 'louvain', 'louvain_colors', 'neighbors', 'pca', 'phase.multi_colors', 'umap'\n",
       "    obsm: 'X_pca', 'X_umap'\n",
       "    varm: 'PCs'\n",
       "    obsp: 'distances', 'connectivities'"
      ]
     },
     "execution_count": 33,
     "metadata": {},
     "output_type": "execute_result"
    }
   ],
   "source": [
    "DATA=\"/Users/ursuo/Documents/research/baf/data/2021-06-17/single_guide\"\n",
    "FIGS=\"/Users/ursuo/Documents/research/baf/data/2021-06-17/Figures\"\n",
    "pref=DATA+'/Baf.single_gene'\n",
    "single=sc.read(DATA+'/Baf.analysis.2021-06-17.h5ad')\n",
    "single=sc.read(DATA+'/Baf.analysis.h5ad')\n",
    "single"
   ]
  },
  {
   "cell_type": "code",
   "execution_count": 34,
   "id": "f2e8ec4b",
   "metadata": {},
   "outputs": [
    {
     "name": "stdout",
     "output_type": "stream",
     "text": [
      "adata cells: 52152\n",
      "annotated cells: 37454 or 72.0 percent of adata\n"
     ]
    },
    {
     "data": {
      "text/plain": [
       "AnnData object with n_obs × n_vars = 52152 × 21868\n",
       "    obs: 'batch', 'SS18L_4', 'SMARCC1_2', 'SMARCC2_2', 'SMARCC1_1', 'BRD9_4', 'BRD7_1', 'SMARCD3_3', 'SMARCD2_3', 'SMARCB1_1', 'BCL7A_1', 'DPF2_1', 'SMARCC2_1', 'ARID1B_4', 'ARID1B_3', 'BRD7_2', 'BCL7C_4', 'SMARCD1_2', 'SMARCE1_2', 'SMARCD1_3', 'ARID2_3', 'DPF2_4', 'ARID2_2', 'BCL7B_1', 'GLTSCR1_4', 'SMARCA2_1', 'PHF10_2', 'SS18_4', 'SS18L_1', 'DPF2_2', 'NTC7_IG1144056', 'DPF3_1', 'GLTSCR1L_2', 'SMARCC1_7', 'DPF1_2', 'DPF1_1', 'ACTL6A_2', 'ARID1A_2', 'PBRM1_3', 'SMARCD2_2', 'ACTL6B_2', 'SMARCC1_5', 'BCL7A_3', 'BCL7C_1', 'ACTL6A_3', 'SMARCA4_1', 'BCL7B_3', 'BCL7A_4', 'ARID2_1', 'ARID1B_2', 'PBRM1_2', 'NTC5_mNTC100A67005', 'ACTL6A_1', 'BRD9_3', 'DPF2_3', 'SMARCD1_4', 'GLTSCR1_3', 'SMARCD3_1', 'SS18_3', 'ARID2_4', 'NTC2_IG216151', 'GLTSCR1L_4', 'BCL7B_2', 'SS18L_2', 'ACTL6B_1', 'BRD7_3', 'SMARCB1_5', 'SMARCE1_3', 'SMARCA4_4', 'ACTL6B_3', 'SMARCE1_4', 'DPF3_3', 'SMARCC2_3', 'SMARCE1_1', 'NTC6_IG1216445', 'SS18L_3', 'ARID1A_7', 'PHF10_3', 'DPF1_3', 'ARID1A_3', 'SMARCA2_2', 'DPF3_4', 'SMARCA4_7', 'SMARCC2_4', 'SMARCD2_4', 'SMARCA2_3', 'PHF10_1', 'GLTSCR1_1', 'ACTL6A_4', 'BRD7_4', 'ARID1A_5', 'BCL7C_3', 'SS18_2', 'BCL7A_2', 'PHF10_4', 'GLTSCR1L_3', 'SMARCB1_8', 'DPF1_4', 'SMARCD2_1', 'ARID1B_1', 'SMARCD1_1', 'SMARCD3_2', 'BRD9_1', 'BCL7C_2', 'NTC1_IG345439', 'SMARCA4_5', 'DPF3_2', 'SS18_1', 'BRD9_2', 'PBRM1_4', 'SMARCD3_4', 'PBRM1_1', 'SMARCA2_4', 'ACTL6B_4', 'GLTSCR1L_1', 'SMARCB1_7', 'BCL7B_4', 'gene', 'guide', 'n_genes', 'percent_mito', 'n_counts', 'batch_num11', 'batch_num3', 'batch_num0', 'batch_num12', 'batch_num4', 'batch_num9', 'batch_num6', 'batch_num5', 'batch_num14', 'batch_num8', 'batch_num13', 'batch_num2', 'batch_num10', 'batch_num1', 'batch_num7', 'louvain', 'G1.S', 'G2.M', 'M', 'M.G1', 'S', 'phase.multi', 'gene_name2', 'SS18', 'BRD7', 'multiple', 'BCL7A', 'SMARCD2', 'ACTL6B', 'SMARCE1', 'DPF3', 'SMARCC2', 'PBRM1', 'NTC6', 'SS18L', 'BCL7C', 'SMARCD3', 'NTC1', 'ARID2', 'DPF1', 'BRD9', 'ARID1A', 'GLTSCR1L', 'SMARCA4', 'NTC2', 'ACTL6A', 'NTC7', 'DPF2', 'SMARCB1', 'SMARCD1', 'PHF10', 'GLTSCR1', 'SMARCA2', 'NTC5', 'ARID1B', 'BCL7B', 'NA', 'SMARCC1', 'guide.perturbations_per_cell', 'gene.perturbations_per_cell', 'doublet_scores', 'predicted_doublets', 'guide_conf', 'NTC', 'guide.compact', 'gene.compact', 'unassigned'\n",
       "    var: 'n_cells', 'highly_variable', 'means', 'dispersions', 'dispersions_norm'\n",
       "    uns: 'Detection_probability', 'MOI', 'gene.cells_per_perturbation', 'gene.cells_per_perturbation.singly_infected', 'gene_colors', 'guide.cells_per_perturbation', 'guide.cells_per_perturbation.singly_infected', 'guide_colors', 'guide_conf_colors', 'louvain', 'louvain_colors', 'neighbors', 'pca', 'phase.multi_colors', 'umap', 'guide2gene'\n",
       "    obsm: 'X_pca', 'X_umap'\n",
       "    varm: 'PCs'\n",
       "    obsp: 'distances', 'connectivities'"
      ]
     },
     "execution_count": 34,
     "metadata": {},
     "output_type": "execute_result"
    }
   ],
   "source": [
    "cells2guide_file='/Users/ursuo/Documents/research/baf/data/2021-06-17/single_guide/Baf.single_gene.cell2guide.csv.gz'\n",
    "guide2gene_file='/Users/ursuo/Documents/research/baf/data/2021-06-17/single_guide/Baf.single_gene.guide2gene.csv.gz'\n",
    "perturb.io.read_perturbations_csv(single,\n",
    "                       cell2guide_csv=cells2guide_file,\n",
    "                      guide2gene_csv=guide2gene_file,\n",
    "                      pref='')"
   ]
  },
  {
   "cell_type": "code",
   "execution_count": 35,
   "id": "ca856963",
   "metadata": {},
   "outputs": [
    {
     "name": "stderr",
     "output_type": "stream",
     "text": [
      "ranking genes\n",
      "... storing 'gene' as categorical\n",
      "... storing 'guide' as categorical\n",
      "... storing 'guide.compact' as categorical\n",
      "... storing 'gene.compact' as categorical\n",
      "/Users/ursuo/anaconda3/lib/python3.8/site-packages/scanpy/tools/_rank_genes_groups.py:419: RuntimeWarning: invalid value encountered in log2\n",
      "  self.stats[group_name, 'logfoldchanges'] = np.log2(\n",
      "    finished: added to `.uns['rank_genes_groups']`\n",
      "    'names', sorted np.recarray to be indexed by group ids\n",
      "    'scores', sorted np.recarray to be indexed by group ids\n",
      "    'logfoldchanges', sorted np.recarray to be indexed by group ids\n",
      "    'pvals', sorted np.recarray to be indexed by group ids\n",
      "    'pvals_adj', sorted np.recarray to be indexed by group ids (0:00:11)\n"
     ]
    },
    {
     "name": "stdout",
     "output_type": "stream",
     "text": [
      "(21868, 5)\n",
      "(21868, 5)\n",
      "(21868, 5)\n",
      "(21868, 5)\n",
      "(21868, 5)\n",
      "(21868, 5)\n",
      "(21868, 5)\n",
      "(21868, 5)\n",
      "(21868, 5)\n",
      "(21868, 5)\n",
      "(21868, 5)\n",
      "(21868, 5)\n",
      "(21868, 5)\n",
      "(21868, 5)\n",
      "(21868, 5)\n",
      "(21868, 5)\n",
      "(21868, 5)\n",
      "(21868, 5)\n",
      "(21868, 5)\n",
      "(21868, 5)\n",
      "(21868, 5)\n",
      "(21868, 5)\n",
      "(21868, 5)\n",
      "(21868, 5)\n",
      "(21868, 5)\n",
      "(21868, 5)\n",
      "(21868, 5)\n",
      "(21868, 5)\n",
      "(21868, 5)\n",
      "(21868, 5)\n"
     ]
    }
   ],
   "source": [
    "def DE(adata_here,reference,groupby,fdr=0.01,use_raw=False,compute_lfc=False,ps=1e-30):\n",
    "\n",
    "    if use_raw:\n",
    "        genes=adata_here.raw.var_names\n",
    "    else:\n",
    "        genes=adata_here.var_names\n",
    "        \n",
    "    groupby_options=list(set(adata_here.obs[groupby]).difference(set([reference])))\n",
    "\n",
    "    sc.tl.rank_genes_groups(adata_here,groupby=groupby,n_genes=len(genes), reference=reference,\n",
    "                            use_raw=use_raw,rankby_abs=True,method='t-test_overestim_var')\n",
    "\n",
    "    pval_mat=pd.DataFrame(index=groupby_options,columns=genes,dtype=float)\n",
    "    sign_mat=pd.DataFrame(index=groupby_options,columns=genes,dtype=float)\n",
    "    \n",
    "    #bulkify\n",
    "    bulk=perturb.tl.bulk(adata_here,grouping_variable=groupby,by_batch=False,return_matrix=True,use_raw=use_raw) \n",
    "    #subtract the control from the bulk to get the sign\n",
    "    sign_mat_full=bulk-bulk.loc[reference,:]\n",
    "    \n",
    "    if compute_lfc:\n",
    "        lfc_mat=pd.DataFrame(index=groupby_options,columns=genes,dtype=float)\n",
    "    \n",
    "    for groupby_option in groupby_options:\n",
    "        \n",
    "        if groupby_option==reference:\n",
    "            continue\n",
    "        df_here=sc.get.rank_genes_groups_df(adata_here,group=groupby_option)\n",
    "        df_here.index=list(df_here['names'])\n",
    "        print(df_here.shape)\n",
    "        \n",
    "        #pvalue\n",
    "        pval_mat.loc[groupby_option,:]=df_here.loc[genes,'pvals_adj']\n",
    "        if compute_lfc:\n",
    "            lfc_mat.loc[groupby_option,:]=df_here.loc[genes,'logfoldchanges']\n",
    "        sign_mat.loc[groupby_option,:]=np.sign(sign_mat_full.loc[groupby_option,genes])\n",
    "        \n",
    "    signed_pval_mat=pd.DataFrame(np.multiply(-np.log10(pval_mat+ps),np.sign(sign_mat)),\n",
    "                                 index=groupby_options,columns=genes,dtype=float)\n",
    "    return(signed_pval_mat)\n",
    "\n",
    "single_DE=DE(single,'NTC','gene.compact',fdr=0.01,use_raw=False,compute_lfc=False)"
   ]
  },
  {
   "cell_type": "code",
   "execution_count": 36,
   "id": "707ba904",
   "metadata": {},
   "outputs": [
    {
     "name": "stdout",
     "output_type": "stream",
     "text": [
      "                   p_val  avg_log2FC  pct.1  pct.2     p_val_adj  motif.name  \\\n",
      "motif.name                                                                     \n",
      "FOSL1       1.648158e-56   -2.373058  0.302  0.753  1.043284e-53       FOSL1   \n",
      "BATF::JUN   9.470043e-56   -2.274272  0.313  0.743  5.994537e-53   BATF::JUN   \n",
      "FOSB::JUNB  1.002778e-55   -2.177531  0.303  0.728  6.347586e-53  FOSB::JUNB   \n",
      "BATF        1.288886e-55   -2.253213  0.325  0.746  8.158648e-53        BATF   \n",
      "JUND        3.944310e-55   -2.111514  0.313  0.720  2.496748e-52        JUND   \n",
      "\n",
      "            signed_mlogp  \n",
      "motif.name                \n",
      "FOSL1         -52.981597  \n",
      "BATF::JUN     -52.222244  \n",
      "FOSB::JUNB    -52.197391  \n",
      "BATF          -52.088382  \n",
      "JUND          -51.602625  \n"
     ]
    }
   ],
   "source": [
    "p='ARID1A'\n",
    "\n",
    "motiff='/Users/ursuo/Documents/research/baf/data/2021-06-17/share/2022-11-22/motif_DE_'+p+'.FRiP.0.2.MIN_FRAGS.1000.MIN_PEAK.0.MIN_TSS.1.SUBS.full.csv'\n",
    "motif=pd.read_csv(motiff,sep='\\t')\n",
    "motif_name=[]\n",
    "for i in range(motif.shape[0]):\n",
    "    m=list(motif['motif.name'])[i]\n",
    "    if ':' in m:\n",
    "        m=m.split('::')[1]\n",
    "    motif_name.append(m)\n",
    "    \n",
    "motif.index=motif['motif.name']\n",
    "motif['signed_mlogp']=np.multiply(np.sign(motif['avg_log2FC']),\n",
    "                                  -np.log10(motif['p_val_adj']))\n",
    "\n",
    "\n",
    "print(motif.head())"
   ]
  },
  {
   "cell_type": "code",
   "execution_count": 37,
   "id": "73dc18cf",
   "metadata": {},
   "outputs": [
    {
     "data": {
      "text/plain": [
       "True"
      ]
     },
     "execution_count": 37,
     "metadata": {},
     "output_type": "execute_result"
    }
   ],
   "source": [
    "'CTCF' in motif.index"
   ]
  },
  {
   "cell_type": "code",
   "execution_count": 46,
   "id": "84788d9a",
   "metadata": {},
   "outputs": [
    {
     "name": "stdout",
     "output_type": "stream",
     "text": [
      "442\n",
      "['CTCFL', 'SNAI2']\n",
      "[]\n",
      "['FOSL2', 'JUN', 'RUNX2', 'NFIL3', 'ZBTB18', 'NFE2', 'JUND']\n",
      "['GATA1', 'BATF', 'ETV4', 'HOXA10', 'MAZ', 'CEBPA', 'ATF4', 'BATF3']\n"
     ]
    },
    {
     "data": {
      "image/png": "[encoded data removed]",
      "text/plain": [
       "<Figure size 400x400 with 1 Axes>"
      ]
     },
     "metadata": {
      "needs_background": "light"
     },
     "output_type": "display_data"
    }
   ],
   "source": [
    "common=list(set(motif.index).intersection(set(single_DE.columns)))\n",
    "print(len(common))\n",
    "\n",
    "fig,plots=plt.subplots(1)\n",
    "fig.set_size_inches(5,5)\n",
    "plots.scatter(motif.loc[common,'signed_mlogp'],\n",
    "              single_DE.loc[p,common],color='black',s=1)\n",
    "plots.grid(False)\n",
    "plots.set_xlabel('Motif DE\\n('+p+'/NTC)')\n",
    "plots.set_ylabel('TF DE\\n('+p+'/NTC)')\n",
    "plots.axvline(x=-1,color='lightgray',linestyle='--')\n",
    "plots.axvline(x=1,color='lightgray',linestyle='--')\n",
    "plots.axhline(y=-1,color='lightgray',linestyle='--')\n",
    "plots.axhline(y=1,color='lightgray',linestyle='--')\n",
    "plots.set_ylim(-20,20)\n",
    "#plots.set_xlim(-60,60)\n",
    "\n",
    "\n",
    "#add text\n",
    "FDRlog=1\n",
    "texts=[]\n",
    "upup=[]\n",
    "updown=[]\n",
    "downup=[]\n",
    "downdown=[]\n",
    "for i, txt in enumerate(common):\n",
    "    textcolor='black'\n",
    "    fontsize=10\n",
    "    x=motif.loc[common,'signed_mlogp'][i]\n",
    "    y=single_DE.loc[p,common][i]\n",
    "    if (x>=-FDRlog and x<FDRlog) and (y>=-FDRlog and y<FDRlog):\n",
    "        continue\n",
    "    if (x>=-FDRlog and x<FDRlog):\n",
    "        continue\n",
    "    if x>FDRlog:\n",
    "        textcolor='orange'\n",
    "    if x<-FDRlog:\n",
    "        if x<-30 and (y<FDRlog and y>-FDRlog):\n",
    "            textcolor='deepskyblue'\n",
    "    if y>FDRlog and x<-FDRlog:\n",
    "        textcolor='red'\n",
    "        downup.append(txt)\n",
    "    if y<-FDRlog and x<-FDRlog:\n",
    "        textcolor='blue'\n",
    "        downdown.append(txt)\n",
    "    if x>FDRlog and y>FDRlog:\n",
    "        textcolor='darkred'\n",
    "        upup.append(txt)\n",
    "    if y<-FDRlog and x>FDRlog:\n",
    "        textcolor='gray'\n",
    "        updown.append(txt)\n",
    "    if textcolor not in ['red','blue','darkred']:\n",
    "        fontsize=5\n",
    "    if textcolor=='black':\n",
    "        continue\n",
    "    plots.annotate(txt, (motif.loc[common,'signed_mlogp'][i], \n",
    "                      single_DE.loc[p,common][i]),color=textcolor,\n",
    "                  fontsize=fontsize)\n",
    "    #texts.append(plots.text(motif.loc[common,'signed_mlogp'][i], \n",
    "    #                  single_DE.loc['ARID1A',common][i],\n",
    "    #          txt))\n",
    "#adjust_text(texts)\n",
    "print(upup)\n",
    "print(updown)\n",
    "print(downup)\n",
    "print(downdown)\n",
    "outname='/Users/ursuo/Documents/research/baf/data/2021-06-17/share/2022-11-22/FRiP.0.2.MIN_FRAGS.1000.MIN_PEAK.0.MIN_TSS.1.SUBS.full.'+p+'motif_vs_expr.pdf'\n",
    "plt.savefig(outname,transparent=True,bbox_inches='tight')"
   ]
  },
  {
   "cell_type": "code",
   "execution_count": 28,
   "id": "866980a2",
   "metadata": {},
   "outputs": [
    {
     "data": {
      "text/plain": [
       "False"
      ]
     },
     "execution_count": 28,
     "metadata": {},
     "output_type": "execute_result"
    }
   ],
   "source": [
    "'CTCF' in common"
   ]
  },
  {
   "cell_type": "code",
   "execution_count": null,
   "id": "fa978f98",
   "metadata": {},
   "outputs": [],
   "source": []
  }
 ],
 "metadata": {
  "kernelspec": {
   "display_name": "Python 3",
   "language": "python",
   "name": "python3"
  },
  "language_info": {
   "codemirror_mode": {
    "name": "ipython",
    "version": 3
   },
   "file_extension": ".py",
   "mimetype": "text/x-python",
   "name": "python",
   "nbconvert_exporter": "python",
   "pygments_lexer": "ipython3",
   "version": "3.8.8"
  }
 },
 "nbformat": 4,
 "nbformat_minor": 5
}
