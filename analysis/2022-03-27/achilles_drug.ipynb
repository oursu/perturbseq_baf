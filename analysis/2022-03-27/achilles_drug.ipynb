{
 "cells": [
  {
   "cell_type": "code",
   "execution_count": 2,
   "metadata": {},
   "outputs": [],
   "source": [
    "import numpy as np\n",
    "import pandas as pd\n",
    "import scanpy as sc\n",
    "import os\n",
    "import csv\n",
    "%matplotlib inline\n",
    "import matplotlib.pyplot as plt\n",
    "import seaborn as sns"
   ]
  },
  {
   "cell_type": "code",
   "execution_count": null,
   "metadata": {},
   "outputs": [],
   "source": []
  },
  {
   "cell_type": "markdown",
   "metadata": {},
   "source": [
    "## Single-Cell Data"
   ]
  },
  {
   "cell_type": "code",
   "execution_count": 5,
   "metadata": {
    "scrolled": true
   },
   "outputs": [
    {
     "name": "stdout",
     "output_type": "stream",
     "text": [
      "WARNING: Your filename has more than two extensions: ['.filtered', '.updated', '.h5ad'].\n",
      "Only considering the two last: ['.updated', '.h5ad'].\n",
      "WARNING: Your filename has more than two extensions: ['.filtered', '.updated', '.h5ad'].\n",
      "Only considering the two last: ['.updated', '.h5ad'].\n"
     ]
    }
   ],
   "source": [
    "data_dir = './data'\n",
    "\n",
    "single_adata = sc.read(os.path.join(data_dir,'single.filtered.updated.h5ad'))"
   ]
  },
  {
   "cell_type": "markdown",
   "metadata": {},
   "source": [
    "## Exploring Achilles"
   ]
  },
  {
   "cell_type": "code",
   "execution_count": null,
   "metadata": {},
   "outputs": [],
   "source": [
    "data_dir = './data/achilles'\n",
    "\n",
    "sample_info = pd.read_csv(os.path.join(data_dir,'sample_info.csv'))\n",
    "id2name = {depmapid: ccle_name for depmapid,ccle_name in sample_info[['DepMap_ID','CCLE_Name']].values}\n",
    "\n",
    "mutation_df = pd.read_csv(os.path.join(data_dir,'CCLE_mutations.csv'))\n",
    "mutation_df = mutation_df[mutation_df['isDeleterious'].values.astype(str) != 'nan']\n",
    "mutation_df = mutation_df[mutation_df['isDeleterious'].values]\n",
    "\n",
    "mutation_df['CCLE_Name'] = [id2name[n] for n in mutation_df['DepMap_ID'].values]\n",
    "\n",
    "cell_line_mutation_dict = {}\n",
    "for gene,cell_line in mutation_df[['Hugo_Symbol','CCLE_Name']].values:\n",
    "    if cell_line not in cell_line_mutation_dict:\n",
    "        cell_line_mutation_dict[cell_line] = []\n",
    "    cell_line_mutation_dict[cell_line].append(gene)\n",
    "    \n",
    "# exclude multiples of a gene\n",
    "cell_line_mutation_dict = {k: list(set(v)) for k,v in cell_line_mutation_dict.items()}"
   ]
  },
  {
   "cell_type": "code",
   "execution_count": 7,
   "metadata": {},
   "outputs": [],
   "source": [
    "cat1 = ['SMARCB1','SMARCA4','ARID1A','SMARCE1']\n",
    "cat2 = ['ARID2','BRD7','PBRM1']\n",
    "cat3 = ['BRD9','SMARCD1'] #,'GLTSCR1']\n",
    "cat4 = ['ACTL6A']\n",
    "\n",
    "cat_list = [cat1,cat2,cat3,cat4]\n",
    "cat_names = ['cBAF/core','PBAF','ncBAF','ACTL6A']"
   ]
  },
  {
   "cell_type": "code",
   "execution_count": null,
   "metadata": {},
   "outputs": [],
   "source": []
  },
  {
   "cell_type": "markdown",
   "metadata": {},
   "source": [
    "### Identify Gene KOs that Effectively Treat Cell Lines with cBAF Mutations (NOT USED)"
   ]
  },
  {
   "cell_type": "code",
   "execution_count": 421,
   "metadata": {
    "scrolled": true
   },
   "outputs": [],
   "source": [
    "data_dir = './data/achilles'\n",
    "\n",
    "sample_info = pd.read_csv(os.path.join(data_dir,'sample_info.csv'))\n",
    "id2name = {depmapid: ccle_name for depmapid,ccle_name in sample_info[['DepMap_ID','CCLE_Name']].values}\n",
    "\n",
    "gene_effect = pd.read_csv(os.path.join(data_dir,'CRISPR_gene_effect.csv'))\n",
    "\n",
    "gene_effect.index = [str(id2name[depmapid]) for depmapid in gene_effect['DepMap_ID'].values]\n",
    "del gene_effect['DepMap_ID']\n",
    "gene_effect.columns = [n.split(' (')[0] for n in gene_effect.columns]"
   ]
  },
  {
   "cell_type": "code",
   "execution_count": 8,
   "metadata": {},
   "outputs": [],
   "source": [
    "percentiles = (np.argsort(np.argsort(gene_effect.values,axis=0),axis=0) + 1)/gene_effect.shape[0]\n",
    "gene_effect_percentiles = pd.DataFrame(percentiles,index=gene_effect.index,columns=gene_effect.columns)\n"
   ]
  },
  {
   "cell_type": "code",
   "execution_count": 9,
   "metadata": {
    "scrolled": true
   },
   "outputs": [],
   "source": [
    "cell_lines2use = sorted(list(set(cell_line_mutation_dict.keys()) & set(gene_effect.index.values)))\n",
    "\n",
    "filtered_gene_effect = gene_effect.loc[cell_lines2use]\n",
    "filtered_gene_effect = filtered_gene_effect.fillna(0)"
   ]
  },
  {
   "cell_type": "code",
   "execution_count": null,
   "metadata": {},
   "outputs": [],
   "source": []
  },
  {
   "cell_type": "markdown",
   "metadata": {},
   "source": [
    "### Drug Treatment Responses"
   ]
  },
  {
   "cell_type": "code",
   "execution_count": 8,
   "metadata": {},
   "outputs": [],
   "source": [
    "data_dir = './data/achilles'\n",
    "\n",
    "sample_info = pd.read_csv(os.path.join(data_dir,'sample_info.csv'))\n",
    "id2name = {depmapid: ccle_name for depmapid,ccle_name in sample_info[['DepMap_ID','CCLE_Name']].values}\n",
    "\n",
    "cell_line_type_dict = {cell_line: lineage for cell_line,lineage in sample_info[['CCLE_Name','lineage']].values}"
   ]
  },
  {
   "cell_type": "code",
   "execution_count": 9,
   "metadata": {},
   "outputs": [],
   "source": [
    "data_dir = './data/achilles'\n",
    "\n",
    "drug_metadata = pd.read_csv(os.path.join(data_dir,'primary-screen-replicate-treatment-info.csv'))\n",
    "drugid2name = {broad_id:name for broad_id,name in drug_metadata[['broad_id','name']].values}\n",
    "name2drugid = {v:k for k,v in drugid2name.items()}\n",
    "\n",
    "drug_effect = pd.read_csv(os.path.join(data_dir,'primary_replicate_collapsed_logfold_change_v2.csv'))\n",
    "\n",
    "drug_effect.index = [id2name[n] if n in id2name else 'None' for n in drug_effect['Unnamed: 0']]\n",
    "\n",
    "drug_effect = drug_effect[drug_effect.index.values != 'None']\n",
    "del drug_effect['Unnamed: 0']\n",
    "drug_effect.columns = [drugid2name[drug.split(':')[0]] for drug in drug_effect.columns]\n",
    "\n",
    "# drug target info\n",
    "drug_target_dict = {n: (t,moa) for n,t,moa in drug_metadata[['name','target','moa']].values}\n",
    "\n",
    "# is a drug a cancer drug\n",
    "cancer_drug_dict = {drug: 'oncology' in str(n) or 'malign' in str(n) \n",
    "                    for drug,n in drug_metadata[['name','disease.area']].values}"
   ]
  },
  {
   "cell_type": "code",
   "execution_count": 10,
   "metadata": {},
   "outputs": [],
   "source": [
    "cell_lines2use = sorted(list(set(cell_line_mutation_dict.keys()) & set(drug_effect.index.values)))\n",
    "filtered_drug_effect = drug_effect.loc[cell_lines2use]"
   ]
  },
  {
   "cell_type": "code",
   "execution_count": 11,
   "metadata": {
    "scrolled": true
   },
   "outputs": [
    {
     "name": "stdout",
     "output_type": "stream",
     "text": [
      "6\n"
     ]
    }
   ],
   "source": [
    "from collections import Counter\n",
    "\n",
    "gene_list = []\n",
    "for cell_line in cell_lines2use:\n",
    "    gene_list.extend(cell_line_mutation_dict[cell_line])\n",
    "    \n",
    "counts = Counter(gene_list)\n",
    "genes2discard = [g for g,v in counts.items() if v >= 0.1*len(cell_lines2use)]\n",
    "print(len(genes2discard))"
   ]
  },
  {
   "cell_type": "markdown",
   "metadata": {},
   "source": [
    "#### Drugs Specific to cBAF Tumors"
   ]
  },
  {
   "cell_type": "code",
   "execution_count": 12,
   "metadata": {
    "scrolled": true
   },
   "outputs": [
    {
     "data": {
      "text/plain": [
       "{'TCGA-BRCA', 'TCGA-COAD', 'TCGA-LUAD', 'TCGA-LUSC'}"
      ]
     },
     "execution_count": 12,
     "metadata": {},
     "output_type": "execute_result"
    }
   ],
   "source": [
    "save_dir = './results/cancer'\n",
    "\n",
    "genes_df = pd.read_csv(os.path.join(save_dir,'tcga.enriched_mutations.tsv'),sep='\\t')\n",
    "set(genes_df['project_id'])"
   ]
  },
  {
   "cell_type": "code",
   "execution_count": 13,
   "metadata": {},
   "outputs": [],
   "source": [
    "tcga2lineage = {'TCGA-LUAD': 'lung',\n",
    "                'TCGA-BRCA': 'breast',\n",
    "                'TCGA-COAD': 'colorectal',\n",
    "                'TCGA-LUSC': 'lung'}\n",
    "\n",
    "lineage2tcga = {v: k for k,v in tcga2lineage.items()}\n",
    "\n",
    "cell_line_lineage_dict = {k: v for k,v in sample_info[['CCLE_Name','lineage']].values}"
   ]
  },
  {
   "cell_type": "code",
   "execution_count": 14,
   "metadata": {},
   "outputs": [
    {
     "name": "stdout",
     "output_type": "stream",
     "text": [
      "180\n"
     ]
    }
   ],
   "source": [
    "q_thresh = 0.1\n",
    "\n",
    "sig_genes = genes_df[genes_df['q'] < q_thresh]['gene']\n",
    "\n",
    "gene_project_dict = {}\n",
    "for i,(g,project_id) in enumerate(genes_df[genes_df['q'] < q_thresh][['gene','project_id']].values):\n",
    "    if g not in gene_project_dict:\n",
    "        gene_project_dict[g] = []\n",
    "    gene_project_dict[g].append(project_id)\n",
    "\n",
    "print(len(sig_genes))"
   ]
  },
  {
   "cell_type": "code",
   "execution_count": null,
   "metadata": {},
   "outputs": [],
   "source": [
    "lineage_specific = True # cBAF-like specific to cell type\n",
    "\n",
    "baf_genes = set(single_adata.obs['condition'])\n",
    "\n",
    "cbaf_cell_lines = []\n",
    "cbaf_like_cell_lines = []\n",
    "no_baf_cell_lines = []\n",
    "\n",
    "for cell_line in filtered_drug_effect.index.values:\n",
    "    \n",
    "    cell_line_mutated_genes = set(cell_line_mutation_dict[cell_line])\n",
    "    num_baf_mutations = len(set(baf_genes) & cell_line_mutated_genes)\n",
    "    num_cbaf_like_mutations = len(set(sig_genes) & cell_line_mutated_genes)\n",
    "    \n",
    "    lineage = cell_line_lineage_dict[cell_line] \n",
    "    \n",
    "    # remove hypermutated cell lines + cell lines with common mutations\n",
    "    if len(cell_line_mutated_genes) < 380 and len(set(genes2discard) & cell_line_mutated_genes) >= 0:\n",
    "\n",
    "        # cBAF mutations\n",
    "        if len(set(cat1) & cell_line_mutated_genes):\n",
    "            cbaf_cell_lines.append(cell_line)\n",
    "\n",
    "        # cBAF-like mutations\n",
    "        if num_cbaf_like_mutations:\n",
    "            # (specific to lineage)\n",
    "            if lineage_specific:\n",
    "                for g in sig_genes:\n",
    "                    if g in gene_project_dict:\n",
    "                        for project_id in gene_project_dict[g]:\n",
    "                            if tcga2lineage[project_id] in lineage:\n",
    "                                cbaf_like_cell_lines.append(cell_line)\n",
    "                                break\n",
    "            else:\n",
    "                cbaf_like_cell_lines.append(cell_line)\n",
    "\n",
    "        # no BAF mutations\n",
    "        elif num_baf_mutations == 0:\n",
    "            no_baf_cell_lines.append(cell_line)\n",
    "    \n",
    "cbaf_like_cell_lines = sorted(list(set(cbaf_like_cell_lines)))"
   ]
  },
  {
   "cell_type": "code",
   "execution_count": 42,
   "metadata": {
    "scrolled": true
   },
   "outputs": [
    {
     "name": "stdout",
     "output_type": "stream",
     "text": [
      "18\n"
     ]
    }
   ],
   "source": [
    "from scipy.stats import ttest_ind\n",
    "from statsmodels.stats.multitest import fdrcorrection #multipletests\n",
    "\n",
    "t,p = ttest_ind(filtered_drug_effect.loc[cbaf_cell_lines],\n",
    "                filtered_drug_effect.loc[no_baf_cell_lines],equal_var=False,axis=0,nan_policy='omit')\n",
    "\n",
    "fc = np.nanmean(filtered_drug_effect.loc[cbaf_cell_lines].values,axis=0) < \\\n",
    "            np.nanmean(filtered_drug_effect.loc[no_baf_cell_lines].values,axis=0)\n",
    "\n",
    "# significant difference b/w LFC of cBAF mutant cell lines + no BAF mutation cell lines\n",
    "drug_inds2keep = np.where((p < 0.01) & fc)[0]\n",
    "drug_inds2keep = drug_inds2keep[np.argsort(p[drug_inds2keep])]\n",
    "specific_drugs = filtered_drug_effect.columns[drug_inds2keep]\n",
    "\n",
    "print(len(drug_inds2keep))"
   ]
  },
  {
   "cell_type": "code",
   "execution_count": 48,
   "metadata": {},
   "outputs": [
    {
     "name": "stdout",
     "output_type": "stream",
     "text": [
      "RS-39604 ('HTR4', 'serotonin receptor antagonist') 0.0003713252880837736 0.0012857189568269214\n"
     ]
    },
    {
     "data": {
      "image/png": "[encoded data removed]",
      "text/plain": [
       "<Figure size 108x288 with 1 Axes>"
      ]
     },
     "metadata": {
      "needs_background": "light"
     },
     "output_type": "display_data"
    },
    {
     "name": "stdout",
     "output_type": "stream",
     "text": [
      "hydroxyfasudil ('PKIA, PRKACA, ROCK1', 'rho associated kinase inhibitor') 0.00039301533814271666 0.03691177080000213\n"
     ]
    },
    {
     "data": {
      "image/png": "[encoded data removed]",
      "text/plain": [
       "<Figure size 108x288 with 1 Axes>"
      ]
     },
     "metadata": {
      "needs_background": "light"
     },
     "output_type": "display_data"
    },
    {
     "name": "stdout",
     "output_type": "stream",
     "text": [
      "k-strophanthidin ('ATP1A1', 'ATPase inhibitor') 0.0005057180766142782 0.017216304403541494\n"
     ]
    },
    {
     "data": {
      "image/png": "[encoded data removed]",
      "text/plain": [
       "<Figure size 108x288 with 1 Axes>"
      ]
     },
     "metadata": {
      "needs_background": "light"
     },
     "output_type": "display_data"
    },
    {
     "name": "stdout",
     "output_type": "stream",
     "text": [
      "GSK2656157 (nan, 'PERK inhibitor') 0.0038033233529839528 0.017231459270737055\n"
     ]
    },
    {
     "data": {
      "image/png": "[encoded data removed]",
      "text/plain": [
       "<Figure size 108x288 with 1 Axes>"
      ]
     },
     "metadata": {
      "needs_background": "light"
     },
     "output_type": "display_data"
    },
    {
     "name": "stdout",
     "output_type": "stream",
     "text": [
      "sodium-tanshinone-ii-a-sulfonate (nan, 'potassium channel activator') 0.005132616589299692 0.011334192720692499\n"
     ]
    },
    {
     "data": {
      "image/png": "[encoded data removed]",
      "text/plain": [
       "<Figure size 108x288 with 1 Axes>"
      ]
     },
     "metadata": {
      "needs_background": "light"
     },
     "output_type": "display_data"
    },
    {
     "name": "stdout",
     "output_type": "stream",
     "text": [
      "resibufogenin (nan, 'Na/K-ATPase inhibitor') 0.0055954767066841 0.03544523581147489\n"
     ]
    },
    {
     "data": {
      "image/png": "[encoded data removed]",
      "text/plain": [
       "<Figure size 108x288 with 1 Axes>"
      ]
     },
     "metadata": {
      "needs_background": "light"
     },
     "output_type": "display_data"
    },
    {
     "name": "stdout",
     "output_type": "stream",
     "text": [
      "caramiphen ('CHRM1, CHRM2', 'cholinergic receptor antagonist') 0.006137600693740193 0.048794343353083316\n"
     ]
    },
    {
     "data": {
      "image/png": "[encoded data removed]",
      "text/plain": [
       "<Figure size 108x288 with 1 Axes>"
      ]
     },
     "metadata": {
      "needs_background": "light"
     },
     "output_type": "display_data"
    },
    {
     "name": "stdout",
     "output_type": "stream",
     "text": [
      "zaleplon ('GABRA1, GABRB1, GABRG2, TSPO', 'benzodiazepine receptor agonist') 0.007910246765978424 0.03955564166515698\n"
     ]
    },
    {
     "data": {
      "image/png": "[encoded data removed]",
      "text/plain": [
       "<Figure size 108x288 with 1 Axes>"
      ]
     },
     "metadata": {
      "needs_background": "light"
     },
     "output_type": "display_data"
    },
    {
     "name": "stdout",
     "output_type": "stream",
     "text": [
      "crisaborole ('PDE4B', 'phosphodiesterase inhibitor') 0.009174767957230552 0.03569911837717258\n"
     ]
    },
    {
     "data": {
      "image/png": "[encoded data removed]",
      "text/plain": [
       "<Figure size 108x288 with 1 Axes>"
      ]
     },
     "metadata": {
      "needs_background": "light"
     },
     "output_type": "display_data"
    }
   ],
   "source": [
    "cbaf_p_list = []\n",
    "cbaf_like_p_list = []\n",
    "drug_list = []\n",
    "\n",
    "make_plots = True\n",
    "\n",
    "for drug_ind in drug_inds2keep:\n",
    "    drug = filtered_drug_effect.columns[drug_ind]\n",
    "    \n",
    "    # cell line LFC\n",
    "    cbaf_lfc = filtered_drug_effect.loc[cbaf_cell_lines].iloc[:,drug_ind].tolist()\n",
    "    cbaf_like_lfc = filtered_drug_effect.loc[cbaf_like_cell_lines].iloc[:,drug_ind].tolist()\n",
    "    no_baf_lfc = filtered_drug_effect.loc[no_baf_cell_lines].iloc[:,drug_ind].tolist()\n",
    "    \n",
    "    # differential viability\n",
    "    cbaf_like_p = ttest_ind(cbaf_like_lfc,no_baf_lfc,nan_policy='omit')[1]\n",
    "    cbaf_p = ttest_ind(cbaf_lfc,no_baf_lfc,nan_policy='omit')[1]\n",
    "    \n",
    "    cbaf_p_list.append(cbaf_p)\n",
    "    cbaf_like_p_list.append(cbaf_like_p)\n",
    "    drug_list.append(drug)\n",
    "        \n",
    "    if make_plots and cbaf_p < 0.01 and cbaf_like_p < 0.05:\n",
    "\n",
    "        print(drug,drug_target_dict[drug],cbaf_p,cbaf_like_p)\n",
    "\n",
    "        lfc = cbaf_lfc + cbaf_like_lfc + no_baf_lfc\n",
    "        label = ['cBAF mutations']*len(cbaf_cell_lines) + ['cBAF loss-like mutations']*len(cbaf_like_cell_lines) \\\n",
    "                    + ['no BAF mutations']*len(no_baf_cell_lines)\n",
    "        colors = ['red']*len(cbaf_cell_lines) + ['salmon']*len(cbaf_like_cell_lines) + \\\n",
    "                    ['grey']*len(no_baf_cell_lines)\n",
    "\n",
    "        plot_df = pd.DataFrame({'lfc': lfc, 'label': label})\n",
    "        plot_df['group'] = 'all'\n",
    "        plot_df['colors'] = colors\n",
    "\n",
    "        plt.figure(figsize=(1.5,4))\n",
    "        fg = sns.boxplot(x='label',y='lfc',data=plot_df,palette=['red','salmon','silver'])\n",
    "        sns.despine(right = True, top = True)\n",
    "        fg.set(xticklabels=[])\n",
    "        fg.set(xlabel=None)\n",
    "        fg.tick_params(bottom=False)\n",
    "\n",
    "        plt.ylabel('Log-Fold Change',fontsize=16)\n",
    "        plt.show()\n",
    "    \n",
    "cbaf_p_list = np.array(cbaf_p_list)\n",
    "cbaf_like_p_list = np.array(cbaf_like_p_list)\n",
    "drug_list = np.array(drug_list)\n",
    "\n",
    "results_df = pd.DataFrame({'drug': drug_list,\n",
    "             'cBAF p': cbaf_p_list,\n",
    "             'cBAF-like p': cbaf_like_p_list})\n",
    "\n",
    "results_df['cBAF -log10p'] = -np.log10(results_df['cBAF p'])\n",
    "results_df['cBAF-like -log10p'] = -np.log10(results_df['cBAF-like p'])"
   ]
  },
  {
   "cell_type": "code",
   "execution_count": 44,
   "metadata": {
    "scrolled": true
   },
   "outputs": [
    {
     "name": "stdout",
     "output_type": "stream",
     "text": [
      "SpearmanrResult(correlation=0.47368421052631576, pvalue=0.04706411117172419)\n",
      "(0.5463128581642621, 0.018990230851720916)\n"
     ]
    }
   ],
   "source": [
    "from scipy.stats import spearmanr,pearsonr\n",
    "\n",
    "effective_df = results_df[results_df['cBAF p'] < 0.01*100]\n",
    "print(spearmanr(effective_df['cBAF -log10p'],effective_df['cBAF-like -log10p']))\n",
    "print(pearsonr(effective_df['cBAF -log10p'],effective_df['cBAF-like -log10p']))"
   ]
  },
  {
   "cell_type": "code",
   "execution_count": null,
   "metadata": {},
   "outputs": [],
   "source": [
    "plt.figure(figsize=(5,5))\n",
    "plt.scatter(-np.log10(cbaf_p_list),-np.log10(cbaf_like_p_list),s=100,marker='+')\n",
    "\n",
    "filtered_results_df = results_df[(results_df['cBAF p'] < 0.05) & (results_df['cBAF-like p'] < 0.05)]\n",
    "plt.scatter(filtered_results_df['cBAF -log10p'],filtered_results_df['cBAF-like -log10p'],\n",
    "            s=100,marker='+',color='red')\n",
    "\n",
    "for drug,x,y in filtered_results_df[['drug','cBAF -log10p','cBAF-like -log10p']].values:\n",
    "    plt.text(x * (1.01), y * (1.01) , drug, fontsize=12)\n",
    "    \n",
    "    \n",
    "plt.xlabel('cBAF loss\\n' r'$-\\log_{10}(p)$',fontsize=16)\n",
    "plt.ylabel('cBAF loss-like\\n' r'$-\\log_{10}(p)$',fontsize=16)\n",
    "plt.xticks(fontsize=14)\n",
    "plt.yticks(fontsize=14)\n",
    "\n",
    "plt.xlim([1.8,results_df['cBAF -log10p'].values.max()*1.2])\n",
    "plt.ylim([results_df['cBAF-like -log10p'].values.min()*0.8,results_df['cBAF-like -log10p'].values.max()*1.2])\n",
    "\n",
    "sns.despine()\n",
    "plt.show()"
   ]
  },
  {
   "cell_type": "code",
   "execution_count": null,
   "metadata": {},
   "outputs": [],
   "source": []
  },
  {
   "cell_type": "code",
   "execution_count": null,
   "metadata": {},
   "outputs": [],
   "source": []
  },
  {
   "cell_type": "code",
   "execution_count": null,
   "metadata": {},
   "outputs": [],
   "source": []
  }
 ],
 "metadata": {
  "kernelspec": {
   "display_name": "Python 3",
   "language": "python",
   "name": "python3"
  },
  "language_info": {
   "codemirror_mode": {
    "name": "ipython",
    "version": 3
   },
   "file_extension": ".py",
   "mimetype": "text/x-python",
   "name": "python",
   "nbconvert_exporter": "python",
   "pygments_lexer": "ipython3",
   "version": "3.8.5"
  }
 },
 "nbformat": 4,
 "nbformat_minor": 4
}
