{
 "cells": [
  {
   "cell_type": "code",
   "execution_count": 1,
   "metadata": {},
   "outputs": [],
   "source": [
    "import numpy as np\n",
    "import pandas as pd\n",
    "import scanpy as sc\n",
    "import os\n",
    "import csv\n",
    "%matplotlib inline\n",
    "import matplotlib.pyplot as plt\n",
    "import seaborn as sns"
   ]
  },
  {
   "cell_type": "code",
   "execution_count": 3,
   "metadata": {},
   "outputs": [],
   "source": [
    "from scipy.stats import t\n",
    "\n",
    "def welch_ttest(x1, x2,alternative):\n",
    "    n1 = x1.size\n",
    "    n2 = x2.size\n",
    "    m1 = np.mean(x1)\n",
    "    m2 = np.mean(x2)\n",
    "    v1 = np.var(x1, ddof=1)\n",
    "    v2 = np.var(x2, ddof=1)\n",
    "    tstat = (m1 - m2) / np.sqrt(v1 / n1 + v2 / n2)\n",
    "    df = (v1 / n1 + v2 / n2)**2 / (v1**2 / (n1**2 * (n1 - 1)) + v2**2 / (n2**2 * (n2 - 1)))\n",
    "    if alternative == \"equal\":\n",
    "        p = 2 * t.cdf(-abs(tstat), df)\n",
    "    if alternative == \"lesser\":\n",
    "        p = t.cdf(tstat, df)\n",
    "    if alternative == \"greater\":\n",
    "        p = 1-t.cdf(tstat, df)\n",
    "    return tstat, df, p"
   ]
  },
  {
   "cell_type": "code",
   "execution_count": 4,
   "metadata": {},
   "outputs": [],
   "source": [
    "import json\n",
    "\n",
    "def get_mutation_data(deleterious=False):\n",
    "    cond_list = sorted(list(set(single_adata.obs['condition'])))\n",
    "    cond_list.remove('NTC')\n",
    "\n",
    "    data_dir = './data/cancer'\n",
    "\n",
    "    mutation_dict = {}\n",
    "    for cond in cond_list:\n",
    "        if cond != 'NTC':\n",
    "            file_name = '{}.cases.2021-02-12.json'.format(cond)\n",
    "            with open(os.path.join(data_dir,file_name)) as f:\n",
    "                data = json.load(f)\n",
    "\n",
    "                for n in data:\n",
    "                    if n['case_id'] not in mutation_dict:\n",
    "                        mutation_dict[n['case_id']] = np.zeros(len(cond_list))\n",
    "                    mutation_dict[n['case_id']][cond_list.index(cond)] = 1\n",
    "\n",
    "    for cond in cond_list:\n",
    "        if cond != 'NTC':\n",
    "            file_name = '{}.LAML.cases.2021-02-13.json'.format(cond)\n",
    "            if os.path.exists(os.path.join(os.path.join(data_dir,file_name))):\n",
    "                with open(os.path.join(data_dir,file_name)) as f:\n",
    "                    data = json.load(f)\n",
    "\n",
    "                    for n in data:\n",
    "                        if n['case_id'] not in mutation_dict:\n",
    "                            mutation_dict[n['case_id']] = np.zeros(len(cond_list))\n",
    "                        mutation_dict[n['case_id']][cond_list.index(cond)] = 1\n",
    "\n",
    "    # add mutation data (zeros) for cases without BAF mutations\n",
    "    for case_id in bulk_adata.obs['case_id'].values:\n",
    "        if case_id not in mutation_dict:\n",
    "            mutation_dict[case_id] = np.zeros(len(cond_list))\n",
    "\n",
    "    mutation_df = pd.DataFrame(np.array([mutation_dict[n] for n in sorted(mutation_dict.keys())]))\n",
    "    mutation_df.index = sorted(mutation_dict.keys())\n",
    "    mutation_df.columns = cond_list\n",
    "\n",
    "    return mutation_df"
   ]
  },
  {
   "cell_type": "code",
   "execution_count": 5,
   "metadata": {},
   "outputs": [],
   "source": [
    "def get_barcode_mutation_data(bulk_adata,mutations='all'):\n",
    "    \n",
    "    data_dir = './data/cancer/maf_files'\n",
    "\n",
    "    barcode_mutation_dict = {}\n",
    "\n",
    "    for project_id in list(set(bulk_adata.obs['project_id'])):\n",
    "        print(project_id)\n",
    "        subdir = 'gdac.broadinstitute.org_{}.Mutation_Packager_Calls.Level_3.2016012800.0.0'.format(project_id.split('-')[1])\n",
    "\n",
    "        for barcode in bulk_adata[bulk_adata.obs['project_id'] == project_id].obs['barcode'].values:\n",
    "            barcode = barcode[:-1]\n",
    "            path = os.path.join(data_dir,subdir,'{}.maf.txt'.format(barcode))\n",
    "            if os.path.exists(path):        \n",
    "                df = pd.read_csv(path,sep='\\t',encoding = \"ISO-8859-1\")\n",
    "                \n",
    "                if mutations != 'all':\n",
    "                    \n",
    "                    if mutations == 'strong':\n",
    "                        mutations2keep = ['Nonsense_Mutation','Frame_Shift_Del','Frame_Shift_Ins']\n",
    "                        df = df.iloc[[i for i,n in enumerate(df['Variant_Classification'].values) \n",
    "                                      if n in mutations2keep]]\n",
    "                        \n",
    "                    if mutations == 'frame_shift':\n",
    "                        mutations2keep = ['Frame_Shift_Del','Frame_Shift_Ins']\n",
    "                        df = df.iloc[[i for i,n in enumerate(df['Variant_Classification'].values) \n",
    "                                      if n in mutations2keep]]\n",
    "                        \n",
    "                    elif mutations == 'non_silent':\n",
    "                        # remove silent mutations!\n",
    "                        df = df[df['Variant_Classification'] != 'Silent']\n",
    "                        df = df[df['Variant_Classification'] != 'RNA']\n",
    "\n",
    "                barcode_mutation_dict[barcode] = df['Hugo_Symbol'].values\n",
    "    \n",
    "    return barcode_mutation_dict"
   ]
  },
  {
   "cell_type": "code",
   "execution_count": null,
   "metadata": {},
   "outputs": [],
   "source": []
  },
  {
   "cell_type": "markdown",
   "metadata": {},
   "source": [
    "## Single-Cell Data"
   ]
  },
  {
   "cell_type": "code",
   "execution_count": 6,
   "metadata": {
    "scrolled": true
   },
   "outputs": [
    {
     "name": "stdout",
     "output_type": "stream",
     "text": [
      "WARNING: Your filename has more than two extensions: ['.filtered', '.updated', '.h5ad'].\n",
      "Only considering the two last: ['.updated', '.h5ad'].\n",
      "WARNING: Your filename has more than two extensions: ['.filtered', '.updated', '.h5ad'].\n",
      "Only considering the two last: ['.updated', '.h5ad'].\n",
      "20\n"
     ]
    }
   ],
   "source": [
    "data_dir = './baf/data'\n",
    "\n",
    "single_adata = sc.read(os.path.join(data_dir,'single.filtered.updated.h5ad'))\n",
    "\n",
    "X = single_adata.raw.X.toarray() # already log-transformed\n",
    "\n",
    "# z-score\n",
    "ntc_inds = np.where(single_adata.obs['condition'] == 'NTC')[0]\n",
    "ntc_mean = X[ntc_inds].mean(0)\n",
    "ntc_std = X[ntc_inds].std(0)\n",
    "ntc_std[ntc_std == 0] = 1\n",
    "\n",
    "X = (X-ntc_mean)/ntc_std\n",
    "\n",
    "z_max = 20\n",
    "print(z_max)\n",
    "single_adata.X = np.clip(X,-z_max,z_max)"
   ]
  },
  {
   "cell_type": "code",
   "execution_count": 7,
   "metadata": {},
   "outputs": [],
   "source": [
    "results_dir = './single_by_cond'\n",
    "\n",
    "W = np.loadtxt(os.path.join(results_dir,'W_all_more.txt'),delimiter='\\t')\n",
    "H = np.loadtxt(os.path.join(results_dir,'H_all_more.txt'),delimiter='\\t')\n",
    "\n",
    "single_adata.varm['H_nmf_all'] = H.T"
   ]
  },
  {
   "cell_type": "markdown",
   "metadata": {},
   "source": [
    "### NMF"
   ]
  },
  {
   "cell_type": "code",
   "execution_count": 8,
   "metadata": {},
   "outputs": [
    {
     "name": "stdout",
     "output_type": "stream",
     "text": [
      "282\n"
     ]
    }
   ],
   "source": [
    "from scipy.stats import spearmanr\n",
    "\n",
    "N = 10\n",
    "K = single_adata.varm['H_nmf_all'].shape[1]\n",
    "\n",
    "top_genes = []\n",
    "gene_list = np.array(single_adata.var.index.values)\n",
    "\n",
    "nmf_genes = {}\n",
    "nmf_gene_inds = {}\n",
    "for i in range(K):\n",
    "    inds = np.argsort(-single_adata.varm['H_nmf_all'][:,i])[0:N]\n",
    "    genes = single_adata.var.index.values[inds]\n",
    "    # remove mitochondrial + ribosomal genes\n",
    "    genes = [g for g in genes if 'MRPL' != g[0:4] and 'MRPS' != g[0:4] and 'MT-' != g[0:3] \\\n",
    "               and 'RPL' != g[0:3] and 'RPS' != g[0:3]]\n",
    "\n",
    "    nmf_genes[i] = np.array(genes)\n",
    "    nmf_gene_inds[i] = inds \n",
    "\n",
    "nmf_inds2use = list(range(K))\n",
    "print(len(nmf_inds2use))"
   ]
  },
  {
   "cell_type": "code",
   "execution_count": 9,
   "metadata": {},
   "outputs": [],
   "source": [
    "# calculate BAF program scores here\n",
    "program_scores = []\n",
    "for i in range(K):\n",
    "    program_scores.append(single_adata.X[:,nmf_gene_inds[i]].mean(1))\n",
    "program_scores = np.array(program_scores).T"
   ]
  },
  {
   "cell_type": "code",
   "execution_count": null,
   "metadata": {},
   "outputs": [],
   "source": []
  },
  {
   "cell_type": "markdown",
   "metadata": {},
   "source": [
    "### Load Classifiers"
   ]
  },
  {
   "cell_type": "code",
   "execution_count": 10,
   "metadata": {},
   "outputs": [],
   "source": [
    "import pickle\n",
    "\n",
    "z_max = 20\n",
    "data_dir = './results/cancer/RFclassifier/classifiers/z20.softmax.n10.cv.rf200.bycond_more'.format(z_max)\n",
    "\n",
    "classifiers_dict = {}\n",
    "for cond in list(set(single_adata.obs['condition'])):\n",
    "    with open(os.path.join(data_dir,'RF.{}.pkl'.format(cond)), 'rb') as f:\n",
    "        classifiers_dict[cond] = pickle.load(f)"
   ]
  },
  {
   "cell_type": "markdown",
   "metadata": {},
   "source": [
    "## TCGA Global"
   ]
  },
  {
   "cell_type": "code",
   "execution_count": 11,
   "metadata": {
    "scrolled": false
   },
   "outputs": [
    {
     "name": "stdout",
     "output_type": "stream",
     "text": [
      "WARNING: Your filename has more than two extensions: ['.normalized', '.counts', '.h5ad'].\n",
      "Only considering the two last: ['.counts', '.h5ad'].\n",
      "WARNING: Your filename has more than two extensions: ['.normalized', '.counts', '.h5ad'].\n",
      "Only considering the two last: ['.counts', '.h5ad'].\n"
     ]
    }
   ],
   "source": [
    "data_dir = './data/cancer/gdc_h5ad'\n",
    "bulk_adata = sc.read(os.path.join(data_dir,'gdc_rnaseq.normalized.counts.h5ad'))\n",
    "bulk_adata.X = np.clip(bulk_adata.X,-2,2)\n",
    "\n",
    "# remove hypermutated tumors (380 - assuming we want < 10 mut/Mb and there 38 Mb of exons)\n",
    "bulk_adata.obs['num_mutations'] = bulk_adata.obs['num_mutations'].fillna(0)\n",
    "bulk_adata = bulk_adata[bulk_adata.obs['num_mutations'] < 380]"
   ]
  },
  {
   "cell_type": "code",
   "execution_count": 12,
   "metadata": {},
   "outputs": [
    {
     "name": "stderr",
     "output_type": "stream",
     "text": [
      "Trying to set attribute `.obs` of view, copying.\n"
     ]
    }
   ],
   "source": [
    "file_sample_dict = {}\n",
    "data_dir = './data/cancer/tcga_metadata'\n",
    "df = pd.read_csv(os.path.join(data_dir,'File_metadata_tcga_counts.txt'),sep='\\t')\n",
    "file_sample_dict = {file_name: sample_type for sample_type,file_name \\\n",
    "                         in df[['cases.0.samples.0.sample_type','file_name']].values}\n",
    "file_barcode_dict = {file_name: barcode for barcode,file_name \\\n",
    "                         in df[['cases.0.samples.0.submitter_id','file_name']].values}\n",
    "\n",
    "barcode_list = [file_barcode_dict[n] for n in bulk_adata.obs['file_name'].values]\n",
    "\n",
    "bulk_adata.obs['barcode'] = barcode_list"
   ]
  },
  {
   "cell_type": "markdown",
   "metadata": {},
   "source": [
    "### Mutation Data (TCGA Data Portal)"
   ]
  },
  {
   "cell_type": "code",
   "execution_count": 13,
   "metadata": {},
   "outputs": [],
   "source": [
    "deleterious = False\n",
    "\n",
    "mutation_df = get_mutation_data(deleterious=deleterious)\n",
    "\n",
    "if deleterious:\n",
    "    case_id2file = {case_id:file_name for case_id,file_name in bulk_adata.obs[['case_id','file_name']].values}\n",
    "    del_mutation_df = get_mutation_data(deleterious=True)\n",
    "    inds2keep = [i for i,n in enumerate(del_mutation_df.index.values) if n in set(bulk_adata.obs['case_id'].values)]\n",
    "    del_mutation_df = del_mutation_df.iloc[inds2keep]\n",
    "\n",
    "    del_mutation_df.index = [case_id2file[n] for n in del_mutation_df.index.values]\n",
    "    del_mutation_dict = {}\n",
    "    for i,vec in enumerate(del_mutation_df.values):\n",
    "        del_mutation_dict[del_mutation_df.index.values[i]] = del_mutation_df.columns[np.where(vec)[0]]"
   ]
  },
  {
   "cell_type": "markdown",
   "metadata": {},
   "source": [
    "## Calculate Programs"
   ]
  },
  {
   "cell_type": "code",
   "execution_count": 14,
   "metadata": {},
   "outputs": [
    {
     "name": "stderr",
     "output_type": "stream",
     "text": [
      "<ipython-input-14-28a67d9f2756>:15: RuntimeWarning: Mean of empty slice.\n",
      "  bulk_nmf_programs.append(bulk_X[:,bulk_nmf_gene_inds[i]].mean(1))\n",
      "/data/cb/alexwu/anaconda3/envs/py38/lib/python3.8/site-packages/numpy/core/_methods.py:181: RuntimeWarning: invalid value encountered in true_divide\n",
      "  ret = um.true_divide(\n"
     ]
    }
   ],
   "source": [
    "K = single_adata.varm['H_nmf_all'].shape[1]\n",
    "\n",
    "def calculate_bulk_programs(bulk_adata,nmf_genes):\n",
    "    \n",
    "    bulk_X = bulk_adata.X #.toarray()\n",
    "    bulk_gene_idx_dict = {g:i for i,g in enumerate(bulk_adata.var['gene_symbol'].values)}\n",
    "\n",
    "    bulk_nmf_gene_inds = {}\n",
    "    for i in range(len(nmf_genes)):\n",
    "        bulk_nmf_gene_inds[i] = [bulk_gene_idx_dict[g] for g in nmf_genes[i] if g in bulk_gene_idx_dict]\n",
    "\n",
    "    # calculate bulk program scores here\n",
    "    bulk_nmf_programs = []\n",
    "    for i in range(K):\n",
    "        bulk_nmf_programs.append(bulk_X[:,bulk_nmf_gene_inds[i]].mean(1))\n",
    "    bulk_nmf_programs = np.array(bulk_nmf_programs).T\n",
    "    bulk_nmf_programs[np.isnan(bulk_nmf_programs)] = 0\n",
    "    \n",
    "    return bulk_nmf_programs\n",
    "\n",
    "bulk_nmf_programs = calculate_bulk_programs(bulk_adata,nmf_genes)\n",
    "bulk_adata.obsm['X_programs'] = bulk_nmf_programs"
   ]
  },
  {
   "cell_type": "markdown",
   "metadata": {},
   "source": [
    "### Calculate Tumor-BAF KO Similarity"
   ]
  },
  {
   "cell_type": "code",
   "execution_count": 15,
   "metadata": {
    "scrolled": true
   },
   "outputs": [
    {
     "name": "stdout",
     "output_type": "stream",
     "text": [
      "0.665 0.005\n"
     ]
    }
   ],
   "source": [
    "from sklearn.preprocessing import normalize\n",
    "from scipy.special import softmax\n",
    "\n",
    "cond_list = sorted(list(set(single_adata.obs['condition'])))\n",
    "\n",
    "corr_mat = np.zeros((bulk_nmf_programs.shape[0],len(cond_list)))\n",
    "\n",
    "bulk_X = bulk_nmf_programs[:,nmf_inds2use]\n",
    "bulk_X = softmax(bulk_X,axis=1)\n",
    "\n",
    "for j,cond in enumerate(cond_list):\n",
    "#     rare_X = normalize(rare_bulk_nmf_programs[:,nmf_inds2use],norm='l1')\n",
    "    corr_mat[:,j] = classifiers_dict[cond].predict_proba(bulk_X)[:,1]\n",
    "    \n",
    "corr_mat = corr_mat.T\n",
    "print(corr_mat.max(),corr_mat.min())\n",
    "\n",
    "corr_df = pd.DataFrame(corr_mat,index=sorted(list(set(single_adata.obs['condition']))))"
   ]
  },
  {
   "cell_type": "markdown",
   "metadata": {},
   "source": [
    "### BAF Signatures"
   ]
  },
  {
   "cell_type": "code",
   "execution_count": 16,
   "metadata": {},
   "outputs": [],
   "source": [
    "cat1 = ['SMARCB1','SMARCA4','ARID1A','SMARCE1']\n",
    "cat2 = ['ARID2','BRD7','PBRM1']\n",
    "cat3 = ['BRD9','SMARCD1'] #,'GLTSCR1']\n",
    "cat4 = ['ACTL6A']\n",
    "\n",
    "cat_list = [cat1,cat2,cat3,cat4]\n",
    "cat_names = ['cBAF/core','PBAF','ncBAF','ACTL6A']"
   ]
  },
  {
   "cell_type": "code",
   "execution_count": 17,
   "metadata": {
    "scrolled": true
   },
   "outputs": [],
   "source": [
    "from collections import Counter\n",
    "\n",
    "filtered_mutation_df = mutation_df.copy().loc[list(bulk_adata.obs['case_id'])]\n",
    "\n",
    "cond_list = sorted(list(set(single_adata.obs['condition'])))"
   ]
  },
  {
   "cell_type": "markdown",
   "metadata": {},
   "source": [
    "#### cBAF"
   ]
  },
  {
   "cell_type": "code",
   "execution_count": 19,
   "metadata": {},
   "outputs": [],
   "source": [
    "cat1 = ['SMARCB1','SMARCA4','ARID1A','SMARCE1']\n",
    "cat2 = ['ARID2','BRD7','PBRM1']\n",
    "cat3 = ['BRD9','SMARCD1','GLTSCR1']\n",
    "cat4 = ['ACTL6A']\n",
    "\n",
    "cat_list = [cat1,cat2,cat3,cat4]\n",
    "cat_names = ['cBAF/core','PBAF','ncBAF','ACTL6A']"
   ]
  },
  {
   "cell_type": "code",
   "execution_count": null,
   "metadata": {},
   "outputs": [],
   "source": [
    "cbaf_mut_case_inds = np.where(filtered_mutation_df[cat1].values.sum(1))[0]\n",
    "no_cbaf_mut_case_inds = np.where(filtered_mutation_df.values.sum(1) == 0)[0]"
   ]
  },
  {
   "cell_type": "markdown",
   "metadata": {},
   "source": [
    "*Similarity Score*"
   ]
  },
  {
   "cell_type": "code",
   "execution_count": 21,
   "metadata": {},
   "outputs": [],
   "source": [
    "cbaf_mut_cossim = corr_df.iloc[:,cbaf_mut_case_inds].loc[cat1].values.mean(0)\n",
    "no_cbaf_mut_cossim = corr_df.iloc[:,no_cbaf_mut_case_inds].loc[cat1].values.mean(0)\n",
    "\n",
    "plot_df = pd.DataFrame({'mutations': ['cBAF-specific \\nmutation(s)']*len(cbaf_mut_cossim) \n",
    "                        + ['no BAF \\nmutation(s)']*len(no_cbaf_mut_cossim),\n",
    "                       'cossim': cbaf_mut_cossim.tolist() + no_cbaf_mut_cossim.tolist()})"
   ]
  },
  {
   "cell_type": "code",
   "execution_count": null,
   "metadata": {},
   "outputs": [],
   "source": [
    "from sklearn.metrics import roc_auc_score,average_precision_score,precision_recall_curve\n",
    "\n",
    "y_true = (plot_df['mutations'] == 'cBAF-specific \\nmutation(s)').astype(int)\n",
    "y_score = plot_df['cossim'].values"
   ]
  },
  {
   "cell_type": "code",
   "execution_count": 140,
   "metadata": {},
   "outputs": [
    {
     "data": {
      "image/png": "[encoded data removed]",
      "text/plain": [
       "<Figure size 288x288 with 1 Axes>"
      ]
     },
     "metadata": {
      "needs_background": "light"
     },
     "output_type": "display_data"
    }
   ],
   "source": [
    "from sklearn.metrics import roc_curve\n",
    "\n",
    "fpr, tpr, thresholds = roc_curve(y_true, y_score)\n",
    "\n",
    "plt.figure(figsize=(4,4))\n",
    "plt.plot(fpr,tpr,lw=4,c='orangered')\n",
    "plt.plot(np.linspace(0,1,100),np.linspace(0,1,100),lw=2,c='grey',linestyle='--')\n",
    "plt.xticks(fontsize=14)\n",
    "plt.yticks(fontsize=14)\n",
    "plt.xlabel('False positive rate',fontsize=16)\n",
    "plt.ylabel('True positive rate',fontsize=16)\n",
    "plt.xlim([0,1])\n",
    "plt.ylim([0,1])\n",
    "plt.show()"
   ]
  },
  {
   "cell_type": "code",
   "execution_count": null,
   "metadata": {},
   "outputs": [],
   "source": []
  },
  {
   "cell_type": "markdown",
   "metadata": {},
   "source": [
    "## BAF KO Similarity as Discovery Tool"
   ]
  },
  {
   "cell_type": "markdown",
   "metadata": {},
   "source": [
    "### Tumors Similar to BAF KO Conditions (by Complex)"
   ]
  },
  {
   "cell_type": "code",
   "execution_count": 23,
   "metadata": {},
   "outputs": [],
   "source": [
    "cat1 = ['SMARCA4','ARID1A','SMARCB1','SMARCE1']\n",
    "cat2 = ['ARID2','BRD7','PBRM1']\n",
    "\n",
    "cat3 = ['BRD9','SMARCD1']\n",
    "cat4 = ['ACTL6A']\n",
    "\n",
    "cat_list = [cat1,cat2,cat3,cat4]\n",
    "cat_names = ['cBAF/core','PBAF','ncBAF','ACTL6A']"
   ]
  },
  {
   "cell_type": "code",
   "execution_count": 24,
   "metadata": {},
   "outputs": [],
   "source": [
    "function_df = pd.read_csv('./general/GO_function_experimental_evidence_uniprot.txt',\n",
    "                          sep='\\t',header=None)\n",
    "\n",
    "gene_function_dict = {}\n",
    "for g,function in function_df[[1,4]].values:\n",
    "    if g not in gene_function_dict:\n",
    "        gene_function_dict[g] = []\n",
    "    gene_function_dict[g].append(function)\n",
    "gene_function_dict = {g: list(set(f)) for g,f in gene_function_dict.items()}"
   ]
  },
  {
   "cell_type": "code",
   "execution_count": 25,
   "metadata": {},
   "outputs": [],
   "source": [
    "data_dir = './data/human_tfs'\n",
    "\n",
    "human_tfs = pd.read_csv(os.path.join(data_dir,'Homo_sapiens_TF.txt'),sep='\\t')['Symbol'].values"
   ]
  },
  {
   "cell_type": "code",
   "execution_count": 26,
   "metadata": {
    "scrolled": true
   },
   "outputs": [
    {
     "name": "stdout",
     "output_type": "stream",
     "text": [
      "TCGA-LUSC\n",
      "TCGA-UCEC\n",
      "TCGA-READ\n",
      "TCGA-HNSC\n",
      "TCGA-PRAD\n",
      "TCGA-KIRC\n",
      "TCGA-KICH\n",
      "TCGA-COAD\n",
      "TCGA-LIHC\n",
      "TCGA-THCA\n",
      "TCGA-ESCA\n",
      "TCGA-STAD\n",
      "TCGA-LUAD\n",
      "TCGA-BLCA\n",
      "TCGA-KIRP\n",
      "TCGA-BRCA\n"
     ]
    }
   ],
   "source": [
    "data_dir = './data/cancer/maf_files/'\n",
    "\n",
    "barcode_specific_mutation_dict = {}\n",
    "\n",
    "# variant_types = []\n",
    "for project_id in list(set(bulk_adata.obs['project_id'])): #,'TCGA-KIRC','TCGA-COAD','TCGA-LIHC','TCGA-LUAD']:\n",
    "    print(project_id)\n",
    "    subdir = 'gdac.broadinstitute.org_{}.Mutation_Packager_Calls.Level_3.2016012800.0.0'.format(project_id.split('-')[1])\n",
    "\n",
    "    for barcode in bulk_adata[bulk_adata.obs['project_id'] == project_id].obs['barcode'].values:\n",
    "        barcode = barcode[:-1]\n",
    "        path = os.path.join(data_dir,subdir,'{}.maf.txt'.format(barcode))\n",
    "        if os.path.exists(path):        \n",
    "            df = pd.read_csv(path,sep='\\t')\n",
    "#             df = df[df['Variant_Classification'] != 'Silent']\n",
    "#             df = df[df['Variant_Classification'] != 'RNA']\n",
    "            barcode_specific_mutation_dict[barcode] = [(g,t) for g,t \n",
    "                                                       in df[['Hugo_Symbol','Variant_Classification']].values]\n"
   ]
  },
  {
   "cell_type": "code",
   "execution_count": 27,
   "metadata": {},
   "outputs": [],
   "source": [
    "from scipy.stats import hypergeom\n",
    "from scipy.stats import fisher_exact\n",
    "\n",
    "def calculate_enrichment(k,M,n,N):\n",
    "\n",
    "    table = np.array([[k,N-k],[n,M-n]])\n",
    "    p = fisher_exact(table,alternative='greater')[1]\n",
    "    \n",
    "    return p\n",
    "\n",
    "def get_mutation_enrichment(mutation_counts,verbose=False):\n",
    "\n",
    "    df_list = []\n",
    "    for (project_id,num_samples) in mutation_counts:\n",
    "\n",
    "        if num_samples >= 2:\n",
    "            # get tumors without BAF mutations (from project_id)\n",
    "            sample_bulk_adata = filtered_bulk_adata.copy()[filtered_bulk_adata.obs['project_id'] == project_id]\n",
    "            inds2keep = np.where(mutation_df.loc[sample_bulk_adata.obs['case_id']].values.sum(1) == 0)[0]\n",
    "            sample_bulk_adata = sample_bulk_adata[inds2keep]\n",
    "\n",
    "            mutations_list = []\n",
    "            for barcode in sample_bulk_adata.obs['barcode'].values:\n",
    "                if barcode[:-1] in barcode_mutation_dict:\n",
    "                    mutations_list.append(list(set(barcode_mutation_dict[barcode[:-1]])))\n",
    "\n",
    "            # background\n",
    "            bg_mutations_list = []\n",
    "            for barcode in bulk_adata[bulk_adata.obs['project_id'] == project_id].obs['barcode'].values:\n",
    "                if barcode[:-1] in barcode_mutation_dict:\n",
    "                    bg_mutations_list.append(list(set(barcode_mutation_dict[barcode[:-1]])))\n",
    "\n",
    "            N = len(mutations_list)\n",
    "            M = len(bg_mutations_list)\n",
    "\n",
    "            counts = Counter([g for gene_list in mutations_list for g in gene_list]) #.most_common()\n",
    "            bg_counts = Counter([g for gene_list in bg_mutations_list for g in gene_list])\n",
    "\n",
    "            gene_list = []\n",
    "            p_list = []\n",
    "            percent_list = []\n",
    "            percent_bg_list = []\n",
    "            count_list = []\n",
    "\n",
    "            for g,c in counts.items():\n",
    "                if c >= 2:\n",
    "                    k = c\n",
    "                    n = bg_counts[g]\n",
    "\n",
    "                    p = calculate_enrichment(k,M,n,N)\n",
    "\n",
    "                    p_list.append(p)\n",
    "                    gene_list.append(g)\n",
    "\n",
    "                    percent_list.append(k/N)\n",
    "                    percent_bg_list.append(n/M) \n",
    "                    count_list.append(c)\n",
    "\n",
    "            data_dict = {'gene': gene_list,'percent': percent_list,'counts': count_list,\n",
    "                         'percent_bg': percent_bg_list, 'p': p_list}\n",
    "            df = pd.DataFrame(data_dict)\n",
    "            df['project_id'] = project_id\n",
    "\n",
    "            df_list.append(df)\n",
    "\n",
    "    df = pd.concat(df_list)\n",
    "    \n",
    "    return df\n"
   ]
  },
  {
   "cell_type": "code",
   "execution_count": 28,
   "metadata": {
    "scrolled": false
   },
   "outputs": [
    {
     "name": "stdout",
     "output_type": "stream",
     "text": [
      "TCGA-LUSC\n",
      "TCGA-UCEC\n",
      "TCGA-READ\n",
      "TCGA-HNSC\n",
      "TCGA-PRAD\n",
      "TCGA-KIRC\n",
      "TCGA-KICH\n",
      "TCGA-COAD\n",
      "TCGA-LIHC\n",
      "TCGA-THCA\n",
      "TCGA-ESCA\n",
      "TCGA-STAD\n",
      "TCGA-LUAD\n",
      "TCGA-BLCA\n",
      "TCGA-KIRP\n",
      "TCGA-BRCA\n"
     ]
    }
   ],
   "source": [
    "mutation_type = 'all'\n",
    "barcode_mutation_dict = get_barcode_mutation_data(bulk_adata,mutations=mutation_type)"
   ]
  },
  {
   "cell_type": "markdown",
   "metadata": {},
   "source": [
    "### cBAF/core"
   ]
  },
  {
   "cell_type": "code",
   "execution_count": 29,
   "metadata": {},
   "outputs": [],
   "source": [
    "cbaf_scores = corr_df.loc[cat1].values.mean(0)\n",
    "cbaf_thresh = np.percentile(cbaf_scores,90)\n",
    "\n",
    "cbaf_mut_inds = set(np.where(mutation_df.loc[bulk_adata.obs['case_id'].values][cat1].values.sum(1))[0])\n",
    "no_mut_inds = set(np.where(mutation_df.loc[bulk_adata.obs['case_id'].values].values.sum(1) == 0)[0])\n",
    "\n",
    "case_inds = sorted(list(set(np.where(cbaf_scores > cbaf_thresh)[0]) & set(no_mut_inds)))"
   ]
  },
  {
   "cell_type": "code",
   "execution_count": 66,
   "metadata": {},
   "outputs": [
    {
     "data": {
      "image/png": "[encoded data removed]",
      "text/plain": [
       "<Figure size 180x252 with 1 Axes>"
      ]
     },
     "metadata": {
      "needs_background": "light"
     },
     "output_type": "display_data"
    }
   ],
   "source": [
    "plt.figure(figsize=(2.5,3.5))\n",
    "sns.histplot(cbaf_scores,bins=15,label='All tumors') #,ax=ax) #,norm_hist=False) #,bins=50)\n",
    "sns.histplot(cbaf_scores[list(cbaf_mut_inds)],color='orange',bins=15,label='cBAF-mutant tumors') #,ax=ax) #,norm_hist=False) #,bins=50)\n",
    "\n",
    "plt.axvline(x=cbaf_thresh,lw=3,color='black',linestyle='--')\n",
    "plt.xlabel('cBAF Loss Signature',fontsize=16)\n",
    "plt.ylabel('Count',fontsize=16)\n",
    "\n",
    "plt.xticks(fontsize=14)\n",
    "plt.yticks(fontsize=14)\n",
    "sns.despine()\n",
    "plt.legend(fontsize=14,bbox_to_anchor=(1,1),frameon=False,handlelength=0.8)\n",
    "plt.show()"
   ]
  },
  {
   "cell_type": "code",
   "execution_count": 31,
   "metadata": {
    "scrolled": true
   },
   "outputs": [
    {
     "name": "stdout",
     "output_type": "stream",
     "text": [
      "TCGA-COAD 20\n",
      "TCGA-LUAD 14\n",
      "TCGA-LUSC 11\n",
      "TCGA-BRCA 9\n",
      "TCGA-KIRP 5\n",
      "TCGA-READ 4\n",
      "TCGA-LIHC 2\n",
      "TCGA-BLCA 2\n",
      "TCGA-HNSC 1\n",
      "TCGA-KIRC 1\n",
      "TCGA-UCEC 1\n"
     ]
    }
   ],
   "source": [
    "filtered_bulk_adata = bulk_adata[case_inds]\n",
    "filtered_cases = filtered_bulk_adata.obs['case_id'].values\n",
    "\n",
    "cbaf_counts = Counter(filtered_bulk_adata.obs['project_id']).most_common()\n",
    "\n",
    "for n,count in cbaf_counts:\n",
    "    print(n,count)\n",
    "    "
   ]
  },
  {
   "cell_type": "code",
   "execution_count": 68,
   "metadata": {},
   "outputs": [
    {
     "data": {
      "image/png": "[encoded data removed]",
      "text/plain": [
       "<Figure size 396x288 with 1 Axes>"
      ]
     },
     "metadata": {
      "needs_background": "light"
     },
     "output_type": "display_data"
    }
   ],
   "source": [
    "counts_df = pd.DataFrame(cbaf_counts)\n",
    "counts_df.columns = ['class','n']\n",
    "counts_df['class'] = [n.split('-')[1] for n in counts_df['class'].values]\n",
    "\n",
    "plt.figure(figsize=(counts_df.shape[0]/2,4))\n",
    "sns.barplot(x='class',y='n',data=counts_df,color='navy')\n",
    "plt.xlabel('Tumor Type',fontsize=16)\n",
    "plt.ylabel('Number of Tumors',fontsize=16)\n",
    "plt.xticks(rotation=30)\n",
    "plt.show()"
   ]
  },
  {
   "cell_type": "markdown",
   "metadata": {},
   "source": [
    "#### By Project"
   ]
  },
  {
   "cell_type": "code",
   "execution_count": 32,
   "metadata": {
    "scrolled": true
   },
   "outputs": [],
   "source": [
    "df = get_mutation_enrichment(cbaf_counts)"
   ]
  },
  {
   "cell_type": "code",
   "execution_count": 33,
   "metadata": {
    "scrolled": true
   },
   "outputs": [
    {
     "name": "stdout",
     "output_type": "stream",
     "text": [
      "RAPGEF6\n",
      "CDH1\n",
      "TP53\n",
      "EHMT1\n",
      "MUC4\n",
      "CHD2\n",
      "KRAS\n",
      "COL12A1\n",
      "PIK3CA\n",
      "ZFHX4\n",
      "MUC16\n",
      "FAT3\n",
      "NAV3\n",
      "COL4A5\n",
      "APC\n",
      "DLG2\n",
      "PHLDB1\n",
      "MUC17\n",
      "DSEL\n",
      "TTN\n",
      "FBN1\n",
      "TECTA\n",
      "PLEKHA6\n",
      "LAMA1\n",
      "ACACB\n",
      "PCOLCE2\n",
      "PCDHB7\n",
      "NALCN\n",
      "KIF16B\n",
      "RYR2\n",
      "MYH2\n",
      "ACRC\n",
      "DNAH9\n",
      "DNAH5\n",
      "HOOK3\n",
      "GPRC6A\n",
      "CSMD3\n",
      "USP51\n",
      "ASB5\n",
      "RXRG\n",
      "KIAA2026\n",
      "ASXL3\n",
      "LRP1B\n",
      "CYP8B1\n",
      "KIF2B\n",
      "AP1B1\n",
      "ZNF804A\n",
      "MAGEA4\n",
      "CSMD1\n",
      "OR4M1\n",
      "NLRP12\n",
      "PABPC5\n",
      "FAT4\n",
      "TNXB\n",
      "LRFN5\n",
      "CPS1\n",
      "ODZ4\n",
      "KIAA1797\n",
      "IGSF22\n",
      "NAV2\n",
      "KCNH2\n",
      "PCNT\n",
      "Unknown\n",
      "CCDC33\n",
      "TNN\n",
      "COL11A1\n",
      "FOLH1\n",
      "TRPC5\n",
      "JPH2\n",
      "COL9A1\n",
      "MAPK8IP1\n",
      "INADL\n",
      "HCFC1\n",
      "ASTN1\n",
      "CLEC1A\n",
      "USP26\n",
      "CNGA4\n",
      "OR2M7\n",
      "ATXN3L\n",
      "OR5L1\n",
      "MOSPD2\n",
      "GPHB5\n",
      "CLCA4\n",
      "SLC12A5\n",
      "XRN1\n",
      "PXDNL\n",
      "NCAN\n",
      "ZP2\n",
      "ASTN2\n",
      "SIGLEC11\n",
      "PRDM9\n",
      "ADAMTS16\n",
      "DCAF4L2\n",
      "ATRNL1\n",
      "MTERFD1\n",
      "KLHL4\n",
      "PCDHA12\n",
      "PGR\n",
      "FAM154A\n",
      "PDCD11\n",
      "ANKRD30B\n",
      "SNAI2\n",
      "PSG8\n",
      "PTPRD\n",
      "C18orf34\n",
      "EHMT2\n",
      "NOX4\n",
      "NBEA\n",
      "HK1\n",
      "ZNF718\n",
      "MTMR10\n",
      "EPHA5\n",
      "USH2A\n",
      "RBM10\n",
      "DAB1\n",
      "INTS2\n",
      "SMYD4\n",
      "MAGEC1\n",
      "OBSCN\n",
      "CRNN\n",
      "FLNA\n",
      "INSRR\n",
      "DSC3\n",
      "TLL1\n",
      "CLEC16A\n",
      "TEX13B\n",
      "KCNA1\n",
      "ATRX\n",
      "PTGDR\n",
      "FAM75C1\n",
      "C9orf79\n",
      "C9orf84\n",
      "OR4N2\n",
      "CDH12\n",
      "KIAA1409\n",
      "ANKRD30A\n",
      "SRRT\n",
      "DDI1\n",
      "EIF2C2\n",
      "SCN3A\n",
      "XIRP2\n",
      "CREBBP\n",
      "KRT80\n",
      "PLCB1\n",
      "NFYC\n",
      "CHL1\n",
      "TRPS1\n",
      "PLCL1\n",
      "PCDH10\n",
      "ZNF99\n",
      "RNF17\n",
      "DYNC1H1\n",
      "CARD11\n",
      "EMR2\n",
      "SI\n",
      "NTRK1\n",
      "CCDC88A\n",
      "HCN1\n",
      "SLIT2\n",
      "NTRK3\n",
      "TRIM67\n",
      "OR6N2\n",
      "FLG2\n",
      "GABRG3\n",
      "LRPPRC\n",
      "PLXNA4\n",
      "FAM47C\n",
      "ZNF521\n",
      "SYNE1\n",
      "ELTD1\n",
      "DIS3\n",
      "ME3\n",
      "FRG1B\n",
      "SLC17A6\n",
      "CHRNA1\n",
      "DGKK\n",
      "FRMPD1\n",
      "BRWD3\n",
      "KIF1A\n",
      "TMPRSS15\n",
      "SORCS3\n",
      "ZNF804B\n",
      "ACTRT2\n",
      "OR9A4\n",
      "NF1\n",
      "TRIM22\n",
      "CSMD2\n",
      "FAM123C\n",
      "NETO1\n",
      "TAS1R2\n",
      "IL18RAP\n",
      "OR52N2\n",
      "HEATR1\n",
      "NFAT5\n",
      "CDH10\n",
      "PSG3\n",
      "TAF4\n",
      "C7orf51\n",
      "NLRP4\n",
      "EXTL3\n",
      "CACNA1E\n",
      "FNIP1\n",
      "EGFR\n",
      "ZNF423\n",
      "CKAP2L\n",
      "CNTN4\n",
      "ZNF813\n",
      "ITGA8\n",
      "OVCH1\n",
      "PIK3C2B\n",
      "SSPO\n",
      "F13B\n",
      "DST\n",
      "C3orf63\n",
      "LOC96610\n",
      "HERC2\n",
      "PTEN\n",
      "AIM1\n",
      "ADAMTS12\n",
      "PMFBP1\n",
      "LRRK1\n",
      "RYR3\n",
      "DGKA\n",
      "SCRIB\n",
      "ZNF3\n",
      "MYH8\n",
      "HGF\n",
      "TAF1L\n",
      "ZNF20\n",
      "SCN10A\n",
      "ENTHD1\n",
      "CACNA1I\n",
      "AFF2\n",
      "ADAM6\n",
      "STK33\n",
      "NTM\n",
      "MAGEA6\n",
      "SMR3A\n",
      "ATG2B\n",
      "SERPINA7\n",
      "MACF1\n",
      "PDHA1\n",
      "RALGAPA2\n"
     ]
    }
   ],
   "source": [
    "from statsmodels.stats.multitest import fdrcorrection #multipletests\n",
    "\n",
    "thresh = 0.1\n",
    "all_genes = {}\n",
    "all_sig_genes = []\n",
    "\n",
    "all_group_df = []\n",
    "for n,group_df in df.groupby('project_id'):\n",
    "    reject,pvals_corrected = fdrcorrection(group_df['p'].values)\n",
    "    group_df['q'] = pvals_corrected\n",
    "    all_group_df.append(group_df)\n",
    "    \n",
    "    enriched_genes = group_df[group_df['q'] < thresh]['gene'].values\n",
    "    all_sig_genes.extend(enriched_genes)\n",
    "    for g,q in group_df[['gene','q']].values:\n",
    "        if g in all_genes:\n",
    "            if q < all_genes[g]:\n",
    "                all_genes[g] = q\n",
    "        else:\n",
    "            all_genes[g] = q\n",
    "\n",
    "all_group_df = pd.concat(all_group_df)\n",
    "\n",
    "for g in all_genes.keys():\n",
    "    print(g)"
   ]
  },
  {
   "cell_type": "code",
   "execution_count": 35,
   "metadata": {
    "scrolled": true
   },
   "outputs": [],
   "source": [
    "np.random.seed(1)\n",
    "\n",
    "n_genes = 50\n",
    "\n",
    "data_dict = {k: [] for k in ['gene','q']}\n",
    "for g,q in all_genes.items():\n",
    "    data_dict['gene'].append(g)\n",
    "    data_dict['q'].append(q)\n",
    "enrich_df = pd.DataFrame(data_dict)\n",
    "enrich_df.index = enrich_df['gene'].values\n",
    "enrich_df = enrich_df[enrich_df['q'] < 0.1]\n",
    "enrich_df['-log10q'] = -np.log10(enrich_df['q'])\n",
    "enrich_df = enrich_df.sort_values('q')\n",
    "\n",
    "# add functions\n",
    "terms2keep = ['transcription factor','kinase activity','phosphatase activity',\n",
    "              'GTPase binding','GTPase activity','RNA binding','protein binding','methyltransferase']\n",
    "\n",
    "function_list = []\n",
    "for i,g in enumerate(enrich_df['gene'].values):\n",
    "    gene_function_list = []\n",
    "    if g in gene_function_dict:\n",
    "#         print(g,gene_function_dict[g])\n",
    "        for j,function_term in enumerate(terms2keep):\n",
    "            for gene_function in gene_function_dict[g]:\n",
    "                if function_term in gene_function:\n",
    "                    gene_function_list.append(function_term)\n",
    "    if g in human_tfs:\n",
    "        gene_function_list.append('transcription factor')\n",
    "    gene_function = ';'.join(sorted(list(set(gene_function_list))))\n",
    "    function_list.append(gene_function)\n",
    "enrich_df['annotated_functions'] = function_list"
   ]
  },
  {
   "cell_type": "code",
   "execution_count": 34,
   "metadata": {
    "scrolled": true
   },
   "outputs": [
    {
     "data": {
      "image/png": "[encoded data removed]",
      "text/plain": [
       "<Figure size 36x180 with 1 Axes>"
      ]
     },
     "metadata": {
      "needs_background": "light"
     },
     "output_type": "display_data"
    },
    {
     "data": {
      "image/png": "[encoded data removed]",
      "text/plain": [
       "<Figure size 36x180 with 1 Axes>"
      ]
     },
     "metadata": {
      "needs_background": "light"
     },
     "output_type": "display_data"
    },
    {
     "data": {
      "image/png": "[encoded data removed]",
      "text/plain": [
       "<Figure size 36x180 with 1 Axes>"
      ]
     },
     "metadata": {
      "needs_background": "light"
     },
     "output_type": "display_data"
    },
    {
     "data": {
      "image/png": "[encoded data removed]",
      "text/plain": [
       "<Figure size 36x180 with 1 Axes>"
      ]
     },
     "metadata": {
      "needs_background": "light"
     },
     "output_type": "display_data"
    },
    {
     "data": {
      "image/png": "[encoded data removed]",
      "text/plain": [
       "<Figure size 36x180 with 1 Axes>"
      ]
     },
     "metadata": {
      "needs_background": "light"
     },
     "output_type": "display_data"
    }
   ],
   "source": [
    "for i in range(0,n_genes,10):\n",
    "    fg = plt.figure(figsize=(0.5,10/4)) \n",
    "    sns.heatmap(enrich_df[['-log10q']].iloc[i:i+10],vmin=0,vmax=3,\n",
    "                xticklabels=False,cmap='viridis',cbar=False,linewidth=0.005) #,cbar_kws={'shrink': 2})\n",
    "    plt.show()"
   ]
  },
  {
   "cell_type": "code",
   "execution_count": 38,
   "metadata": {},
   "outputs": [],
   "source": [
    "mutation_types = sorted(list(set([v[1] for mut_list in barcode_specific_mutation_dict.values() \n",
    "                                  for v in mut_list])))\n",
    "\n",
    "sorted_genes = sorted(list(set(enrich_df['gene'].values)))\n",
    "mut_freq_df = pd.DataFrame(np.zeros((len(sorted_genes),len(mutation_types))),\n",
    "                           index=sorted_genes,columns=mutation_types)\n",
    "\n",
    "filtered_barcode_set = set([n[:-1] for n in filtered_bulk_adata.obs['barcode'].values])\n",
    "for barcode,mut_list in barcode_specific_mutation_dict.items():\n",
    "    if barcode in filtered_barcode_set:\n",
    "        for gene,mut_type in mut_list:\n",
    "            if gene in mut_freq_df.index.values:\n",
    "                mut_freq_df.at[gene,mut_type] = mut_freq_df.loc[gene][mut_type] + 1\n",
    "            \n",
    "mut_freq_df = mut_freq_df.div(mut_freq_df.sum(1),axis=0)\n",
    "\n",
    "mut_freq_df.columns = [' '.join(n.split('_')) for n in mut_freq_df.columns]\n",
    "\n",
    "mut_types2keep = ['Frame Shift Del', 'In Frame Del', 'In Frame Ins', \n",
    "                  'Missense Mutation','Nonsense Mutation', 'Splice Site', 'Silent']\n",
    "mut_freq_df = mut_freq_df[mut_types2keep]\n",
    "mut_freq_df.columns = ['FSD','IFD','IFI','MSM','NSM','SSM','SIL']\n",
    "\n",
    "# write all mutation frequency data to file\n",
    "mut_freq_df = mut_freq_df.loc[enrich_df['gene']]\n",
    "mut_freq_df.insert(0,'Gene',mut_freq_df.index.values)\n",
    "# mut_freq_df.to_csv(os.path.join(save_dir,'cBAF.enriched_genes.mutations.tsv'),sep='\\t',index=False)"
   ]
  },
  {
   "cell_type": "code",
   "execution_count": 43,
   "metadata": {},
   "outputs": [
    {
     "name": "stdout",
     "output_type": "stream",
     "text": [
      "Frequency of Mutation Types in Enriched Genes\n"
     ]
    },
    {
     "data": {
      "text/plain": [
       "3'UTR                       0.000000\n",
       "5'Flank                     0.000000\n",
       "5'UTR                       0.000000\n",
       "De_novo_Start_InFrame       0.000000\n",
       "De_novo_Start_OutOfFrame    0.000000\n",
       "Frame_Shift_Del             0.013645\n",
       "Frame_Shift_Ins             0.003899\n",
       "IGR                         0.000000\n",
       "In_Frame_Del                0.001949\n",
       "In_Frame_Ins                0.000000\n",
       "Intron                      0.000000\n",
       "Missense_Mutation           0.674464\n",
       "Nonsense_Mutation           0.044834\n",
       "Nonstop_Mutation            0.000000\n",
       "RNA                         0.009747\n",
       "Read-through                0.000000\n",
       "Silent                      0.235867\n",
       "Splice_Site                 0.015595\n",
       "Targeted_Region             0.000000\n",
       "Translation_Start_Site      0.000000\n",
       "dtype: float64"
      ]
     },
     "execution_count": 43,
     "metadata": {},
     "output_type": "execute_result"
    }
   ],
   "source": [
    "print('Frequency of Mutation Types in Enriched Genes')\n",
    "mut_freq_df.sum(0)/mut_freq_df.values.sum()"
   ]
  },
  {
   "cell_type": "code",
   "execution_count": 78,
   "metadata": {
    "scrolled": true
   },
   "outputs": [
    {
     "data": {
      "image/png": "[encoded data removed]",
      "text/plain": [
       "<Figure size 151.2x180 with 1 Axes>"
      ]
     },
     "metadata": {
      "needs_background": "light"
     },
     "output_type": "display_data"
    },
    {
     "data": {
      "image/png": "[encoded data removed]",
      "text/plain": [
       "<Figure size 151.2x180 with 1 Axes>"
      ]
     },
     "metadata": {
      "needs_background": "light"
     },
     "output_type": "display_data"
    },
    {
     "data": {
      "image/png": "[encoded data removed]",
      "text/plain": [
       "<Figure size 151.2x180 with 1 Axes>"
      ]
     },
     "metadata": {
      "needs_background": "light"
     },
     "output_type": "display_data"
    },
    {
     "data": {
      "image/png": "[encoded data removed]",
      "text/plain": [
       "<Figure size 151.2x180 with 1 Axes>"
      ]
     },
     "metadata": {
      "needs_background": "light"
     },
     "output_type": "display_data"
    },
    {
     "data": {
      "image/png": "[encoded data removed]",
      "text/plain": [
       "<Figure size 151.2x180 with 1 Axes>"
      ]
     },
     "metadata": {
      "needs_background": "light"
     },
     "output_type": "display_data"
    }
   ],
   "source": [
    "mut_freq_df = mut_freq_df.loc[enrich_df['gene']]\n",
    "mut_freq_df = mut_freq_df.iloc[:,np.where(mut_freq_df.values.sum(0))[0]]\n",
    "\n",
    "for i in range(0,n_genes,10):\n",
    "    fg = plt.figure(figsize=(0.3*mut_freq_df.shape[1],10/4)) \n",
    "    sns.heatmap(mut_freq_df.iloc[i:i+10,1:],\n",
    "                linewidths=0.005,\n",
    "                yticklabels=True,cbar=False,cmap='Greens',vmin=-0.05,cbar_kws={\"shrink\": 2})\n",
    "    plt.xticks(rotation=90,fontsize=10)\n",
    "    plt.savefig(os.path.join(save_dir,'cBAF.{}.mutation_types.png'.format(i)), dpi=500, bbox_inches = \"tight\")\n",
    "    plt.show()"
   ]
  },
  {
   "cell_type": "code",
   "execution_count": 48,
   "metadata": {
    "scrolled": true
   },
   "outputs": [
    {
     "data": {
      "image/png": "[encoded data removed]",
      "text/plain": [
       "<Figure size 72x180 with 1 Axes>"
      ]
     },
     "metadata": {
      "needs_background": "light"
     },
     "output_type": "display_data"
    },
    {
     "data": {
      "image/png": "[encoded data removed]",
      "text/plain": [
       "<Figure size 72x180 with 1 Axes>"
      ]
     },
     "metadata": {
      "needs_background": "light"
     },
     "output_type": "display_data"
    },
    {
     "data": {
      "image/png": "[encoded data removed]",
      "text/plain": [
       "<Figure size 72x180 with 1 Axes>"
      ]
     },
     "metadata": {
      "needs_background": "light"
     },
     "output_type": "display_data"
    },
    {
     "data": {
      "image/png": "[encoded data removed]",
      "text/plain": [
       "<Figure size 72x180 with 1 Axes>"
      ]
     },
     "metadata": {
      "needs_background": "light"
     },
     "output_type": "display_data"
    },
    {
     "data": {
      "image/png": "[encoded data removed]",
      "text/plain": [
       "<Figure size 72x180 with 1 Axes>"
      ]
     },
     "metadata": {
      "needs_background": "light"
     },
     "output_type": "display_data"
    }
   ],
   "source": [
    "terms2keep = ['transcription factor','kinase activity','phosphatase activity','GTPase binding','RNA binding']\n",
    "\n",
    "function_mat = np.zeros((enrich_df.shape[0],len(terms2keep)))\n",
    "for i,g in enumerate(enrich_df['gene'].values):\n",
    "    if g in gene_function_dict:\n",
    "        for j,function_term in enumerate(terms2keep):\n",
    "            for gene_function in gene_function_dict[g]:\n",
    "                if function_term in gene_function:\n",
    "                    function_mat[i,j] = 1\n",
    "    if g in human_tfs:\n",
    "        function_mat[i,0] = 1\n",
    "\n",
    "#     else:\n",
    "#         function_mat[i] = 0.5\n",
    "# #         print('-',g,'-----',gene_function_dict[g])\n",
    "\n",
    "function_df = pd.DataFrame(function_mat,index=enrich_df['gene'].values,\n",
    "                           columns=['TF','Kinase','Phosph','GTPase','RNAbind'])\n",
    "\n",
    "function_df = function_df.iloc[:,np.where(function_df.values.sum(0))[0]]\n",
    "for i in range(0,n_genes,10):\n",
    "    fg = plt.figure(figsize=(1.,10/4)) \n",
    "    sns.heatmap(function_df.iloc[i:i+10],cbar=False,cmap='Blues',\n",
    "                yticklabels=False,linewidths=0.005,vmin=-0.1)\n",
    "\n",
    "#     plt.savefig(os.path.join(save_dir,'cBAF.{}.function.png'.format(i)), dpi=500, bbox_inches = \"tight\")\n",
    "    plt.show()"
   ]
  },
  {
   "cell_type": "markdown",
   "metadata": {},
   "source": [
    "#### Group by Function"
   ]
  },
  {
   "cell_type": "code",
   "execution_count": 79,
   "metadata": {},
   "outputs": [],
   "source": [
    "terms2keep = ['transcription factor','kinase activity','phosphatase activity','GTPase binding',\n",
    "              'RNA binding','methyltransferase']\n",
    "\n",
    "\n",
    "function_mat = np.zeros((enrich_df.shape[0],len(terms2keep)))\n",
    "for i,g in enumerate(enrich_df['gene'].values):\n",
    "    if g in gene_function_dict:\n",
    "        for j,function_term in enumerate(terms2keep):\n",
    "            for gene_function in gene_function_dict[g]:\n",
    "                if function_term in gene_function:\n",
    "                    function_mat[i,j] = 1\n",
    "    if g in human_tfs:\n",
    "        function_mat[i,0] = 1\n",
    "function_df = pd.DataFrame(function_mat,index=enrich_df['gene'].values, #columns=terms2keep) \n",
    "                           columns=['TF','Kinase','Phosph','GTPase','RNAbind','MTase'])\n",
    "function_df = function_df.iloc[function_df.values.sum(1) > 0]"
   ]
  },
  {
   "cell_type": "code",
   "execution_count": 82,
   "metadata": {
    "scrolled": true
   },
   "outputs": [
    {
     "data": {
      "image/png": "[encoded data removed]",
      "text/plain": [
       "<Figure size 108x324 with 1 Axes>"
      ]
     },
     "metadata": {
      "needs_background": "light"
     },
     "output_type": "display_data"
    },
    {
     "data": {
      "image/png": "[encoded data removed]",
      "text/plain": [
       "<Figure size 108x108 with 1 Axes>"
      ]
     },
     "metadata": {
      "needs_background": "light"
     },
     "output_type": "display_data"
    },
    {
     "data": {
      "image/png": "[encoded data removed]",
      "text/plain": [
       "<Figure size 108x21.6 with 1 Axes>"
      ]
     },
     "metadata": {
      "needs_background": "light"
     },
     "output_type": "display_data"
    },
    {
     "data": {
      "image/png": "[encoded data removed]",
      "text/plain": [
       "<Figure size 108x43.2 with 1 Axes>"
      ]
     },
     "metadata": {
      "needs_background": "light"
     },
     "output_type": "display_data"
    },
    {
     "data": {
      "image/png": "[encoded data removed]",
      "text/plain": [
       "<Figure size 108x194.4 with 1 Axes>"
      ]
     },
     "metadata": {
      "needs_background": "light"
     },
     "output_type": "display_data"
    },
    {
     "data": {
      "image/png": "[encoded data removed]",
      "text/plain": [
       "<Figure size 108x43.2 with 1 Axes>"
      ]
     },
     "metadata": {
      "needs_background": "light"
     },
     "output_type": "display_data"
    }
   ],
   "source": [
    "mutation_types = sorted(list(set([v[1] for mut_list in barcode_specific_mutation_dict.values() \n",
    "                                  for v in mut_list])))\n",
    "\n",
    "sorted_genes = sorted(list(set(enrich_df['gene'].values)))\n",
    "mut_freq_df = pd.DataFrame(np.zeros((len(sorted_genes),len(mutation_types))),\n",
    "                           index=sorted_genes,columns=mutation_types)\n",
    "\n",
    "filtered_barcode_set = set([n[:-1] for n in filtered_bulk_adata.obs['barcode'].values])\n",
    "for barcode,mut_list in barcode_specific_mutation_dict.items():\n",
    "    if barcode in filtered_barcode_set:\n",
    "        for gene,mut_type in mut_list:\n",
    "            if gene in mut_freq_df.index.values:\n",
    "                mut_freq_df.at[gene,mut_type] = mut_freq_df.loc[gene][mut_type] + 1\n",
    "            \n",
    "mut_freq_df = mut_freq_df.div(mut_freq_df.sum(1),axis=0)\n",
    "\n",
    "mut_freq_df.columns = [' '.join(n.split('_')) for n in mut_freq_df.columns]\n",
    "\n",
    "mut_types2keep = ['Frame Shift Del', 'In Frame Del', 'In Frame Ins', \n",
    "                  'Missense Mutation','Nonsense Mutation', 'Splice Site', 'Silent']\n",
    "mut_freq_df = mut_freq_df[mut_types2keep]\n",
    "mut_freq_df.columns = ['FSD','IFD','IFI','MSM','NSM','SSM','SIL']\n",
    "\n",
    "mut_freq_df = mut_freq_df.loc[function_df.index.values]\n",
    "mut_freq_df = mut_freq_df.iloc[:,np.where(mut_freq_df.values.sum(0))[0]]\n",
    "\n",
    "for function in function_df.columns:\n",
    "    inds = np.where(function_df[function])[0]\n",
    "    if len(inds):\n",
    "        fg = plt.figure(figsize=(0.3*mut_freq_df.shape[1],0.3*len(inds))) \n",
    "        sns.heatmap(mut_freq_df.iloc[inds],\n",
    "                    linewidths=0.005,\n",
    "                    yticklabels=True,cbar=False,cmap='Greens',vmin=-0.05,vmax=1,cbar_kws={\"shrink\": 2})\n",
    "        plt.xticks(rotation=90,fontsize=10)\n",
    "        plt.show()"
   ]
  },
  {
   "cell_type": "code",
   "execution_count": 83,
   "metadata": {
    "scrolled": true
   },
   "outputs": [
    {
     "name": "stdout",
     "output_type": "stream",
     "text": [
      "TF\n"
     ]
    },
    {
     "data": {
      "image/png": "[encoded data removed]",
      "text/plain": [
       "<Figure size 21.6x324 with 1 Axes>"
      ]
     },
     "metadata": {
      "needs_background": "light"
     },
     "output_type": "display_data"
    },
    {
     "name": "stdout",
     "output_type": "stream",
     "text": [
      "Kinase\n"
     ]
    },
    {
     "data": {
      "image/png": "[encoded data removed]",
      "text/plain": [
       "<Figure size 21.6x108 with 1 Axes>"
      ]
     },
     "metadata": {
      "needs_background": "light"
     },
     "output_type": "display_data"
    },
    {
     "name": "stdout",
     "output_type": "stream",
     "text": [
      "Phosph\n"
     ]
    },
    {
     "data": {
      "image/png": "[encoded data removed]",
      "text/plain": [
       "<Figure size 21.6x21.6 with 1 Axes>"
      ]
     },
     "metadata": {
      "needs_background": "light"
     },
     "output_type": "display_data"
    },
    {
     "name": "stdout",
     "output_type": "stream",
     "text": [
      "GTPase\n"
     ]
    },
    {
     "data": {
      "image/png": "[encoded data removed]",
      "text/plain": [
       "<Figure size 21.6x43.2 with 1 Axes>"
      ]
     },
     "metadata": {
      "needs_background": "light"
     },
     "output_type": "display_data"
    },
    {
     "name": "stdout",
     "output_type": "stream",
     "text": [
      "RNAbind\n"
     ]
    },
    {
     "data": {
      "image/png": "[encoded data removed]",
      "text/plain": [
       "<Figure size 21.6x194.4 with 1 Axes>"
      ]
     },
     "metadata": {
      "needs_background": "light"
     },
     "output_type": "display_data"
    },
    {
     "name": "stdout",
     "output_type": "stream",
     "text": [
      "MTase\n"
     ]
    },
    {
     "data": {
      "image/png": "[encoded data removed]",
      "text/plain": [
       "<Figure size 21.6x43.2 with 1 Axes>"
      ]
     },
     "metadata": {
      "needs_background": "light"
     },
     "output_type": "display_data"
    }
   ],
   "source": [
    "for function in function_df.columns:\n",
    "    print(function)\n",
    "    genes = function_df.index.values[np.where(function_df[function])[0]]\n",
    "    if not os.path.exists(os.path.join(save_dir,'cBAF.{}.enrich_q.png'.format(function))):\n",
    "        fg = plt.figure(figsize=(0.3,0.3*len(genes))) \n",
    "        sns.heatmap(enrich_df[['-log10q']].loc[genes],vmin=1,vmax=2.1,\n",
    "                    xticklabels=False,cmap='viridis',cbar=False,linewidth=0.005) #,cbar_kws={'shrink': 2})\n",
    "        plt.show()"
   ]
  },
  {
   "cell_type": "markdown",
   "metadata": {},
   "source": [
    "#### Background Mutations (all in bulk_adata)"
   ]
  },
  {
   "cell_type": "code",
   "execution_count": 39,
   "metadata": {},
   "outputs": [],
   "source": [
    "mutation_types = sorted(list(set([v[1] for mut_list in barcode_specific_mutation_dict.values() \n",
    "                                  for v in mut_list])))\n",
    "\n",
    "sorted_genes = sorted(list(set(enrich_df['gene'].values)))\n",
    "mut_freq_df = pd.DataFrame(np.zeros((len(sorted_genes),len(mutation_types))),\n",
    "                           index=sorted_genes,columns=mutation_types)\n",
    "\n",
    "# filtered_barcode_set = set([n[:-1] for n in filtered_bulk_adata.obs['barcode'].values])\n",
    "for barcode,mut_list in barcode_specific_mutation_dict.items():\n",
    "    for gene,mut_type in mut_list:\n",
    "        if gene in mut_freq_df.index.values:\n",
    "            mut_freq_df.at[gene,mut_type] = mut_freq_df.loc[gene][mut_type] + 1\n",
    "\n",
    "mut_freq_df = mut_freq_df.div(mut_freq_df.sum(1),axis=0)\n",
    "\n",
    "mut_freq_df.columns = [' '.join(n.split('_')) for n in mut_freq_df.columns]\n",
    "mut_freq_df.insert(0,'Gene',mut_freq_df.index.values)\n",
    "\n",
    "mut_freq_df = mut_freq_df.loc[enrich_df['gene']]\n",
    "mut_freq_df = mut_freq_df.iloc[:,np.where(mut_freq_df.values.sum(0))[0]]\n",
    "\n",
    "mut_freq_df.to_csv(os.path.join(save_dir,'cBAF.mutation_types.background.tsv'),index=False,sep='\\t')"
   ]
  },
  {
   "cell_type": "markdown",
   "metadata": {},
   "source": [
    "#### Differential Expression (All Genes)"
   ]
  },
  {
   "cell_type": "code",
   "execution_count": 37,
   "metadata": {},
   "outputs": [
    {
     "name": "stdout",
     "output_type": "stream",
     "text": [
      "20 109\n",
      "14 76\n",
      "11 30\n",
      "9 231\n",
      "5 164\n",
      "4 42\n",
      "2 82\n",
      "2 46\n"
     ]
    }
   ],
   "source": [
    "from scipy.stats import ttest_ind,ranksums\n",
    "from statsmodels.stats.multitest import fdrcorrection\n",
    "\n",
    "gene_inds2keep = [i for i,n in enumerate(bulk_adata.var['gene_symbol'].values) if len(n)]\n",
    "genes2keep = bulk_adata.var['gene_symbol'].values[gene_inds2keep]\n",
    "\n",
    "de_genes_dict = {}\n",
    "for (project_id,num_samples) in cbaf_counts:\n",
    "    \n",
    "    # BAF-like tumors (w/o BAF mutations)\n",
    "    sample_bulk_adata = filtered_bulk_adata.copy()[filtered_bulk_adata.obs['project_id'] == project_id]\n",
    "    sample_inds2keep = np.where(mutation_df.loc[sample_bulk_adata.obs['case_id']].values.sum(1) == 0)[0]\n",
    "    sample_bulk_adata = sample_bulk_adata[sample_inds2keep]\n",
    "    \n",
    "    if sample_bulk_adata.shape[0] >= 2:\n",
    "        \n",
    "        # background (no BAF mutations)\n",
    "        bg_bulk_adata = bulk_adata[bulk_adata.obs['project_id'] == project_id]\n",
    "        inds2keep = np.where(mutation_df.loc[bg_bulk_adata.obs['case_id']].values.sum(1) == 0)[0]\n",
    "        bg_bulk_adata = bg_bulk_adata[inds2keep]\n",
    "        \n",
    "        print(sample_bulk_adata.shape[0],bg_bulk_adata.shape[0])\n",
    "        \n",
    "        # retain genes of interest\n",
    "        sample_X = sample_bulk_adata.raw.X[:,gene_inds2keep]\n",
    "        bg_X = bg_bulk_adata.raw.X[:,gene_inds2keep]\n",
    "        \n",
    "        t,p = ttest_ind(sample_X,bg_X,equal_var=False,axis=0)\n",
    "        \n",
    "        # remove nan genes\n",
    "        inds2keep = ~np.isnan(p)\n",
    "        reject,q = fdrcorrection(p[inds2keep])\n",
    "        \n",
    "        fc = sample_X[:,inds2keep].mean(0)/bg_X[:,inds2keep].mean(0)\n",
    "          \n",
    "        de_genes_dict[project_id] = {g: (fc,q) for g,fc,q in zip(*[genes2keep[inds2keep],fc,q])}"
   ]
  },
  {
   "cell_type": "code",
   "execution_count": 38,
   "metadata": {},
   "outputs": [],
   "source": [
    "thresh = 0.05\n",
    "\n",
    "up_genes_sets = []\n",
    "down_genes_sets = []\n",
    "\n",
    "for project_id,results_dict in de_genes_dict.items():\n",
    "    \n",
    "    up_genes_sets.extend([g for g,(fc,q) in results_dict.items() if q < thresh and fc > 1])\n",
    "    down_genes_sets.extend([g for g,(fc,q) in results_dict.items() if q < thresh and fc < 1])\n",
    "    \n",
    "down_genes = Counter(down_genes_sets)\n",
    "up_genes = Counter(up_genes_sets)\n"
   ]
  },
  {
   "cell_type": "markdown",
   "metadata": {},
   "source": [
    "## LISA Results\n",
    "### cBAF"
   ]
  },
  {
   "cell_type": "code",
   "execution_count": 96,
   "metadata": {
    "scrolled": true
   },
   "outputs": [
    {
     "data": {
      "image/png": "[encoded data removed]",
      "text/plain": [
       "<Figure size 360x180 with 1 Axes>"
      ]
     },
     "metadata": {
      "needs_background": "light"
     },
     "output_type": "display_data"
    }
   ],
   "source": [
    "data_dir = './results/cancer/baflike_de_genes'\n",
    "\n",
    "lisa_df = pd.read_csv(os.path.join(data_dir,'cBAFlike.lisa.csv'))\n",
    "\n",
    "plt.figure(figsize=(5,2.5))\n",
    "plt.scatter(np.arange(lisa_df.shape[0]),-np.log10(lisa_df['1st Sample p-value']),s=2)\n",
    "plt.scatter([2,3,98],[-np.log10(lisa_df['1st Sample p-value'].values[[2,3,98]])],c='red',s=2)\n",
    "plt.xlabel('TF Ranks',fontsize=16)\n",
    "plt.ylabel(r'$-\\log_{10}(p)$',fontsize=16)\n",
    "\n",
    "sns.despine(right = True, top = True)\n",
    "plt.xticks(fontsize=14)\n",
    "plt.yticks(fontsize=14)\n",
    "plt.show()"
   ]
  },
  {
   "cell_type": "code",
   "execution_count": 97,
   "metadata": {},
   "outputs": [],
   "source": [
    "tf_up_genes = []\n",
    "for k,v in sorted(up_genes.items(), key=lambda x:x[1],reverse=True):\n",
    "    if k in lisa_df['Transcription Factor'].values: #.values[0:100]:\n",
    "        tf_up_genes.append(k)"
   ]
  },
  {
   "cell_type": "code",
   "execution_count": 98,
   "metadata": {
    "scrolled": true
   },
   "outputs": [],
   "source": [
    "tf_down_genes = []\n",
    "for k,v in sorted(down_genes.items(), key=lambda x:x[1],reverse=True):\n",
    "    if k in lisa_df['Transcription Factor'].values: #.values[0:100]:\n",
    "        tf_down_genes.append(k)"
   ]
  },
  {
   "cell_type": "code",
   "execution_count": 99,
   "metadata": {},
   "outputs": [],
   "source": [
    "tf_direction = []\n",
    "for i,tf in enumerate(lisa_df['Transcription Factor'].values):\n",
    "    if tf in down_genes and tf not in up_genes:\n",
    "        tf_direction.append('down')\n",
    "    elif tf in up_genes and tf not in down_genes:\n",
    "        tf_direction.append('up')\n",
    "    elif tf in up_genes and tf in down_genes:\n",
    "        tf_direction.append('both')\n",
    "    else:\n",
    "        tf_direction.append('N/A')\n",
    "\n",
    "lisa_df['up/down-regulated'] = tf_direction"
   ]
  },
  {
   "cell_type": "code",
   "execution_count": 103,
   "metadata": {
    "scrolled": true
   },
   "outputs": [
    {
     "data": {
      "image/png": "[encoded data removed]",
      "text/plain": [
       "<Figure size 360x180 with 1 Axes>"
      ]
     },
     "metadata": {
      "needs_background": "light"
     },
     "output_type": "display_data"
    }
   ],
   "source": [
    "plt.figure(figsize=(5,2.5))\n",
    "plt.scatter(np.arange(lisa_df.shape[0]),-np.log10(lisa_df['1st Sample p-value']),s=2,c='black')\n",
    "plt.scatter(np.arange(lisa_df.shape[0])[lisa_tf_down],-np.log10(lisa_df['1st Sample p-value'])[lisa_tf_down],\n",
    "            s=1,c='blue')\n",
    "plt.scatter(np.arange(lisa_df.shape[0])[lisa_tf_up],-np.log10(lisa_df['1st Sample p-value'])[lisa_tf_up],\n",
    "            s=1,c='red')\n",
    "\n",
    "plt.xlabel('TF Ranks',fontsize=16)\n",
    "plt.ylabel(r'$-\\log_{10}(p)$',fontsize=16)\n",
    "\n",
    "sns.despine(right = True, top = True)\n",
    "plt.xticks(fontsize=14)\n",
    "plt.yticks(fontsize=14)\n",
    "plt.show()"
   ]
  },
  {
   "cell_type": "code",
   "execution_count": null,
   "metadata": {},
   "outputs": [],
   "source": []
  }
 ],
 "metadata": {
  "kernelspec": {
   "display_name": "Python 3",
   "language": "python",
   "name": "python3"
  },
  "language_info": {
   "codemirror_mode": {
    "name": "ipython",
    "version": 3
   },
   "file_extension": ".py",
   "mimetype": "text/x-python",
   "name": "python",
   "nbconvert_exporter": "python",
   "pygments_lexer": "ipython3",
   "version": "3.8.5"
  }
 },
 "nbformat": 4,
 "nbformat_minor": 4
}
